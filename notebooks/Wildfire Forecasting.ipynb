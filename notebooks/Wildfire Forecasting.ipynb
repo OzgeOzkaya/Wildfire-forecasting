{
 "cells": [
  {
   "cell_type": "markdown",
   "metadata": {
    "id": "WxORl8fKK_Es"
   },
   "source": [
    "# **Data cleaning and preprocessing**"
   ]
  },
  {
   "cell_type": "markdown",
   "metadata": {
    "id": "hovdtJoKK8U-"
   },
   "source": [
    "## Import packages"
   ]
  },
  {
   "cell_type": "code",
   "execution_count": 1,
   "metadata": {
    "id": "7ssx39UKK9fH"
   },
   "outputs": [],
   "source": [
    "import matplotlib.pyplot as plt\n",
    "import seaborn as sns\n",
    "import pandas as pd\n",
    "import numpy as np\n",
    "from sklearn.linear_model import LogisticRegression\n",
    "from sklearn import metrics\n",
    "from sklearn.model_selection import GridSearchCV\n",
    "from sklearn.tree import DecisionTreeClassifier\n",
    "\n",
    "# Shows plots in jupyter notebook\n",
    "%matplotlib inline\n",
    "\n",
    "# Set plot style\n",
    "sns.set(color_codes=True) "
   ]
  },
  {
   "cell_type": "markdown",
   "metadata": {
    "id": "6qmXrCUZLNCY"
   },
   "source": [
    "## Import Dataset"
   ]
  },
  {
   "cell_type": "code",
   "execution_count": 2,
   "metadata": {
    "colab": {
     "base_uri": "https://localhost:8080/"
    },
    "id": "pCPGITSeLIKZ",
    "outputId": "b6128dd0-c10b-43f2-8e77-4b343670ba5e"
   },
   "outputs": [],
   "source": [
    "turkey_daily_climate = pd.read_csv(\"turkey_daily_climate_data_2010_2015.csv\",keep_default_na=False,na_values=['N/A*'])"
   ]
  },
  {
   "cell_type": "markdown",
   "metadata": {
    "id": "H39qrMv_Lf94"
   },
   "source": [
    "| City                                      | City name from Turkey                                                  |\n",
    "|-------------------------------------------|------------------------------------------------------------------------|\n",
    "| **Year**                                      | Year of the record                                                     |\n",
    "| **Month**                                     | Month of the record                                                    |\n",
    "| **Day**                                       | Day of the record                                                      |\n",
    "| **Temperature avarage, Fahrenheit / Celsius** | The average temperature of the daily record in Fahrenheit and Celcius  |\n",
    "| **Temperature maximum, Fahrenheit / Celsius** | The maximum temperature of the daily record in Fahrenheit and Celcius  |\n",
    "| **Temperature minimum, Fahrenheit / Celsius** | The minimum temperature of the daily record in Fahrenheit and Celcius  |\n",
    "| **Precipitation in / cm**                     | The precipitation of the daily record in cantimeter                    |\n",
    "| **Average daily wind speed (miles/hour)**     | The average wind of the daily record in miles and hours                |\n",
    "| **Visibility in miles**                       | The visibility in miles of the daily record                            |\n",
    "| **Dew point, Fahrenheit / Celsius**           | The dew point of the daily record in Fahrenheit and Celcius            |\n",
    "| **Maximum sustained wind speed (miles/hour)** | The maximum sustained wind speed of the daily record in miles and hour |\n",
    "| **Maximum wind gust reported for the day**    | The maximum wind gust of the daily record                              |\n",
    "| **Sea level pressure in mBARs**               | The sea level of the daily record in mBARs                             |\n",
    "| **Station pressure in mBARs**                 | Station pressure of the daily record in mBARs                          |\n",
    "| **Snow depth in inches**                      | The snow depth of the daily record in inches                           |\n",
    "| **Weather type**                              | The wheather type                                                      |\n",
    "                                      "
   ]
  },
  {
   "cell_type": "code",
   "execution_count": 3,
   "metadata": {
    "colab": {
     "base_uri": "https://localhost:8080/",
     "height": 274
    },
    "id": "66gEEV57LRzQ",
    "outputId": "a81ab5ee-8c64-447e-8466-516f6ec03f48"
   },
   "outputs": [
    {
     "data": {
      "text/html": [
       "<div>\n",
       "<style scoped>\n",
       "    .dataframe tbody tr th:only-of-type {\n",
       "        vertical-align: middle;\n",
       "    }\n",
       "\n",
       "    .dataframe tbody tr th {\n",
       "        vertical-align: top;\n",
       "    }\n",
       "\n",
       "    .dataframe thead th {\n",
       "        text-align: right;\n",
       "    }\n",
       "</style>\n",
       "<table border=\"1\" class=\"dataframe\">\n",
       "  <thead>\n",
       "    <tr style=\"text-align: right;\">\n",
       "      <th></th>\n",
       "      <th>Unnamed: 0</th>\n",
       "      <th>City</th>\n",
       "      <th>Year</th>\n",
       "      <th>Month</th>\n",
       "      <th>Day</th>\n",
       "      <th>Temperature avarage, Fahrenheit / Celsius</th>\n",
       "      <th>Temperature maximum, Fahrenheit / Celsius</th>\n",
       "      <th>Temperature minimum, Fahrenheit / Celsius</th>\n",
       "      <th>Precipitation in / cm</th>\n",
       "      <th>Average daily wind speed (miles/hour)</th>\n",
       "      <th>Visibility in miles</th>\n",
       "      <th>Dew point, Fahrenheit / Celsius</th>\n",
       "      <th>Maximum sustained wind speed (miles/hour)</th>\n",
       "      <th>Maximum wind gust reported for the day</th>\n",
       "      <th>Sea level pressure in mBARs</th>\n",
       "      <th>Station pressure in mBARs</th>\n",
       "      <th>Snow depth in inches</th>\n",
       "      <th>Weather type</th>\n",
       "    </tr>\n",
       "  </thead>\n",
       "  <tbody>\n",
       "    <tr>\n",
       "      <th>0</th>\n",
       "      <td>0</td>\n",
       "      <td>Adana</td>\n",
       "      <td>2010</td>\n",
       "      <td>01,02</td>\n",
       "      <td>1</td>\n",
       "      <td>57.0/13.9</td>\n",
       "      <td>66.2/19.0</td>\n",
       "      <td>44.6/7.0</td>\n",
       "      <td>NaN</td>\n",
       "      <td>3.80</td>\n",
       "      <td>6.0</td>\n",
       "      <td>47.8/8.8</td>\n",
       "      <td>10.24</td>\n",
       "      <td>NaN</td>\n",
       "      <td>NaN</td>\n",
       "      <td>NaN</td>\n",
       "      <td>NaN</td>\n",
       "      <td>NaN</td>\n",
       "    </tr>\n",
       "    <tr>\n",
       "      <th>1</th>\n",
       "      <td>1</td>\n",
       "      <td>Adana</td>\n",
       "      <td>2010</td>\n",
       "      <td>01,02</td>\n",
       "      <td>2</td>\n",
       "      <td>59.2/15.1</td>\n",
       "      <td>66.2/19.0</td>\n",
       "      <td>51.8/11.0</td>\n",
       "      <td>NaN</td>\n",
       "      <td>4.60</td>\n",
       "      <td>6.0</td>\n",
       "      <td>53.2/11.8</td>\n",
       "      <td>16.11</td>\n",
       "      <td>NaN</td>\n",
       "      <td>NaN</td>\n",
       "      <td>NaN</td>\n",
       "      <td>NaN</td>\n",
       "      <td>Rain/Drizzle</td>\n",
       "    </tr>\n",
       "    <tr>\n",
       "      <th>2</th>\n",
       "      <td>2</td>\n",
       "      <td>Adana</td>\n",
       "      <td>2010</td>\n",
       "      <td>01,02</td>\n",
       "      <td>3</td>\n",
       "      <td>60.7/15.9</td>\n",
       "      <td>68.0/20.0</td>\n",
       "      <td>53.6/12.0</td>\n",
       "      <td>NaN</td>\n",
       "      <td>7.25</td>\n",
       "      <td>5.0</td>\n",
       "      <td>42.8/6.0</td>\n",
       "      <td>16.11</td>\n",
       "      <td>NaN</td>\n",
       "      <td>NaN</td>\n",
       "      <td>NaN</td>\n",
       "      <td>NaN</td>\n",
       "      <td>Rain/Drizzle</td>\n",
       "    </tr>\n",
       "  </tbody>\n",
       "</table>\n",
       "</div>"
      ],
      "text/plain": [
       "   Unnamed: 0   City  Year  Month  Day  \\\n",
       "0           0  Adana  2010  01,02    1   \n",
       "1           1  Adana  2010  01,02    2   \n",
       "2           2  Adana  2010  01,02    3   \n",
       "\n",
       "  Temperature avarage, Fahrenheit / Celsius  \\\n",
       "0                                 57.0/13.9   \n",
       "1                                 59.2/15.1   \n",
       "2                                 60.7/15.9   \n",
       "\n",
       "  Temperature maximum, Fahrenheit / Celsius  \\\n",
       "0                                 66.2/19.0   \n",
       "1                                 66.2/19.0   \n",
       "2                                 68.0/20.0   \n",
       "\n",
       "  Temperature minimum, Fahrenheit / Celsius Precipitation in / cm  \\\n",
       "0                                  44.6/7.0                   NaN   \n",
       "1                                 51.8/11.0                   NaN   \n",
       "2                                 53.6/12.0                   NaN   \n",
       "\n",
       "   Average daily wind speed (miles/hour)  Visibility in miles  \\\n",
       "0                                   3.80                  6.0   \n",
       "1                                   4.60                  6.0   \n",
       "2                                   7.25                  5.0   \n",
       "\n",
       "  Dew point, Fahrenheit / Celsius  Maximum sustained wind speed (miles/hour)  \\\n",
       "0                        47.8/8.8                                      10.24   \n",
       "1                       53.2/11.8                                      16.11   \n",
       "2                        42.8/6.0                                      16.11   \n",
       "\n",
       "   Maximum wind gust reported for the day  Sea level pressure in mBARs  \\\n",
       "0                                     NaN                          NaN   \n",
       "1                                     NaN                          NaN   \n",
       "2                                     NaN                          NaN   \n",
       "\n",
       "   Station pressure in mBARs  Snow depth in inches  Weather type  \n",
       "0                        NaN                   NaN           NaN  \n",
       "1                        NaN                   NaN  Rain/Drizzle  \n",
       "2                        NaN                   NaN  Rain/Drizzle  "
      ]
     },
     "execution_count": 3,
     "metadata": {},
     "output_type": "execute_result"
    }
   ],
   "source": [
    "turkey_daily_climate.head(3)"
   ]
  },
  {
   "cell_type": "markdown",
   "metadata": {
    "id": "LKtlq0NbNjRg"
   },
   "source": [
    "## Descriptive statistics of data"
   ]
  },
  {
   "cell_type": "code",
   "execution_count": 4,
   "metadata": {
    "colab": {
     "base_uri": "https://localhost:8080/"
    },
    "id": "QYxI1_W7NdMh",
    "outputId": "87fb489b-fbf7-43b2-8186-7780ae113711"
   },
   "outputs": [
    {
     "name": "stdout",
     "output_type": "stream",
     "text": [
      "<class 'pandas.core.frame.DataFrame'>\n",
      "RangeIndex: 139460 entries, 0 to 139459\n",
      "Data columns (total 18 columns):\n",
      " #   Column                                     Non-Null Count   Dtype  \n",
      "---  ------                                     --------------   -----  \n",
      " 0   Unnamed: 0                                 139460 non-null  int64  \n",
      " 1   City                                       139460 non-null  object \n",
      " 2   Year                                       139460 non-null  int64  \n",
      " 3   Month                                      139460 non-null  object \n",
      " 4   Day                                        139460 non-null  int64  \n",
      " 5   Temperature avarage, Fahrenheit / Celsius  139460 non-null  object \n",
      " 6   Temperature maximum, Fahrenheit / Celsius  139460 non-null  object \n",
      " 7   Temperature minimum, Fahrenheit / Celsius  139460 non-null  object \n",
      " 8   Precipitation in / cm                      62396 non-null   object \n",
      " 9   Average daily wind speed (miles/hour)      133760 non-null  float64\n",
      " 10  Visibility in miles                        133608 non-null  float64\n",
      " 11  Dew point, Fahrenheit / Celsius            139460 non-null  object \n",
      " 12  Maximum sustained wind speed (miles/hour)  133760 non-null  float64\n",
      " 13  Maximum wind gust reported for the day     5244 non-null    float64\n",
      " 14  Sea level pressure in mBARs                0 non-null       float64\n",
      " 15  Station pressure in mBARs                  0 non-null       float64\n",
      " 16  Snow depth in inches                       0 non-null       float64\n",
      " 17  Weather type                               28728 non-null   object \n",
      "dtypes: float64(7), int64(3), object(8)\n",
      "memory usage: 19.2+ MB\n"
     ]
    }
   ],
   "source": [
    "turkey_daily_climate.info()"
   ]
  },
  {
   "cell_type": "code",
   "execution_count": 5,
   "metadata": {
    "id": "LRsjqEWEOIMk"
   },
   "outputs": [],
   "source": [
    "turkey_daily_climate[\"Average daily wind speed (miles/hour)\"] = pd.to_numeric(turkey_daily_climate[\"Average daily wind speed (miles/hour)\"])\n",
    "turkey_daily_climate[\"Visibility in miles\"] = pd.to_numeric(turkey_daily_climate[\"Visibility in miles\"])\n",
    "turkey_daily_climate[\"Maximum sustained wind speed (miles/hour)\"] = pd.to_numeric(turkey_daily_climate[\"Maximum sustained wind speed (miles/hour)\"])\n",
    "turkey_daily_climate[\"Maximum wind gust reported for the day\"] = pd.to_numeric(turkey_daily_climate[\"Maximum wind gust reported for the day\"])"
   ]
  },
  {
   "cell_type": "code",
   "execution_count": 6,
   "metadata": {
    "id": "HzTGRIU7NmHw"
   },
   "outputs": [],
   "source": [
    "# Drop unnecessary columns\n",
    "turkey_daily_climate.drop(columns = ['Unnamed: 0','Sea level pressure in mBARs', 'Station pressure in mBARs', 'Snow depth in inches'], inplace = True)"
   ]
  },
  {
   "cell_type": "code",
   "execution_count": 7,
   "metadata": {
    "colab": {
     "base_uri": "https://localhost:8080/",
     "height": 208
    },
    "id": "gLsvizplNw0M",
    "outputId": "f560c14c-dd0d-48ed-edd9-d26b745d31a6"
   },
   "outputs": [
    {
     "data": {
      "text/html": [
       "<div>\n",
       "<style scoped>\n",
       "    .dataframe tbody tr th:only-of-type {\n",
       "        vertical-align: middle;\n",
       "    }\n",
       "\n",
       "    .dataframe tbody tr th {\n",
       "        vertical-align: top;\n",
       "    }\n",
       "\n",
       "    .dataframe thead th {\n",
       "        text-align: right;\n",
       "    }\n",
       "</style>\n",
       "<table border=\"1\" class=\"dataframe\">\n",
       "  <thead>\n",
       "    <tr style=\"text-align: right;\">\n",
       "      <th></th>\n",
       "      <th>City</th>\n",
       "      <th>Year</th>\n",
       "      <th>Month</th>\n",
       "      <th>Day</th>\n",
       "      <th>Temperature avarage, Fahrenheit / Celsius</th>\n",
       "      <th>Temperature maximum, Fahrenheit / Celsius</th>\n",
       "      <th>Temperature minimum, Fahrenheit / Celsius</th>\n",
       "      <th>Precipitation in / cm</th>\n",
       "      <th>Average daily wind speed (miles/hour)</th>\n",
       "      <th>Visibility in miles</th>\n",
       "      <th>Dew point, Fahrenheit / Celsius</th>\n",
       "      <th>Maximum sustained wind speed (miles/hour)</th>\n",
       "      <th>Maximum wind gust reported for the day</th>\n",
       "      <th>Weather type</th>\n",
       "    </tr>\n",
       "  </thead>\n",
       "  <tbody>\n",
       "    <tr>\n",
       "      <th>0</th>\n",
       "      <td>Adana</td>\n",
       "      <td>2010</td>\n",
       "      <td>01,02</td>\n",
       "      <td>1</td>\n",
       "      <td>57.0/13.9</td>\n",
       "      <td>66.2/19.0</td>\n",
       "      <td>44.6/7.0</td>\n",
       "      <td>NaN</td>\n",
       "      <td>3.8</td>\n",
       "      <td>6.0</td>\n",
       "      <td>47.8/8.8</td>\n",
       "      <td>10.24</td>\n",
       "      <td>NaN</td>\n",
       "      <td>NaN</td>\n",
       "    </tr>\n",
       "    <tr>\n",
       "      <th>1</th>\n",
       "      <td>Adana</td>\n",
       "      <td>2010</td>\n",
       "      <td>01,02</td>\n",
       "      <td>2</td>\n",
       "      <td>59.2/15.1</td>\n",
       "      <td>66.2/19.0</td>\n",
       "      <td>51.8/11.0</td>\n",
       "      <td>NaN</td>\n",
       "      <td>4.6</td>\n",
       "      <td>6.0</td>\n",
       "      <td>53.2/11.8</td>\n",
       "      <td>16.11</td>\n",
       "      <td>NaN</td>\n",
       "      <td>Rain/Drizzle</td>\n",
       "    </tr>\n",
       "  </tbody>\n",
       "</table>\n",
       "</div>"
      ],
      "text/plain": [
       "    City  Year  Month  Day Temperature avarage, Fahrenheit / Celsius  \\\n",
       "0  Adana  2010  01,02    1                                 57.0/13.9   \n",
       "1  Adana  2010  01,02    2                                 59.2/15.1   \n",
       "\n",
       "  Temperature maximum, Fahrenheit / Celsius  \\\n",
       "0                                 66.2/19.0   \n",
       "1                                 66.2/19.0   \n",
       "\n",
       "  Temperature minimum, Fahrenheit / Celsius Precipitation in / cm  \\\n",
       "0                                  44.6/7.0                   NaN   \n",
       "1                                 51.8/11.0                   NaN   \n",
       "\n",
       "   Average daily wind speed (miles/hour)  Visibility in miles  \\\n",
       "0                                    3.8                  6.0   \n",
       "1                                    4.6                  6.0   \n",
       "\n",
       "  Dew point, Fahrenheit / Celsius  Maximum sustained wind speed (miles/hour)  \\\n",
       "0                        47.8/8.8                                      10.24   \n",
       "1                       53.2/11.8                                      16.11   \n",
       "\n",
       "   Maximum wind gust reported for the day  Weather type  \n",
       "0                                     NaN           NaN  \n",
       "1                                     NaN  Rain/Drizzle  "
      ]
     },
     "execution_count": 7,
     "metadata": {},
     "output_type": "execute_result"
    }
   ],
   "source": [
    "turkey_daily_climate.head(2)"
   ]
  },
  {
   "cell_type": "code",
   "execution_count": 8,
   "metadata": {
    "colab": {
     "base_uri": "https://localhost:8080/",
     "height": 238
    },
    "id": "JhmaJGEzNpZ8",
    "outputId": "440bc5e0-7448-48d8-df81-d5bc5484332d"
   },
   "outputs": [
    {
     "data": {
      "text/html": [
       "<div>\n",
       "<style scoped>\n",
       "    .dataframe tbody tr th:only-of-type {\n",
       "        vertical-align: middle;\n",
       "    }\n",
       "\n",
       "    .dataframe tbody tr th {\n",
       "        vertical-align: top;\n",
       "    }\n",
       "\n",
       "    .dataframe thead th {\n",
       "        text-align: right;\n",
       "    }\n",
       "</style>\n",
       "<table border=\"1\" class=\"dataframe\">\n",
       "  <thead>\n",
       "    <tr style=\"text-align: right;\">\n",
       "      <th></th>\n",
       "      <th>count</th>\n",
       "      <th>mean</th>\n",
       "      <th>std</th>\n",
       "      <th>min</th>\n",
       "      <th>25%</th>\n",
       "      <th>50%</th>\n",
       "      <th>75%</th>\n",
       "      <th>max</th>\n",
       "    </tr>\n",
       "  </thead>\n",
       "  <tbody>\n",
       "    <tr>\n",
       "      <th>Year</th>\n",
       "      <td>139460.0</td>\n",
       "      <td>2012.498960</td>\n",
       "      <td>1.707425</td>\n",
       "      <td>2010.00</td>\n",
       "      <td>2011.00</td>\n",
       "      <td>2012.00</td>\n",
       "      <td>2014.00</td>\n",
       "      <td>2015.00</td>\n",
       "    </tr>\n",
       "    <tr>\n",
       "      <th>Day</th>\n",
       "      <td>139460.0</td>\n",
       "      <td>15.821691</td>\n",
       "      <td>8.845933</td>\n",
       "      <td>1.00</td>\n",
       "      <td>8.00</td>\n",
       "      <td>16.00</td>\n",
       "      <td>23.00</td>\n",
       "      <td>31.00</td>\n",
       "    </tr>\n",
       "    <tr>\n",
       "      <th>Average daily wind speed (miles/hour)</th>\n",
       "      <td>133760.0</td>\n",
       "      <td>5.628625</td>\n",
       "      <td>2.034685</td>\n",
       "      <td>1.61</td>\n",
       "      <td>4.37</td>\n",
       "      <td>5.41</td>\n",
       "      <td>6.33</td>\n",
       "      <td>18.87</td>\n",
       "    </tr>\n",
       "    <tr>\n",
       "      <th>Visibility in miles</th>\n",
       "      <td>133608.0</td>\n",
       "      <td>5.708191</td>\n",
       "      <td>1.133651</td>\n",
       "      <td>1.00</td>\n",
       "      <td>5.00</td>\n",
       "      <td>6.00</td>\n",
       "      <td>6.00</td>\n",
       "      <td>7.00</td>\n",
       "    </tr>\n",
       "    <tr>\n",
       "      <th>Maximum sustained wind speed (miles/hour)</th>\n",
       "      <td>133760.0</td>\n",
       "      <td>13.137761</td>\n",
       "      <td>3.770573</td>\n",
       "      <td>4.72</td>\n",
       "      <td>10.24</td>\n",
       "      <td>12.77</td>\n",
       "      <td>14.96</td>\n",
       "      <td>32.22</td>\n",
       "    </tr>\n",
       "    <tr>\n",
       "      <th>Maximum wind gust reported for the day</th>\n",
       "      <td>5244.0</td>\n",
       "      <td>29.880000</td>\n",
       "      <td>7.439626</td>\n",
       "      <td>16.11</td>\n",
       "      <td>24.17</td>\n",
       "      <td>29.92</td>\n",
       "      <td>34.41</td>\n",
       "      <td>52.94</td>\n",
       "    </tr>\n",
       "  </tbody>\n",
       "</table>\n",
       "</div>"
      ],
      "text/plain": [
       "                                              count         mean       std  \\\n",
       "Year                                       139460.0  2012.498960  1.707425   \n",
       "Day                                        139460.0    15.821691  8.845933   \n",
       "Average daily wind speed (miles/hour)      133760.0     5.628625  2.034685   \n",
       "Visibility in miles                        133608.0     5.708191  1.133651   \n",
       "Maximum sustained wind speed (miles/hour)  133760.0    13.137761  3.770573   \n",
       "Maximum wind gust reported for the day       5244.0    29.880000  7.439626   \n",
       "\n",
       "                                               min      25%      50%      75%  \\\n",
       "Year                                       2010.00  2011.00  2012.00  2014.00   \n",
       "Day                                           1.00     8.00    16.00    23.00   \n",
       "Average daily wind speed (miles/hour)         1.61     4.37     5.41     6.33   \n",
       "Visibility in miles                           1.00     5.00     6.00     6.00   \n",
       "Maximum sustained wind speed (miles/hour)     4.72    10.24    12.77    14.96   \n",
       "Maximum wind gust reported for the day       16.11    24.17    29.92    34.41   \n",
       "\n",
       "                                               max  \n",
       "Year                                       2015.00  \n",
       "Day                                          31.00  \n",
       "Average daily wind speed (miles/hour)        18.87  \n",
       "Visibility in miles                           7.00  \n",
       "Maximum sustained wind speed (miles/hour)    32.22  \n",
       "Maximum wind gust reported for the day       52.94  "
      ]
     },
     "execution_count": 8,
     "metadata": {},
     "output_type": "execute_result"
    }
   ],
   "source": [
    "turkey_daily_climate.describe().T"
   ]
  },
  {
   "cell_type": "code",
   "execution_count": 9,
   "metadata": {
    "colab": {
     "base_uri": "https://localhost:8080/"
    },
    "id": "sK59d5uUNuNE",
    "outputId": "ca3a8146-904e-45e9-b9bc-064535571728"
   },
   "outputs": [
    {
     "data": {
      "text/plain": [
       "0"
      ]
     },
     "execution_count": 9,
     "metadata": {},
     "output_type": "execute_result"
    }
   ],
   "source": [
    "# Check duplicated\n",
    "turkey_daily_climate.duplicated().sum()"
   ]
  },
  {
   "cell_type": "code",
   "execution_count": 10,
   "metadata": {
    "colab": {
     "base_uri": "https://localhost:8080/"
    },
    "id": "b3RvMCLDO8um",
    "outputId": "671e2177-c924-4667-d075-dd47a6f017a0"
   },
   "outputs": [
    {
     "data": {
      "text/plain": [
       "City                                              0\n",
       "Year                                              0\n",
       "Month                                             0\n",
       "Day                                               0\n",
       "Temperature avarage, Fahrenheit / Celsius         0\n",
       "Temperature maximum, Fahrenheit / Celsius         0\n",
       "Temperature minimum, Fahrenheit / Celsius         0\n",
       "Precipitation in / cm                         77064\n",
       "Average daily wind speed (miles/hour)          5700\n",
       "Visibility in miles                            5852\n",
       "Dew point, Fahrenheit / Celsius                   0\n",
       "Maximum sustained wind speed (miles/hour)      5700\n",
       "Maximum wind gust reported for the day       134216\n",
       "Weather type                                 110732\n",
       "dtype: int64"
      ]
     },
     "execution_count": 10,
     "metadata": {},
     "output_type": "execute_result"
    }
   ],
   "source": [
    "# Check missing values\n",
    "turkey_daily_climate.isnull().sum()"
   ]
  },
  {
   "cell_type": "markdown",
   "metadata": {},
   "source": [
    "*Observing columns one by one*"
   ]
  },
  {
   "cell_type": "markdown",
   "metadata": {
    "id": "wyyczCRcRBjR"
   },
   "source": [
    "**City**"
   ]
  },
  {
   "cell_type": "code",
   "execution_count": 11,
   "metadata": {
    "colab": {
     "base_uri": "https://localhost:8080/"
    },
    "id": "_5PQdmtMPBCF",
    "outputId": "5c06f375-18e5-425a-9370-437fd21d3d5a"
   },
   "outputs": [
    {
     "data": {
      "text/plain": [
       "array(['Adana', 'Adiyaman', 'Afyonkarahisar', 'Agri', 'Amasya',\n",
       "       'Ankara/Central', 'Antalya', 'Artvin', 'Aydin', 'Balikesir',\n",
       "       'Bilecik', 'Bingol', 'Bolu', 'Burdur', 'Bursa', 'Canakkale',\n",
       "       'Cankiri', 'Corum', 'Denizli', 'Diyarbakir', 'Edirne', 'Elazig',\n",
       "       'Erzincan', 'Erzurum', 'Eskisehir', 'Gap', 'Sanliurfa', 'Giresun',\n",
       "       'Gumushane', 'Hakkari', 'Hatay', 'Isparta', 'Istanbul', 'Mersin',\n",
       "       'Izmir', 'Kars', 'Kastamonu', 'Kayseri', 'Kirklareli', 'Kirsehir',\n",
       "       'Kocaeli', 'Konya', 'Kutahya', 'Malatya', 'Manisa',\n",
       "       'Kahramanmaras', 'Mardin', 'Mugla', 'Mus', 'Nevsehir', 'Nigde',\n",
       "       'Ordu', 'Rize', 'Sakarya', 'Samsun', 'Siirt', 'Sinop', 'Sivas',\n",
       "       'Tekirdag', 'Tokat', 'Trabzon', 'Tunceli', 'Usak', 'Van', 'Yozgat',\n",
       "       'Zonguldak', 'Bayburt', 'Kirikkale', 'Batman'], dtype=object)"
      ]
     },
     "execution_count": 11,
     "metadata": {},
     "output_type": "execute_result"
    }
   ],
   "source": [
    "turkey_daily_climate.City.unique()"
   ]
  },
  {
   "cell_type": "code",
   "execution_count": 12,
   "metadata": {
    "colab": {
     "base_uri": "https://localhost:8080/"
    },
    "id": "DyuWRq5tO6kJ",
    "outputId": "32c9e44e-94da-4d20-b82c-2f8bae454d2d"
   },
   "outputs": [
    {
     "data": {
      "text/plain": [
       "69"
      ]
     },
     "execution_count": 12,
     "metadata": {},
     "output_type": "execute_result"
    }
   ],
   "source": [
    "len(turkey_daily_climate.City.unique())"
   ]
  },
  {
   "cell_type": "markdown",
   "metadata": {},
   "source": [
    "*There are 69 different cities.*"
   ]
  },
  {
   "cell_type": "code",
   "execution_count": 13,
   "metadata": {
    "id": "z8gIdEA5PEoR"
   },
   "outputs": [],
   "source": [
    "city_map = {\"City\" : {'Ankara/Central':'Ankara'}}\n",
    "turkey_daily_climate = turkey_daily_climate.replace(city_map)"
   ]
  },
  {
   "cell_type": "markdown",
   "metadata": {
    "id": "RmpiFMTiRC6V"
   },
   "source": [
    "**Year**"
   ]
  },
  {
   "cell_type": "code",
   "execution_count": 14,
   "metadata": {
    "colab": {
     "base_uri": "https://localhost:8080/",
     "height": 238
    },
    "id": "TSG-lp0iRDvt",
    "outputId": "c4b032d2-ef85-45b7-a671-2cd090ad0bfc"
   },
   "outputs": [
    {
     "data": {
      "text/html": [
       "<div>\n",
       "<style scoped>\n",
       "    .dataframe tbody tr th:only-of-type {\n",
       "        vertical-align: middle;\n",
       "    }\n",
       "\n",
       "    .dataframe tbody tr th {\n",
       "        vertical-align: top;\n",
       "    }\n",
       "\n",
       "    .dataframe thead th {\n",
       "        text-align: right;\n",
       "    }\n",
       "</style>\n",
       "<table border=\"1\" class=\"dataframe\">\n",
       "  <thead>\n",
       "    <tr style=\"text-align: right;\">\n",
       "      <th></th>\n",
       "      <th>Year</th>\n",
       "    </tr>\n",
       "  </thead>\n",
       "  <tbody>\n",
       "    <tr>\n",
       "      <th>2010</th>\n",
       "      <td>23253</td>\n",
       "    </tr>\n",
       "    <tr>\n",
       "      <th>2011</th>\n",
       "      <td>23253</td>\n",
       "    </tr>\n",
       "    <tr>\n",
       "      <th>2012</th>\n",
       "      <td>23253</td>\n",
       "    </tr>\n",
       "    <tr>\n",
       "      <th>2013</th>\n",
       "      <td>23253</td>\n",
       "    </tr>\n",
       "    <tr>\n",
       "      <th>2014</th>\n",
       "      <td>23253</td>\n",
       "    </tr>\n",
       "    <tr>\n",
       "      <th>2015</th>\n",
       "      <td>23195</td>\n",
       "    </tr>\n",
       "  </tbody>\n",
       "</table>\n",
       "</div>"
      ],
      "text/plain": [
       "       Year\n",
       "2010  23253\n",
       "2011  23253\n",
       "2012  23253\n",
       "2013  23253\n",
       "2014  23253\n",
       "2015  23195"
      ]
     },
     "execution_count": 14,
     "metadata": {},
     "output_type": "execute_result"
    }
   ],
   "source": [
    "pd.DataFrame(turkey_daily_climate.Year.value_counts())"
   ]
  },
  {
   "cell_type": "markdown",
   "metadata": {
    "id": "l_j57p6jRJKQ"
   },
   "source": [
    "**Month**"
   ]
  },
  {
   "cell_type": "code",
   "execution_count": 15,
   "metadata": {
    "colab": {
     "base_uri": "https://localhost:8080/"
    },
    "id": "G4L43BHDRHr6",
    "outputId": "19a31fc0-78d9-42c9-a2bf-939e4f2902e8"
   },
   "outputs": [
    {
     "data": {
      "text/plain": [
       "array(['01,02', '03', '04', '05', '06', '07', '08', '09', '10', '11',\n",
       "       '12'], dtype=object)"
      ]
     },
     "execution_count": 15,
     "metadata": {},
     "output_type": "execute_result"
    }
   ],
   "source": [
    "turkey_daily_climate.Month.unique()"
   ]
  },
  {
   "cell_type": "markdown",
   "metadata": {},
   "source": [
    "*We will seperate 01 and 02*"
   ]
  },
  {
   "cell_type": "code",
   "execution_count": 16,
   "metadata": {
    "id": "bmyH4sKXRL2v"
   },
   "outputs": [],
   "source": [
    "turkey_daily_climate['Month'] = turkey_daily_climate['Month'].str.split(',').str[0]"
   ]
  },
  {
   "cell_type": "code",
   "execution_count": 17,
   "metadata": {
    "colab": {
     "base_uri": "https://localhost:8080/"
    },
    "id": "IDVw7DpbROjI",
    "outputId": "a3ef814d-cb96-4d2d-aa4c-1dbddb04782c"
   },
   "outputs": [
    {
     "data": {
      "text/plain": [
       "array(['01', '03', '04', '05', '06', '07', '08', '09', '10', '11', '12'],\n",
       "      dtype=object)"
      ]
     },
     "execution_count": 17,
     "metadata": {},
     "output_type": "execute_result"
    }
   ],
   "source": [
    "turkey_daily_climate.Month.unique()"
   ]
  },
  {
   "cell_type": "code",
   "execution_count": 18,
   "metadata": {
    "colab": {
     "base_uri": "https://localhost:8080/"
    },
    "id": "f6hMPXxRRR3n",
    "outputId": "ddf41e57-fc69-40ac-b119-6d05cb17a71b"
   },
   "outputs": [
    {
     "name": "stderr",
     "output_type": "stream",
     "text": [
      "C:\\Users\\Hale Afra İRİŞ\\AppData\\Local\\Temp\\ipykernel_13284\\4255666511.py:2: SettingWithCopyWarning: \n",
      "A value is trying to be set on a copy of a slice from a DataFrame.\n",
      "Try using .loc[row_indexer,col_indexer] = value instead\n",
      "\n",
      "See the caveats in the documentation: https://pandas.pydata.org/pandas-docs/stable/user_guide/indexing.html#returning-a-view-versus-a-copy\n",
      "  adjust_df['Month'] = adjust_df['Month'].replace(['01'],'02')\n"
     ]
    }
   ],
   "source": [
    "adjust_df = turkey_daily_climate[turkey_daily_climate['Month'] == '01']\n",
    "adjust_df['Month'] = adjust_df['Month'].replace(['01'],'02')\n",
    "frames = [turkey_daily_climate, adjust_df]\n",
    "turkey_daily_climate = pd.concat(frames, ignore_index = True)"
   ]
  },
  {
   "cell_type": "code",
   "execution_count": 19,
   "metadata": {
    "colab": {
     "base_uri": "https://localhost:8080/"
    },
    "id": "S7JRl6OXRcse",
    "outputId": "654f6c6f-9154-45f9-9257-8a3934681be7"
   },
   "outputs": [
    {
     "data": {
      "text/plain": [
       "array(['01', '03', '04', '05', '06', '07', '08', '09', '10', '11', '12',\n",
       "       '02'], dtype=object)"
      ]
     },
     "execution_count": 19,
     "metadata": {},
     "output_type": "execute_result"
    }
   ],
   "source": [
    "turkey_daily_climate.Month.unique()"
   ]
  },
  {
   "cell_type": "markdown",
   "metadata": {
    "id": "7P5LmSEgRhET"
   },
   "source": [
    "**Date**"
   ]
  },
  {
   "cell_type": "code",
   "execution_count": 20,
   "metadata": {
    "colab": {
     "base_uri": "https://localhost:8080/"
    },
    "id": "BzhJy3JKRel7",
    "outputId": "ee7babf9-a7e7-4076-bcbe-ccbfe7c19eea"
   },
   "outputs": [
    {
     "data": {
      "text/plain": [
       "array([ 1,  2,  3,  4,  5,  6,  7,  8,  9, 10, 11, 12, 13, 14, 15, 16, 17,\n",
       "       18, 19, 20, 21, 22, 23, 24, 25, 26, 27, 28, 29, 30, 31],\n",
       "      dtype=int64)"
      ]
     },
     "execution_count": 20,
     "metadata": {},
     "output_type": "execute_result"
    }
   ],
   "source": [
    "turkey_daily_climate.Day.unique()"
   ]
  },
  {
   "cell_type": "markdown",
   "metadata": {},
   "source": [
    "*We create date column using 'Day', 'Month' and 'Year' columns.*"
   ]
  },
  {
   "cell_type": "code",
   "execution_count": 21,
   "metadata": {
    "id": "36KDy-OTRk0S"
   },
   "outputs": [],
   "source": [
    "turkey_daily_climate['Day'] = turkey_daily_climate['Day'].astype(str)\n",
    "day_map = {\"Day\" : {'1':'01', '2':'02', '3':'03', '4':'04', '5':'05', '6':'06', '7':'07', '8':'08', '9':'09'}}\n",
    "turkey_daily_climate = turkey_daily_climate.replace(day_map)\n",
    "turkey_daily_climate['Date'] = turkey_daily_climate['Year'].astype(str) + '-' + turkey_daily_climate['Month'].astype(str) + '-' + turkey_daily_climate['Day']"
   ]
  },
  {
   "cell_type": "code",
   "execution_count": 22,
   "metadata": {
    "colab": {
     "base_uri": "https://localhost:8080/"
    },
    "id": "mhzm277DRrfO",
    "outputId": "1f70ccc5-3f8c-4de6-e881-215f9f3dd69b"
   },
   "outputs": [
    {
     "data": {
      "text/plain": [
       "0         2010-01-01\n",
       "1         2010-01-02\n",
       "2         2010-01-03\n",
       "3         2010-01-04\n",
       "4         2010-01-05\n",
       "             ...    \n",
       "152289    2015-02-27\n",
       "152290    2015-02-28\n",
       "152291    2015-02-29\n",
       "152292    2015-02-30\n",
       "152293    2015-02-31\n",
       "Name: Date, Length: 152294, dtype: object"
      ]
     },
     "execution_count": 22,
     "metadata": {},
     "output_type": "execute_result"
    }
   ],
   "source": [
    "turkey_daily_climate.Date"
   ]
  },
  {
   "cell_type": "markdown",
   "metadata": {
    "id": "VF1c9mwZRv0o"
   },
   "source": [
    "**Temperature avarage, Fahrenheit / Celsius**"
   ]
  },
  {
   "cell_type": "markdown",
   "metadata": {},
   "source": [
    "*There are two temperature average values which is Fahrenheit and Celsius. We will select Celsius and delete the Fahrenheit.*"
   ]
  },
  {
   "cell_type": "code",
   "execution_count": 23,
   "metadata": {
    "colab": {
     "base_uri": "https://localhost:8080/",
     "height": 206
    },
    "id": "m4CU64zrRyEP",
    "outputId": "3bf07b9e-83ee-4d39-d09e-e6bd12f555dc"
   },
   "outputs": [
    {
     "data": {
      "text/html": [
       "<div>\n",
       "<style scoped>\n",
       "    .dataframe tbody tr th:only-of-type {\n",
       "        vertical-align: middle;\n",
       "    }\n",
       "\n",
       "    .dataframe tbody tr th {\n",
       "        vertical-align: top;\n",
       "    }\n",
       "\n",
       "    .dataframe thead th {\n",
       "        text-align: right;\n",
       "    }\n",
       "</style>\n",
       "<table border=\"1\" class=\"dataframe\">\n",
       "  <thead>\n",
       "    <tr style=\"text-align: right;\">\n",
       "      <th></th>\n",
       "      <th>Temperature avarage, Fahrenheit / Celsius</th>\n",
       "      <th>TempAvgCel</th>\n",
       "    </tr>\n",
       "  </thead>\n",
       "  <tbody>\n",
       "    <tr>\n",
       "      <th>0</th>\n",
       "      <td>57.0/13.9</td>\n",
       "      <td>13.9</td>\n",
       "    </tr>\n",
       "    <tr>\n",
       "      <th>1</th>\n",
       "      <td>59.2/15.1</td>\n",
       "      <td>15.1</td>\n",
       "    </tr>\n",
       "    <tr>\n",
       "      <th>2</th>\n",
       "      <td>60.7/15.9</td>\n",
       "      <td>15.9</td>\n",
       "    </tr>\n",
       "    <tr>\n",
       "      <th>3</th>\n",
       "      <td>57.3/14.1</td>\n",
       "      <td>14.1</td>\n",
       "    </tr>\n",
       "    <tr>\n",
       "      <th>4</th>\n",
       "      <td>55.0/12.8</td>\n",
       "      <td>12.8</td>\n",
       "    </tr>\n",
       "  </tbody>\n",
       "</table>\n",
       "</div>"
      ],
      "text/plain": [
       "  Temperature avarage, Fahrenheit / Celsius TempAvgCel\n",
       "0                                 57.0/13.9       13.9\n",
       "1                                 59.2/15.1       15.1\n",
       "2                                 60.7/15.9       15.9\n",
       "3                                 57.3/14.1       14.1\n",
       "4                                 55.0/12.8       12.8"
      ]
     },
     "execution_count": 23,
     "metadata": {},
     "output_type": "execute_result"
    }
   ],
   "source": [
    "turkey_daily_climate['Temperature avarage, Fahrenheit / Celsius']\n",
    "turkey_daily_climate['TempAvgCel'] = turkey_daily_climate['Temperature avarage, Fahrenheit / Celsius'].str.split('/').str[1]\n",
    "turkey_daily_climate[['Temperature avarage, Fahrenheit / Celsius', 'TempAvgCel']].head(5)"
   ]
  },
  {
   "cell_type": "code",
   "execution_count": 24,
   "metadata": {
    "id": "w7CbC3c0R3U-"
   },
   "outputs": [],
   "source": [
    "# Dropping 'Temperature avarage, Fahrenheit / Celsius' column\n",
    "turkey_daily_climate.drop(columns = ['Temperature avarage, Fahrenheit / Celsius'], inplace = True)\n",
    "turkey_daily_climate['TempAvgCel'] = turkey_daily_climate['TempAvgCel'].astype(float) "
   ]
  },
  {
   "cell_type": "code",
   "execution_count": 25,
   "metadata": {
    "colab": {
     "base_uri": "https://localhost:8080/",
     "height": 410
    },
    "id": "9xFlo8gIR5gc",
    "outputId": "58ac3a93-61c7-4394-9efa-4d35cb1393df"
   },
   "outputs": [
    {
     "name": "stderr",
     "output_type": "stream",
     "text": [
      "C:\\ProgramData\\Anaconda3\\lib\\site-packages\\seaborn\\distributions.py:2619: FutureWarning: `distplot` is a deprecated function and will be removed in a future version. Please adapt your code to use either `displot` (a figure-level function with similar flexibility) or `histplot` (an axes-level function for histograms).\n",
      "  warnings.warn(msg, FutureWarning)\n"
     ]
    },
    {
     "data": {
      "image/png": "[encoded data removed]",
      "text/plain": [
       "<Figure size 1440x360 with 2 Axes>"
      ]
     },
     "metadata": {},
     "output_type": "display_data"
    }
   ],
   "source": [
    "fig, axes = plt.subplots(1, 2, figsize=(20, 5), sharey=False)\n",
    "# fig.suptitle('Box & Distribution Plots')\n",
    "\n",
    "# Box Plot\n",
    "sns.boxplot(ax=axes[0], x = turkey_daily_climate.TempAvgCel)\n",
    "axes[0].set_title('TempAvgCel Box Plot')\n",
    "\n",
    "# Distribution Plot\n",
    "sns.distplot(ax=axes[1], x = turkey_daily_climate.TempAvgCel)\n",
    "axes[1].set_title('TempAvgCel Dist Plot')\n",
    "\n",
    "plt.show()"
   ]
  },
  {
   "cell_type": "markdown",
   "metadata": {
    "id": "_6G4qsHtSYqb"
   },
   "source": [
    "**Temperature maximum, Fahrenheit / Celsius**"
   ]
  },
  {
   "cell_type": "markdown",
   "metadata": {},
   "source": [
    "*There are two temperature maximum values which is Fahrenheit and Celsius. We will select Celsius and delete the Fahrenheit.*"
   ]
  },
  {
   "cell_type": "code",
   "execution_count": 26,
   "metadata": {
    "colab": {
     "base_uri": "https://localhost:8080/"
    },
    "id": "LqakrhMGSP5L",
    "outputId": "e2cca6c1-92a5-4126-e9ec-b885fa3e65e4"
   },
   "outputs": [
    {
     "data": {
      "text/plain": [
       "0         66.2/19.0\n",
       "1         66.2/19.0\n",
       "2         68.0/20.0\n",
       "3         66.2/19.0\n",
       "4         59.0/15.0\n",
       "            ...    \n",
       "152289    65.1/18.4\n",
       "152290    68.5/20.3\n",
       "152291    74.7/23.7\n",
       "152292    80.6/27.0\n",
       "152293    86.4/30.2\n",
       "Name: Temperature maximum, Fahrenheit / Celsius, Length: 152294, dtype: object"
      ]
     },
     "execution_count": 26,
     "metadata": {},
     "output_type": "execute_result"
    }
   ],
   "source": [
    "turkey_daily_climate['Temperature maximum, Fahrenheit / Celsius']"
   ]
  },
  {
   "cell_type": "code",
   "execution_count": 27,
   "metadata": {
    "colab": {
     "base_uri": "https://localhost:8080/",
     "height": 143
    },
    "id": "IqfI2Tk2SiE7",
    "outputId": "ce8506e6-5dee-41e2-8443-d635f20dcb3e"
   },
   "outputs": [
    {
     "data": {
      "text/html": [
       "<div>\n",
       "<style scoped>\n",
       "    .dataframe tbody tr th:only-of-type {\n",
       "        vertical-align: middle;\n",
       "    }\n",
       "\n",
       "    .dataframe tbody tr th {\n",
       "        vertical-align: top;\n",
       "    }\n",
       "\n",
       "    .dataframe thead th {\n",
       "        text-align: right;\n",
       "    }\n",
       "</style>\n",
       "<table border=\"1\" class=\"dataframe\">\n",
       "  <thead>\n",
       "    <tr style=\"text-align: right;\">\n",
       "      <th></th>\n",
       "      <th>Temperature maximum, Fahrenheit / Celsius</th>\n",
       "      <th>TempMaxCel</th>\n",
       "    </tr>\n",
       "  </thead>\n",
       "  <tbody>\n",
       "    <tr>\n",
       "      <th>0</th>\n",
       "      <td>66.2/19.0</td>\n",
       "      <td>19.0</td>\n",
       "    </tr>\n",
       "    <tr>\n",
       "      <th>1</th>\n",
       "      <td>66.2/19.0</td>\n",
       "      <td>19.0</td>\n",
       "    </tr>\n",
       "    <tr>\n",
       "      <th>2</th>\n",
       "      <td>68.0/20.0</td>\n",
       "      <td>20.0</td>\n",
       "    </tr>\n",
       "  </tbody>\n",
       "</table>\n",
       "</div>"
      ],
      "text/plain": [
       "  Temperature maximum, Fahrenheit / Celsius TempMaxCel\n",
       "0                                 66.2/19.0       19.0\n",
       "1                                 66.2/19.0       19.0\n",
       "2                                 68.0/20.0       20.0"
      ]
     },
     "execution_count": 27,
     "metadata": {},
     "output_type": "execute_result"
    }
   ],
   "source": [
    "turkey_daily_climate['TempMaxCel'] = turkey_daily_climate['Temperature maximum, Fahrenheit / Celsius'].str.split('/').str[1]\n",
    "turkey_daily_climate[['Temperature maximum, Fahrenheit / Celsius', 'TempMaxCel']].head(3)"
   ]
  },
  {
   "cell_type": "code",
   "execution_count": 28,
   "metadata": {
    "id": "7pXjdsAqSjv_"
   },
   "outputs": [],
   "source": [
    "# Dropping 'Temperature maximum, Fahrenheit / Celsius' column\n",
    "turkey_daily_climate.drop(columns = ['Temperature maximum, Fahrenheit / Celsius'], inplace = True)\n",
    "turkey_daily_climate['TempMaxCel'] = turkey_daily_climate['TempMaxCel'].astype(float) "
   ]
  },
  {
   "cell_type": "code",
   "execution_count": 29,
   "metadata": {
    "colab": {
     "base_uri": "https://localhost:8080/",
     "height": 410
    },
    "id": "yTDfp92vSmsS",
    "outputId": "46f65ab1-8508-4b31-c196-16e36f3a8487"
   },
   "outputs": [
    {
     "name": "stderr",
     "output_type": "stream",
     "text": [
      "C:\\ProgramData\\Anaconda3\\lib\\site-packages\\seaborn\\distributions.py:2619: FutureWarning: `distplot` is a deprecated function and will be removed in a future version. Please adapt your code to use either `displot` (a figure-level function with similar flexibility) or `histplot` (an axes-level function for histograms).\n",
      "  warnings.warn(msg, FutureWarning)\n"
     ]
    },
    {
     "data": {
      "image/png": "[encoded data removed]",
      "text/plain": [
       "<Figure size 1440x360 with 2 Axes>"
      ]
     },
     "metadata": {},
     "output_type": "display_data"
    }
   ],
   "source": [
    "fig, axes = plt.subplots(1, 2, figsize=(20, 5), sharey=False)\n",
    "# fig.suptitle('Box & Distribution Plots')\n",
    "\n",
    "# Box Plot\n",
    "sns.boxplot(ax=axes[0], x = turkey_daily_climate.TempMaxCel)\n",
    "axes[0].set_title('TempMaxCel Box Plot')\n",
    "\n",
    "# Distribution Plot\n",
    "sns.distplot(ax=axes[1], x = turkey_daily_climate.TempMaxCel)\n",
    "axes[1].set_title('TempMaxCel Dist Plot')\n",
    "\n",
    "plt.show()"
   ]
  },
  {
   "cell_type": "markdown",
   "metadata": {
    "id": "2ADQV2cmSwFC"
   },
   "source": [
    "**Temperature minimum, Fahrenheit / Celsius**"
   ]
  },
  {
   "cell_type": "markdown",
   "metadata": {},
   "source": [
    "*There are two temperature minimum values which is Fahrenheit and Celsius. We will select Celsius and delete the Fahrenheit.*"
   ]
  },
  {
   "cell_type": "code",
   "execution_count": 30,
   "metadata": {
    "colab": {
     "base_uri": "https://localhost:8080/"
    },
    "id": "rNprBrYISziv",
    "outputId": "425d0c3f-8fee-474a-ddb4-51a3f597c845"
   },
   "outputs": [
    {
     "data": {
      "text/plain": [
       "0          44.6/7.0\n",
       "1         51.8/11.0\n",
       "2         53.6/12.0\n",
       "3          46.4/8.0\n",
       "4         51.8/11.0\n",
       "            ...    \n",
       "152289     46.4/8.0\n",
       "152290     46.6/8.1\n",
       "152291     47.1/8.4\n",
       "152292    50.0/10.0\n",
       "152293    52.9/11.6\n",
       "Name: Temperature minimum, Fahrenheit / Celsius, Length: 152294, dtype: object"
      ]
     },
     "execution_count": 30,
     "metadata": {},
     "output_type": "execute_result"
    }
   ],
   "source": [
    "turkey_daily_climate['Temperature minimum, Fahrenheit / Celsius']"
   ]
  },
  {
   "cell_type": "code",
   "execution_count": 31,
   "metadata": {
    "colab": {
     "base_uri": "https://localhost:8080/",
     "height": 143
    },
    "id": "jiZDRr4CSvhx",
    "outputId": "8d9ea5f2-8e3f-4536-e639-e1f0be950998"
   },
   "outputs": [
    {
     "data": {
      "text/html": [
       "<div>\n",
       "<style scoped>\n",
       "    .dataframe tbody tr th:only-of-type {\n",
       "        vertical-align: middle;\n",
       "    }\n",
       "\n",
       "    .dataframe tbody tr th {\n",
       "        vertical-align: top;\n",
       "    }\n",
       "\n",
       "    .dataframe thead th {\n",
       "        text-align: right;\n",
       "    }\n",
       "</style>\n",
       "<table border=\"1\" class=\"dataframe\">\n",
       "  <thead>\n",
       "    <tr style=\"text-align: right;\">\n",
       "      <th></th>\n",
       "      <th>Temperature minimum, Fahrenheit / Celsius</th>\n",
       "      <th>TempMinCel</th>\n",
       "    </tr>\n",
       "  </thead>\n",
       "  <tbody>\n",
       "    <tr>\n",
       "      <th>0</th>\n",
       "      <td>44.6/7.0</td>\n",
       "      <td>7.0</td>\n",
       "    </tr>\n",
       "    <tr>\n",
       "      <th>1</th>\n",
       "      <td>51.8/11.0</td>\n",
       "      <td>11.0</td>\n",
       "    </tr>\n",
       "    <tr>\n",
       "      <th>2</th>\n",
       "      <td>53.6/12.0</td>\n",
       "      <td>12.0</td>\n",
       "    </tr>\n",
       "  </tbody>\n",
       "</table>\n",
       "</div>"
      ],
      "text/plain": [
       "  Temperature minimum, Fahrenheit / Celsius TempMinCel\n",
       "0                                  44.6/7.0        7.0\n",
       "1                                 51.8/11.0       11.0\n",
       "2                                 53.6/12.0       12.0"
      ]
     },
     "execution_count": 31,
     "metadata": {},
     "output_type": "execute_result"
    }
   ],
   "source": [
    "turkey_daily_climate['TempMinCel'] = turkey_daily_climate['Temperature minimum, Fahrenheit / Celsius'].str.split('/').str[1]\n",
    "turkey_daily_climate[['Temperature minimum, Fahrenheit / Celsius', 'TempMinCel']].head(3)"
   ]
  },
  {
   "cell_type": "code",
   "execution_count": 32,
   "metadata": {
    "id": "nx3OjIJBS2ls"
   },
   "outputs": [],
   "source": [
    "turkey_daily_climate.drop(columns = ['Temperature minimum, Fahrenheit / Celsius'], inplace = True)\n",
    "turkey_daily_climate['TempMinCel'] = turkey_daily_climate['TempMinCel'].astype(float) "
   ]
  },
  {
   "cell_type": "code",
   "execution_count": 33,
   "metadata": {
    "colab": {
     "base_uri": "https://localhost:8080/",
     "height": 410
    },
    "id": "OdS-FGqOS5mI",
    "outputId": "1d414dce-9903-4bfd-97d3-96451c3c4081"
   },
   "outputs": [
    {
     "name": "stderr",
     "output_type": "stream",
     "text": [
      "C:\\ProgramData\\Anaconda3\\lib\\site-packages\\seaborn\\distributions.py:2619: FutureWarning: `distplot` is a deprecated function and will be removed in a future version. Please adapt your code to use either `displot` (a figure-level function with similar flexibility) or `histplot` (an axes-level function for histograms).\n",
      "  warnings.warn(msg, FutureWarning)\n"
     ]
    },
    {
     "data": {
      "image/png": "[encoded data removed]",
      "text/plain": [
       "<Figure size 1440x360 with 2 Axes>"
      ]
     },
     "metadata": {},
     "output_type": "display_data"
    }
   ],
   "source": [
    "fig, axes = plt.subplots(1, 2, figsize=(20, 5), sharey=False)\n",
    "# fig.suptitle('Box & Distribution Plots')\n",
    "\n",
    "# Box Plot\n",
    "sns.boxplot(ax=axes[0], x = turkey_daily_climate.TempMinCel)\n",
    "axes[0].set_title('TempMinCel Box Plot')\n",
    "\n",
    "# Distribution Plot\n",
    "sns.distplot(ax=axes[1], x = turkey_daily_climate.TempMinCel)\n",
    "axes[1].set_title('TempMinCel Dist Plot')\n",
    "\n",
    "plt.show()"
   ]
  },
  {
   "cell_type": "markdown",
   "metadata": {
    "id": "CqUPwf3STCMW"
   },
   "source": [
    "**Precipitation in / cm**"
   ]
  },
  {
   "cell_type": "code",
   "execution_count": 34,
   "metadata": {
    "colab": {
     "base_uri": "https://localhost:8080/"
    },
    "id": "5enpOx3HS_mp",
    "outputId": "79e15632-b825-4fd6-d028-e1c212b6502c"
   },
   "outputs": [
    {
     "data": {
      "text/plain": [
       "array([nan, '0.00/0.00', '0.01/0.03', '0.02/0.05', '0.16/0.41',\n",
       "       '0.79/2.01', '0.20/0.51', '0.31/0.79', '0.08/0.20', '0.09/0.23',\n",
       "       '1.61/4.09', '0.10/0.25', '0.28/0.71', '0.13/0.33', '0.21/0.53',\n",
       "       '0.46/1.17', '0.17/0.43', '0.77/1.96', '0.03/0.08', '0.06/0.15',\n",
       "       '0.11/0.28', '0.07/0.18', '0.04/0.10', '0.12/0.30', '0.24/0.61',\n",
       "       '0.43/1.09', '0.34/0.86', '1.26/3.20', '0.66/1.68', '0.95/2.41',\n",
       "       '3.15/8.00', '0.05/0.13', '0.39/0.99', '1.14/2.90', '0.69/1.75',\n",
       "       '0.70/1.78', '0.54/1.37', '0.63/1.60', '0.85/2.16', '0.32/0.81',\n",
       "       '0.51/1.30', '1.36/3.45', '0.27/0.69', '1.13/2.87', '0.19/0.48',\n",
       "       '1.17/2.97', '0.88/2.24', '0.72/1.83', '0.76/1.93', '0.35/0.89',\n",
       "       '1.85/4.70', '0.40/1.02', '0.18/0.46'], dtype=object)"
      ]
     },
     "execution_count": 34,
     "metadata": {},
     "output_type": "execute_result"
    }
   ],
   "source": [
    "turkey_daily_climate['Precipitation in / cm'].unique()"
   ]
  },
  {
   "cell_type": "markdown",
   "metadata": {},
   "source": [
    "*There are two precipitation values which is inch and centimeter. We will select cm and delete the in.*"
   ]
  },
  {
   "cell_type": "code",
   "execution_count": 35,
   "metadata": {
    "colab": {
     "base_uri": "https://localhost:8080/",
     "height": 143
    },
    "id": "5AMQG_p7THOb",
    "outputId": "5f70aa25-754b-4ec3-f2da-5ce7dcc24747"
   },
   "outputs": [
    {
     "data": {
      "text/html": [
       "<div>\n",
       "<style scoped>\n",
       "    .dataframe tbody tr th:only-of-type {\n",
       "        vertical-align: middle;\n",
       "    }\n",
       "\n",
       "    .dataframe tbody tr th {\n",
       "        vertical-align: top;\n",
       "    }\n",
       "\n",
       "    .dataframe thead th {\n",
       "        text-align: right;\n",
       "    }\n",
       "</style>\n",
       "<table border=\"1\" class=\"dataframe\">\n",
       "  <thead>\n",
       "    <tr style=\"text-align: right;\">\n",
       "      <th></th>\n",
       "      <th>Precipitation in / cm</th>\n",
       "      <th>PrecipitationCm</th>\n",
       "    </tr>\n",
       "  </thead>\n",
       "  <tbody>\n",
       "    <tr>\n",
       "      <th>775</th>\n",
       "      <td>NaN</td>\n",
       "      <td>NaN</td>\n",
       "    </tr>\n",
       "    <tr>\n",
       "      <th>127352</th>\n",
       "      <td>NaN</td>\n",
       "      <td>NaN</td>\n",
       "    </tr>\n",
       "    <tr>\n",
       "      <th>102699</th>\n",
       "      <td>0.00/0.00</td>\n",
       "      <td>0.00</td>\n",
       "    </tr>\n",
       "  </tbody>\n",
       "</table>\n",
       "</div>"
      ],
      "text/plain": [
       "       Precipitation in / cm PrecipitationCm\n",
       "775                      NaN             NaN\n",
       "127352                   NaN             NaN\n",
       "102699             0.00/0.00            0.00"
      ]
     },
     "execution_count": 35,
     "metadata": {},
     "output_type": "execute_result"
    }
   ],
   "source": [
    "turkey_daily_climate['PrecipitationCm'] = turkey_daily_climate['Precipitation in / cm'].str.split('/').str[1]\n",
    "turkey_daily_climate[['Precipitation in / cm', 'PrecipitationCm']].sample(3)"
   ]
  },
  {
   "cell_type": "code",
   "execution_count": 36,
   "metadata": {
    "id": "QC29A5nBTJed"
   },
   "outputs": [],
   "source": [
    "turkey_daily_climate.drop(columns = ['Precipitation in / cm'], inplace = True)\n",
    "turkey_daily_climate['PrecipitationCm'] = turkey_daily_climate['PrecipitationCm'].astype(float)"
   ]
  },
  {
   "cell_type": "code",
   "execution_count": 37,
   "metadata": {
    "colab": {
     "base_uri": "https://localhost:8080/",
     "height": 410
    },
    "id": "7z0OyalVTM8h",
    "outputId": "a5c0b77c-3bf3-4179-f437-78d79c43005c"
   },
   "outputs": [
    {
     "name": "stderr",
     "output_type": "stream",
     "text": [
      "C:\\ProgramData\\Anaconda3\\lib\\site-packages\\seaborn\\distributions.py:2619: FutureWarning: `distplot` is a deprecated function and will be removed in a future version. Please adapt your code to use either `displot` (a figure-level function with similar flexibility) or `histplot` (an axes-level function for histograms).\n",
      "  warnings.warn(msg, FutureWarning)\n"
     ]
    },
    {
     "data": {
      "image/png": "[encoded data removed]",
      "text/plain": [
       "<Figure size 1440x360 with 2 Axes>"
      ]
     },
     "metadata": {},
     "output_type": "display_data"
    }
   ],
   "source": [
    "fig, axes = plt.subplots(1, 2, figsize=(20, 5), sharey=False)\n",
    "# fig.suptitle('Box & Distribution Plots')\n",
    "\n",
    "# Box Plot\n",
    "sns.boxplot(ax=axes[0], x = turkey_daily_climate.PrecipitationCm)\n",
    "axes[0].set_title('PrecipitationCm Box Plot')\n",
    "\n",
    "# Distribution Plot\n",
    "sns.distplot(ax=axes[1], x = turkey_daily_climate.PrecipitationCm)\n",
    "axes[1].set_title('PrecipitationCm Dist Plot')\n",
    "\n",
    "plt.show()"
   ]
  },
  {
   "cell_type": "code",
   "execution_count": 38,
   "metadata": {
    "colab": {
     "base_uri": "https://localhost:8080/"
    },
    "id": "WrgoCHD3TYLX",
    "outputId": "a67c6f12-da0c-459f-a909-49cb4584cad1"
   },
   "outputs": [
    {
     "data": {
      "text/plain": [
       "array([ nan, 0.  , 0.03, 0.05, 0.41, 2.01, 0.51, 0.79, 0.2 , 0.23, 4.09,\n",
       "       0.25, 0.71, 0.33, 0.53, 1.17, 0.43, 1.96, 0.08, 0.15, 0.28, 0.18,\n",
       "       0.1 , 0.3 , 0.61, 1.09, 0.86, 3.2 , 1.68, 2.41, 8.  , 0.13, 0.99,\n",
       "       2.9 , 1.75, 1.78, 1.37, 1.6 , 2.16, 0.81, 1.3 , 3.45, 0.69, 2.87,\n",
       "       0.48, 2.97, 2.24, 1.83, 1.93, 0.89, 4.7 , 1.02, 0.46])"
      ]
     },
     "execution_count": 38,
     "metadata": {},
     "output_type": "execute_result"
    }
   ],
   "source": [
    "# Observing unique values\n",
    "turkey_daily_climate['PrecipitationCm'].unique()"
   ]
  },
  {
   "cell_type": "code",
   "execution_count": 39,
   "metadata": {
    "colab": {
     "base_uri": "https://localhost:8080/"
    },
    "id": "WmhQgxRrTZNm",
    "outputId": "2d8b09ac-3e90-49ee-bda2-fc411876a8ee"
   },
   "outputs": [
    {
     "data": {
      "text/plain": [
       "84145"
      ]
     },
     "execution_count": 39,
     "metadata": {},
     "output_type": "execute_result"
    }
   ],
   "source": [
    "turkey_daily_climate['PrecipitationCm'].isnull().sum()"
   ]
  },
  {
   "cell_type": "markdown",
   "metadata": {},
   "source": [
    "*Using 'Weather Type' and 'City' columns, fill Precipitation missing values.*"
   ]
  },
  {
   "cell_type": "code",
   "execution_count": 40,
   "metadata": {
    "colab": {
     "base_uri": "https://localhost:8080/",
     "height": 285
    },
    "id": "sVJ1jvpETfvi",
    "outputId": "7d0da25d-db0c-428a-f28c-92d3649d6701"
   },
   "outputs": [
    {
     "data": {
      "text/plain": [
       "<AxesSubplot:>"
      ]
     },
     "execution_count": 40,
     "metadata": {},
     "output_type": "execute_result"
    },
    {
     "data": {
      "image/png": "[encoded data removed]",
      "text/plain": [
       "<Figure size 432x288 with 1 Axes>"
      ]
     },
     "metadata": {},
     "output_type": "display_data"
    }
   ],
   "source": [
    "turkey_daily_climate[turkey_daily_climate.PrecipitationCm.isnull() == True].iloc[:,9].value_counts().sort_values().plot(kind = 'barh')"
   ]
  },
  {
   "cell_type": "markdown",
   "metadata": {},
   "source": [
    "*We create dictionaries such that:*  \n",
    "    *For example:*  \n",
    "    *A row --> Precipitation is missing , City = Ankara, Weather Type = Fog*  \n",
    "    *Then we group rows Precipitation is not missing , City = Ankara, Weather Type = Fog then getting median of Precipitation.*  \n",
    "    *Then insert the median value to missing row.*"
   ]
  },
  {
   "cell_type": "code",
   "execution_count": 41,
   "metadata": {
    "id": "1wwEpTdKT4OL"
   },
   "outputs": [],
   "source": [
    "dict_1 = dict(turkey_daily_climate[(turkey_daily_climate.PrecipitationCm.isnull() == False) & (turkey_daily_climate['Weather type'] == 'Rain/Drizzle, Thunder')].groupby('City').PrecipitationCm.median())\n",
    "\n",
    "for i in turkey_daily_climate[(turkey_daily_climate.PrecipitationCm.isnull() == True) & (turkey_daily_climate['Weather type'] == 'Rain/Drizzle, Thunder')].City:\n",
    "    idx = turkey_daily_climate[(turkey_daily_climate.PrecipitationCm.isnull() == True) & (turkey_daily_climate['Weather type'] == 'Rain/Drizzle, Thunder')].City.index\n",
    "    turkey_daily_climate.iloc[idx, 14] = dict_1[i]"
   ]
  },
  {
   "cell_type": "code",
   "execution_count": 42,
   "metadata": {
    "id": "VCN93ukNT_EX"
   },
   "outputs": [],
   "source": [
    "dict_2 = dict(turkey_daily_climate[(turkey_daily_climate.PrecipitationCm.isnull() == False) & (turkey_daily_climate['Weather type'] == 'Rain/Drizzle')].groupby('City').PrecipitationCm.median())\n",
    "\n",
    "for i in turkey_daily_climate[(turkey_daily_climate.PrecipitationCm.isnull() == True) & (turkey_daily_climate['Weather type'] == 'Rain/Drizzle')].City:\n",
    "    idx = turkey_daily_climate[(turkey_daily_climate.PrecipitationCm.isnull() == True) & (turkey_daily_climate['Weather type'] == 'Rain/Drizzle')].City.index\n",
    "    turkey_daily_climate.iloc[idx, 14] = dict_2[i]"
   ]
  },
  {
   "cell_type": "code",
   "execution_count": 43,
   "metadata": {
    "id": "8iY7Ps9nUM7i"
   },
   "outputs": [],
   "source": [
    "dict_3 = dict(turkey_daily_climate[(turkey_daily_climate.PrecipitationCm.isnull() == False) & (turkey_daily_climate['Weather type'] == 'Fog')].groupby('City').PrecipitationCm.median())\n",
    "\n",
    "for i in turkey_daily_climate[(turkey_daily_climate.PrecipitationCm.isnull() == True) & (turkey_daily_climate['Weather type'] == 'Fog')].City:\n",
    "    idx = turkey_daily_climate[(turkey_daily_climate.PrecipitationCm.isnull() == True) & (turkey_daily_climate['Weather type'] == 'Fog')].City.index\n",
    "    turkey_daily_climate.iloc[idx, 14] = dict_3[i]"
   ]
  },
  {
   "cell_type": "code",
   "execution_count": 44,
   "metadata": {
    "id": "9MkQCRQ8UOsH"
   },
   "outputs": [],
   "source": [
    "dict_4 = dict(turkey_daily_climate[(turkey_daily_climate.PrecipitationCm.isnull() == False) & (turkey_daily_climate['Weather type'] == 'Rain/Drizzle, Hail, Thunder')].groupby('City').PrecipitationCm.median())\n",
    "\n",
    "for i in turkey_daily_climate[(turkey_daily_climate.PrecipitationCm.isnull() == True) & (turkey_daily_climate['Weather type'] == 'Rain/Drizzle, Hail, Thunder')].City:\n",
    "    idx = turkey_daily_climate[(turkey_daily_climate.PrecipitationCm.isnull() == True) & (turkey_daily_climate['Weather type'] == 'Rain/Drizzle, Hail, Thunder')].City.index\n",
    "    turkey_daily_climate.iloc[idx, 14] = dict_4[i]"
   ]
  },
  {
   "cell_type": "code",
   "execution_count": 45,
   "metadata": {
    "id": "S1xMuAHdUOwY"
   },
   "outputs": [],
   "source": [
    "dict_5 = dict(turkey_daily_climate[(turkey_daily_climate.PrecipitationCm.isnull() == False) & (turkey_daily_climate['Weather type'] == 'Fog, Rain/Drizzle')].groupby('City').PrecipitationCm.median())\n",
    "\n",
    "for i in turkey_daily_climate[(turkey_daily_climate.PrecipitationCm.isnull() == True) & (turkey_daily_climate['Weather type'] == 'Fog, Rain/Drizzle')].City:\n",
    "    idx = turkey_daily_climate[(turkey_daily_climate.PrecipitationCm.isnull() == True) & (turkey_daily_climate['Weather type'] == 'Fog, Rain/Drizzle')].City.index\n",
    "    turkey_daily_climate.iloc[idx, 14] = dict_5[i]"
   ]
  },
  {
   "cell_type": "code",
   "execution_count": 46,
   "metadata": {
    "id": "oe4IZdLaUTMp"
   },
   "outputs": [],
   "source": [
    "dict_6 = dict(turkey_daily_climate[(turkey_daily_climate.PrecipitationCm.isnull() == False) & (turkey_daily_climate['Weather type'] == 'Thunder')].groupby('City').PrecipitationCm.median())\n",
    "\n",
    "for i in turkey_daily_climate[(turkey_daily_climate.PrecipitationCm.isnull() == True) & (turkey_daily_climate['Weather type'] == 'Thunder')].City:\n",
    "    idx = turkey_daily_climate[(turkey_daily_climate.PrecipitationCm.isnull() == True) & (turkey_daily_climate['Weather type'] == 'Thunder')].City.index\n",
    "    turkey_daily_climate.iloc[idx, 14] = dict_6[i]"
   ]
  },
  {
   "cell_type": "code",
   "execution_count": 47,
   "metadata": {
    "id": "7-4kquvPUVJy"
   },
   "outputs": [],
   "source": [
    "dict_7 = dict(turkey_daily_climate[(turkey_daily_climate.PrecipitationCm.isnull() == False) & (turkey_daily_climate['Weather type'] == 'Fog, Rain/Drizzle, Thunder')].groupby('City').PrecipitationCm.median())\n",
    "\n",
    "for i in turkey_daily_climate[(turkey_daily_climate.PrecipitationCm.isnull() == True) & (turkey_daily_climate['Weather type'] == 'Fog, Rain/Drizzle, Thunder')].City:\n",
    "    idx = turkey_daily_climate[(turkey_daily_climate.PrecipitationCm.isnull() == True) & (turkey_daily_climate['Weather type'] == 'Fog, Rain/Drizzle, Thunder')].City.index\n",
    "    turkey_daily_climate.iloc[idx, 14] = dict_7[i]"
   ]
  },
  {
   "cell_type": "code",
   "execution_count": 48,
   "metadata": {},
   "outputs": [
    {
     "data": {
      "text/plain": [
       "65703"
      ]
     },
     "execution_count": 48,
     "metadata": {},
     "output_type": "execute_result"
    }
   ],
   "source": [
    "turkey_daily_climate['PrecipitationCm'].isnull().sum()"
   ]
  },
  {
   "cell_type": "markdown",
   "metadata": {},
   "source": [
    "*But there are still missing values,*  \n",
    "*we will fill these missing values with the median of precipitation values of the cities.*"
   ]
  },
  {
   "cell_type": "code",
   "execution_count": 49,
   "metadata": {},
   "outputs": [
    {
     "data": {
      "text/plain": [
       "{'Adana': 0.0,\n",
       " 'Adiyaman': 0.0,\n",
       " 'Afyonkarahisar': 0.0,\n",
       " 'Agri': 0.0,\n",
       " 'Amasya': 0.0,\n",
       " 'Ankara': 0.0,\n",
       " 'Antalya': 0.0,\n",
       " 'Artvin': 0.0,\n",
       " 'Aydin': 0.0,\n",
       " 'Balikesir': 0.0,\n",
       " 'Batman': 0.0,\n",
       " 'Bayburt': 0.0,\n",
       " 'Bilecik': 0.0,\n",
       " 'Bingol': 0.0,\n",
       " 'Bolu': 0.0,\n",
       " 'Burdur': 0.0,\n",
       " 'Bursa': 0.0,\n",
       " 'Canakkale': 0.0,\n",
       " 'Cankiri': 0.0,\n",
       " 'Corum': 0.0,\n",
       " 'Denizli': 0.0,\n",
       " 'Diyarbakir': 0.0,\n",
       " 'Edirne': 0.0,\n",
       " 'Elazig': 0.0,\n",
       " 'Erzincan': 0.0,\n",
       " 'Erzurum': 0.0,\n",
       " 'Eskisehir': 0.0,\n",
       " 'Gap': 0.0,\n",
       " 'Giresun': 0.0,\n",
       " 'Gumushane': 0.0,\n",
       " 'Hakkari': 0.0,\n",
       " 'Hatay': 0.0,\n",
       " 'Isparta': 0.0,\n",
       " 'Istanbul': 0.0,\n",
       " 'Izmir': 0.0,\n",
       " 'Kahramanmaras': 0.0,\n",
       " 'Kars': 0.0,\n",
       " 'Kastamonu': 0.0,\n",
       " 'Kayseri': 0.0,\n",
       " 'Kirikkale': 0.0,\n",
       " 'Kirklareli': 0.0,\n",
       " 'Kirsehir': 0.0,\n",
       " 'Kocaeli': 0.0,\n",
       " 'Konya': 0.0,\n",
       " 'Kutahya': 0.0,\n",
       " 'Malatya': 0.0,\n",
       " 'Manisa': 0.0,\n",
       " 'Mardin': 0.0,\n",
       " 'Mersin': 0.0,\n",
       " 'Mugla': 0.0,\n",
       " 'Mus': 0.0,\n",
       " 'Nevsehir': 0.0,\n",
       " 'Nigde': 0.0,\n",
       " 'Ordu': 0.0,\n",
       " 'Rize': 0.0,\n",
       " 'Sakarya': 0.0,\n",
       " 'Samsun': 0.0,\n",
       " 'Sanliurfa': 0.0,\n",
       " 'Siirt': 0.0,\n",
       " 'Sinop': 0.0,\n",
       " 'Sivas': 0.0,\n",
       " 'Tekirdag': 0.0,\n",
       " 'Tokat': 0.0,\n",
       " 'Trabzon': 0.0,\n",
       " 'Tunceli': 0.0,\n",
       " 'Usak': 0.0,\n",
       " 'Van': 0.0,\n",
       " 'Yozgat': 0.0,\n",
       " 'Zonguldak': 0.0}"
      ]
     },
     "execution_count": 49,
     "metadata": {},
     "output_type": "execute_result"
    }
   ],
   "source": [
    "dict(turkey_daily_climate[(turkey_daily_climate.PrecipitationCm.isnull() == False)].groupby('City').PrecipitationCm.median())"
   ]
  },
  {
   "cell_type": "code",
   "execution_count": 50,
   "metadata": {},
   "outputs": [],
   "source": [
    "turkey_daily_climate[\"PrecipitationCm\"].fillna(0.0, inplace = True)"
   ]
  },
  {
   "cell_type": "code",
   "execution_count": 51,
   "metadata": {},
   "outputs": [
    {
     "data": {
      "text/plain": [
       "0"
      ]
     },
     "execution_count": 51,
     "metadata": {},
     "output_type": "execute_result"
    }
   ],
   "source": [
    "turkey_daily_climate['PrecipitationCm'].isnull().sum()"
   ]
  },
  {
   "cell_type": "markdown",
   "metadata": {
    "id": "WuWdc6w2VGyh"
   },
   "source": [
    "**Average daily wind speed (miles/hour)**"
   ]
  },
  {
   "cell_type": "code",
   "execution_count": 52,
   "metadata": {
    "colab": {
     "base_uri": "https://localhost:8080/"
    },
    "id": "_xtsLh43UVLv",
    "outputId": "56c7de81-af8b-408a-985a-4cbef8e946c5"
   },
   "outputs": [
    {
     "data": {
      "text/plain": [
       "0         3.80\n",
       "1         4.60\n",
       "2         7.25\n",
       "3         5.52\n",
       "4         5.06\n",
       "          ... \n",
       "152289    6.44\n",
       "152290    7.83\n",
       "152291    4.83\n",
       "152292    5.64\n",
       "152293    4.60\n",
       "Name: Average daily wind speed (miles/hour), Length: 152294, dtype: float64"
      ]
     },
     "execution_count": 52,
     "metadata": {},
     "output_type": "execute_result"
    }
   ],
   "source": [
    "turkey_daily_climate['Average daily wind speed (miles/hour)']"
   ]
  },
  {
   "cell_type": "code",
   "execution_count": 53,
   "metadata": {
    "colab": {
     "base_uri": "https://localhost:8080/",
     "height": 177
    },
    "id": "23XyW9x2UVNs",
    "outputId": "81a58da3-6e2d-49f9-b6d8-be865d556e70"
   },
   "outputs": [
    {
     "data": {
      "text/html": [
       "<div>\n",
       "<style scoped>\n",
       "    .dataframe tbody tr th:only-of-type {\n",
       "        vertical-align: middle;\n",
       "    }\n",
       "\n",
       "    .dataframe tbody tr th {\n",
       "        vertical-align: top;\n",
       "    }\n",
       "\n",
       "    .dataframe thead th {\n",
       "        text-align: right;\n",
       "    }\n",
       "</style>\n",
       "<table border=\"1\" class=\"dataframe\">\n",
       "  <thead>\n",
       "    <tr style=\"text-align: right;\">\n",
       "      <th></th>\n",
       "      <th>City</th>\n",
       "      <th>Year</th>\n",
       "      <th>Month</th>\n",
       "      <th>Day</th>\n",
       "      <th>AvgDWS</th>\n",
       "      <th>Visibility in miles</th>\n",
       "      <th>Dew point, Fahrenheit / Celsius</th>\n",
       "      <th>Maximum sustained wind speed (miles/hour)</th>\n",
       "      <th>Maximum wind gust reported for the day</th>\n",
       "      <th>Weather type</th>\n",
       "      <th>Date</th>\n",
       "      <th>TempAvgCel</th>\n",
       "      <th>TempMaxCel</th>\n",
       "      <th>TempMinCel</th>\n",
       "      <th>PrecipitationCm</th>\n",
       "    </tr>\n",
       "  </thead>\n",
       "  <tbody>\n",
       "    <tr>\n",
       "      <th>0</th>\n",
       "      <td>Adana</td>\n",
       "      <td>2010</td>\n",
       "      <td>01</td>\n",
       "      <td>01</td>\n",
       "      <td>3.8</td>\n",
       "      <td>6.0</td>\n",
       "      <td>47.8/8.8</td>\n",
       "      <td>10.24</td>\n",
       "      <td>NaN</td>\n",
       "      <td>NaN</td>\n",
       "      <td>2010-01-01</td>\n",
       "      <td>13.9</td>\n",
       "      <td>19.0</td>\n",
       "      <td>7.0</td>\n",
       "      <td>0.0</td>\n",
       "    </tr>\n",
       "  </tbody>\n",
       "</table>\n",
       "</div>"
      ],
      "text/plain": [
       "    City  Year Month Day  AvgDWS  Visibility in miles  \\\n",
       "0  Adana  2010    01  01     3.8                  6.0   \n",
       "\n",
       "  Dew point, Fahrenheit / Celsius  Maximum sustained wind speed (miles/hour)  \\\n",
       "0                        47.8/8.8                                      10.24   \n",
       "\n",
       "   Maximum wind gust reported for the day Weather type        Date  \\\n",
       "0                                     NaN          NaN  2010-01-01   \n",
       "\n",
       "   TempAvgCel  TempMaxCel  TempMinCel  PrecipitationCm  \n",
       "0        13.9        19.0         7.0              0.0  "
      ]
     },
     "execution_count": 53,
     "metadata": {},
     "output_type": "execute_result"
    }
   ],
   "source": [
    "# Renaming the column\n",
    "turkey_daily_climate.rename(columns = {\"Average daily wind speed (miles/hour)\":\"AvgDWS\"}, inplace = True)\n",
    "turkey_daily_climate.head(1)"
   ]
  },
  {
   "cell_type": "code",
   "execution_count": 54,
   "metadata": {
    "colab": {
     "base_uri": "https://localhost:8080/",
     "height": 410
    },
    "id": "8pFgwcMMVOkh",
    "outputId": "0e19c1a9-156e-46fa-e67a-df8908cf9da6"
   },
   "outputs": [
    {
     "name": "stderr",
     "output_type": "stream",
     "text": [
      "C:\\ProgramData\\Anaconda3\\lib\\site-packages\\seaborn\\distributions.py:2619: FutureWarning: `distplot` is a deprecated function and will be removed in a future version. Please adapt your code to use either `displot` (a figure-level function with similar flexibility) or `histplot` (an axes-level function for histograms).\n",
      "  warnings.warn(msg, FutureWarning)\n"
     ]
    },
    {
     "data": {
      "image/png": "[encoded data removed]",
      "text/plain": [
       "<Figure size 1440x360 with 2 Axes>"
      ]
     },
     "metadata": {},
     "output_type": "display_data"
    }
   ],
   "source": [
    "fig, axes = plt.subplots(1, 2, figsize=(20, 5), sharey=False)\n",
    "# fig.suptitle('Box & Distribution Plots')\n",
    "\n",
    "# Box Plot\n",
    "sns.boxplot(ax=axes[0], x = turkey_daily_climate.AvgDWS)\n",
    "axes[0].set_title('AvgDWS (miles/hour) Box Plot')\n",
    "\n",
    "# Distribution Plot\n",
    "sns.distplot(ax=axes[1], x = turkey_daily_climate.AvgDWS)\n",
    "axes[1].set_title('AvgDWS (miles/hour) Dist Plot')\n",
    "\n",
    "plt.show()"
   ]
  },
  {
   "cell_type": "code",
   "execution_count": 55,
   "metadata": {
    "colab": {
     "base_uri": "https://localhost:8080/"
    },
    "id": "lGlVWmP_VRG5",
    "outputId": "55cf0260-bac9-4be4-da51-3c65a55845de"
   },
   "outputs": [
    {
     "data": {
      "text/plain": [
       "6185"
      ]
     },
     "execution_count": 55,
     "metadata": {},
     "output_type": "execute_result"
    }
   ],
   "source": [
    "turkey_daily_climate.AvgDWS.isnull().sum()"
   ]
  },
  {
   "cell_type": "markdown",
   "metadata": {},
   "source": [
    "*We will fill these missing values with the median of AvgDWS values of the cities.*"
   ]
  },
  {
   "cell_type": "code",
   "execution_count": 56,
   "metadata": {},
   "outputs": [],
   "source": [
    "dict_AvgDWS = dict(turkey_daily_climate.groupby(['City']).AvgDWS.median())"
   ]
  },
  {
   "cell_type": "code",
   "execution_count": 57,
   "metadata": {},
   "outputs": [],
   "source": [
    "for i in turkey_daily_climate[(turkey_daily_climate.AvgDWS.isnull() == True)].City:\n",
    "    idx = turkey_daily_climate[(turkey_daily_climate.AvgDWS.isnull() == True)].City.index\n",
    "    turkey_daily_climate.iloc[idx, 4] = dict_AvgDWS[i]"
   ]
  },
  {
   "cell_type": "code",
   "execution_count": 58,
   "metadata": {},
   "outputs": [
    {
     "data": {
      "text/plain": [
       "0"
      ]
     },
     "execution_count": 58,
     "metadata": {},
     "output_type": "execute_result"
    }
   ],
   "source": [
    "turkey_daily_climate.AvgDWS.isnull().sum()"
   ]
  },
  {
   "cell_type": "markdown",
   "metadata": {
    "id": "5Is4876WVXUr"
   },
   "source": [
    "**Visibility in miles**"
   ]
  },
  {
   "cell_type": "code",
   "execution_count": 59,
   "metadata": {
    "colab": {
     "base_uri": "https://localhost:8080/"
    },
    "id": "xSvv6IlSVYzQ",
    "outputId": "be9f476c-e1ee-4e64-de25-9d0bc0cef721"
   },
   "outputs": [
    {
     "data": {
      "text/plain": [
       "array([ 6.,  5.,  7.,  3.,  2.,  4.,  1., nan])"
      ]
     },
     "execution_count": 59,
     "metadata": {},
     "output_type": "execute_result"
    }
   ],
   "source": [
    "# Check unique values.\n",
    "turkey_daily_climate['Visibility in miles'].unique()"
   ]
  },
  {
   "cell_type": "code",
   "execution_count": 60,
   "metadata": {
    "id": "Zmc27jmSVbAv"
   },
   "outputs": [],
   "source": [
    "# Renaming the column.\n",
    "turkey_daily_climate.rename(columns = {\"Visibility in miles\":\"Visibility\"}, inplace = True)"
   ]
  },
  {
   "cell_type": "code",
   "execution_count": 61,
   "metadata": {
    "colab": {
     "base_uri": "https://localhost:8080/",
     "height": 410
    },
    "id": "hS7cK3qQVdQA",
    "outputId": "ae50f11e-a876-4fd3-f715-075d5d8149cf"
   },
   "outputs": [
    {
     "name": "stderr",
     "output_type": "stream",
     "text": [
      "C:\\ProgramData\\Anaconda3\\lib\\site-packages\\seaborn\\distributions.py:2619: FutureWarning: `distplot` is a deprecated function and will be removed in a future version. Please adapt your code to use either `displot` (a figure-level function with similar flexibility) or `histplot` (an axes-level function for histograms).\n",
      "  warnings.warn(msg, FutureWarning)\n"
     ]
    },
    {
     "data": {
      "image/png": "[encoded data removed]",
      "text/plain": [
       "<Figure size 1440x360 with 2 Axes>"
      ]
     },
     "metadata": {},
     "output_type": "display_data"
    }
   ],
   "source": [
    "fig, axes = plt.subplots(1, 2, figsize=(20, 5), sharey=False)\n",
    "# fig.suptitle('Box & Distribution Plots')\n",
    "\n",
    "# Box Plot\n",
    "sns.boxplot(ax=axes[0], x = turkey_daily_climate.Visibility)\n",
    "axes[0].set_title('Visibility (miles/hour) Box Plot')\n",
    "\n",
    "# Distribution Plot\n",
    "sns.distplot(ax=axes[1], x = turkey_daily_climate.Visibility)\n",
    "axes[1].set_title('Visibility (miles/hour) Dist Plot')\n",
    "\n",
    "plt.show()"
   ]
  },
  {
   "cell_type": "code",
   "execution_count": 62,
   "metadata": {
    "colab": {
     "base_uri": "https://localhost:8080/",
     "height": 357
    },
    "id": "e88_PR5mVfaL",
    "outputId": "5699befd-a488-4ec3-e859-61a3de868e36"
   },
   "outputs": [
    {
     "data": {
      "image/png": "[encoded data removed]",
      "text/plain": [
       "<Figure size 936x360 with 1 Axes>"
      ]
     },
     "metadata": {},
     "output_type": "display_data"
    }
   ],
   "source": [
    "fig, axes = plt.subplots(figsize=(13, 5))\n",
    "# Visibility Distribution\n",
    "ax1 = sns.countplot(x=turkey_daily_climate.Visibility, palette=\"Blues\")\n",
    "ax1.set_title('Visibility Distribution', fontsize=15)\n",
    "for p in ax1.patches:\n",
    "    ax1.annotate(f'\\n{p.get_height()}', (p.get_x()+0.4, p.get_height()+500), ha='center', va='baseline', color='black', size=12)"
   ]
  },
  {
   "cell_type": "code",
   "execution_count": 63,
   "metadata": {
    "colab": {
     "base_uri": "https://localhost:8080/"
    },
    "id": "gCHh-GiOVjRg",
    "outputId": "6c132c06-3f65-4e07-fe62-bbb5d04c8206"
   },
   "outputs": [
    {
     "data": {
      "text/plain": [
       "6362"
      ]
     },
     "execution_count": 63,
     "metadata": {},
     "output_type": "execute_result"
    }
   ],
   "source": [
    "turkey_daily_climate.Visibility.isnull().sum()"
   ]
  },
  {
   "cell_type": "markdown",
   "metadata": {},
   "source": [
    "*We will fill these missing values with the mode of AvgDWS value.*"
   ]
  },
  {
   "cell_type": "code",
   "execution_count": 64,
   "metadata": {
    "id": "5ks-6fLmVnRb"
   },
   "outputs": [],
   "source": [
    "turkey_daily_climate[\"Visibility\"].fillna(6, inplace = True)"
   ]
  },
  {
   "cell_type": "code",
   "execution_count": 65,
   "metadata": {},
   "outputs": [
    {
     "data": {
      "text/plain": [
       "0"
      ]
     },
     "execution_count": 65,
     "metadata": {},
     "output_type": "execute_result"
    }
   ],
   "source": [
    "turkey_daily_climate.Visibility.isnull().sum()"
   ]
  },
  {
   "cell_type": "markdown",
   "metadata": {
    "id": "SGznr3OCVuEl"
   },
   "source": [
    "**Dew point, Fahrenheit / Celsius**"
   ]
  },
  {
   "cell_type": "code",
   "execution_count": 66,
   "metadata": {
    "colab": {
     "base_uri": "https://localhost:8080/"
    },
    "id": "iZx0uNadVpGY",
    "outputId": "84b14038-0e6f-4b2b-81fd-aad9a6ce6441"
   },
   "outputs": [
    {
     "data": {
      "text/plain": [
       "0          47.8/8.8\n",
       "1         53.2/11.8\n",
       "2          42.8/6.0\n",
       "3          35.5/1.9\n",
       "4          43.8/6.6\n",
       "            ...    \n",
       "152289     39.9/4.4\n",
       "152290     34.5/1.4\n",
       "152291     42.9/6.1\n",
       "152292     40.2/4.6\n",
       "152293     42.3/5.7\n",
       "Name: Dew point, Fahrenheit / Celsius, Length: 152294, dtype: object"
      ]
     },
     "execution_count": 66,
     "metadata": {},
     "output_type": "execute_result"
    }
   ],
   "source": [
    "turkey_daily_climate['Dew point, Fahrenheit / Celsius']"
   ]
  },
  {
   "cell_type": "markdown",
   "metadata": {},
   "source": [
    "*There are two Dew point values which is Fahrenheit and Celsius. We will select Celsius and delete the Fahrenheit.*"
   ]
  },
  {
   "cell_type": "code",
   "execution_count": 67,
   "metadata": {
    "colab": {
     "base_uri": "https://localhost:8080/",
     "height": 143
    },
    "id": "BKGneJiFVvaa",
    "outputId": "0d7aa2ab-5c92-45c1-bff0-7fd3cabd0ea4"
   },
   "outputs": [
    {
     "data": {
      "text/html": [
       "<div>\n",
       "<style scoped>\n",
       "    .dataframe tbody tr th:only-of-type {\n",
       "        vertical-align: middle;\n",
       "    }\n",
       "\n",
       "    .dataframe tbody tr th {\n",
       "        vertical-align: top;\n",
       "    }\n",
       "\n",
       "    .dataframe thead th {\n",
       "        text-align: right;\n",
       "    }\n",
       "</style>\n",
       "<table border=\"1\" class=\"dataframe\">\n",
       "  <thead>\n",
       "    <tr style=\"text-align: right;\">\n",
       "      <th></th>\n",
       "      <th>Dew point, Fahrenheit / Celsius</th>\n",
       "      <th>DewPntCel</th>\n",
       "    </tr>\n",
       "  </thead>\n",
       "  <tbody>\n",
       "    <tr>\n",
       "      <th>55013</th>\n",
       "      <td>31.4/-0.3</td>\n",
       "      <td>-0.3</td>\n",
       "    </tr>\n",
       "    <tr>\n",
       "      <th>46688</th>\n",
       "      <td>67.8/19.9</td>\n",
       "      <td>19.9</td>\n",
       "    </tr>\n",
       "    <tr>\n",
       "      <th>77387</th>\n",
       "      <td>30.5/-0.8</td>\n",
       "      <td>-0.8</td>\n",
       "    </tr>\n",
       "  </tbody>\n",
       "</table>\n",
       "</div>"
      ],
      "text/plain": [
       "      Dew point, Fahrenheit / Celsius DewPntCel\n",
       "55013                       31.4/-0.3      -0.3\n",
       "46688                       67.8/19.9      19.9\n",
       "77387                       30.5/-0.8      -0.8"
      ]
     },
     "execution_count": 67,
     "metadata": {},
     "output_type": "execute_result"
    }
   ],
   "source": [
    "turkey_daily_climate['DewPntCel'] = turkey_daily_climate['Dew point, Fahrenheit / Celsius'].str.split('/').str[1]\n",
    "turkey_daily_climate[['Dew point, Fahrenheit / Celsius', 'DewPntCel']].sample(3)"
   ]
  },
  {
   "cell_type": "code",
   "execution_count": 68,
   "metadata": {
    "id": "bTaIEyFIWUPM"
   },
   "outputs": [],
   "source": [
    "# Dropping 'Dew point, Fahrenheit / Celsius' column\n",
    "turkey_daily_climate.drop(columns = ['Dew point, Fahrenheit / Celsius'], inplace = True)\n",
    "turkey_daily_climate['DewPntCel'] = turkey_daily_climate['DewPntCel'].astype(float)"
   ]
  },
  {
   "cell_type": "code",
   "execution_count": 69,
   "metadata": {
    "colab": {
     "base_uri": "https://localhost:8080/",
     "height": 410
    },
    "id": "OpJSh-MYWZHv",
    "outputId": "910aa248-8f41-41c6-994f-cbcd40bf12df"
   },
   "outputs": [
    {
     "name": "stderr",
     "output_type": "stream",
     "text": [
      "C:\\ProgramData\\Anaconda3\\lib\\site-packages\\seaborn\\distributions.py:2619: FutureWarning: `distplot` is a deprecated function and will be removed in a future version. Please adapt your code to use either `displot` (a figure-level function with similar flexibility) or `histplot` (an axes-level function for histograms).\n",
      "  warnings.warn(msg, FutureWarning)\n"
     ]
    },
    {
     "data": {
      "image/png": "[encoded data removed]",
      "text/plain": [
       "<Figure size 1440x360 with 2 Axes>"
      ]
     },
     "metadata": {},
     "output_type": "display_data"
    }
   ],
   "source": [
    "fig, axes = plt.subplots(1, 2, figsize=(20, 5), sharey=False)\n",
    "# fig.suptitle('Box & Distribution Plots')\n",
    "\n",
    "# Box Plot\n",
    "sns.boxplot(ax=axes[0], x = turkey_daily_climate.DewPntCel)\n",
    "axes[0].set_title('Dew Point Celsius Box Plot')\n",
    "\n",
    "# Distribution Plot\n",
    "sns.distplot(ax=axes[1], x = turkey_daily_climate.DewPntCel)\n",
    "axes[1].set_title('Dew Point Celsius Box Plot')\n",
    "\n",
    "plt.show()"
   ]
  },
  {
   "cell_type": "markdown",
   "metadata": {
    "id": "SAU3l8ZQWldR"
   },
   "source": [
    "**Maximum sustained wind speed (miles/hour)**"
   ]
  },
  {
   "cell_type": "code",
   "execution_count": 70,
   "metadata": {
    "colab": {
     "base_uri": "https://localhost:8080/"
    },
    "id": "VWOlvExjWcIc",
    "outputId": "1b9f1d75-ecdb-41ef-ec65-cd0f8e6d11f6"
   },
   "outputs": [
    {
     "data": {
      "text/plain": [
       "0         10.24\n",
       "1         16.11\n",
       "2         16.11\n",
       "3         10.24\n",
       "4         11.39\n",
       "          ...  \n",
       "152289    17.26\n",
       "152290    16.11\n",
       "152291    11.39\n",
       "152292    11.39\n",
       "152293     9.21\n",
       "Name: Maximum sustained wind speed (miles/hour), Length: 152294, dtype: float64"
      ]
     },
     "execution_count": 70,
     "metadata": {},
     "output_type": "execute_result"
    }
   ],
   "source": [
    "turkey_daily_climate['Maximum sustained wind speed (miles/hour)']"
   ]
  },
  {
   "cell_type": "code",
   "execution_count": 71,
   "metadata": {
    "colab": {
     "base_uri": "https://localhost:8080/",
     "height": 81
    },
    "id": "e6kFTQZYWoVR",
    "outputId": "cddec393-0e68-4492-96cd-483d07ce5281"
   },
   "outputs": [
    {
     "data": {
      "text/html": [
       "<div>\n",
       "<style scoped>\n",
       "    .dataframe tbody tr th:only-of-type {\n",
       "        vertical-align: middle;\n",
       "    }\n",
       "\n",
       "    .dataframe tbody tr th {\n",
       "        vertical-align: top;\n",
       "    }\n",
       "\n",
       "    .dataframe thead th {\n",
       "        text-align: right;\n",
       "    }\n",
       "</style>\n",
       "<table border=\"1\" class=\"dataframe\">\n",
       "  <thead>\n",
       "    <tr style=\"text-align: right;\">\n",
       "      <th></th>\n",
       "      <th>City</th>\n",
       "      <th>Year</th>\n",
       "      <th>Month</th>\n",
       "      <th>Day</th>\n",
       "      <th>AvgDWS</th>\n",
       "      <th>Visibility</th>\n",
       "      <th>MaxSusWS</th>\n",
       "      <th>Maximum wind gust reported for the day</th>\n",
       "      <th>Weather type</th>\n",
       "      <th>Date</th>\n",
       "      <th>TempAvgCel</th>\n",
       "      <th>TempMaxCel</th>\n",
       "      <th>TempMinCel</th>\n",
       "      <th>PrecipitationCm</th>\n",
       "      <th>DewPntCel</th>\n",
       "    </tr>\n",
       "  </thead>\n",
       "  <tbody>\n",
       "    <tr>\n",
       "      <th>0</th>\n",
       "      <td>Adana</td>\n",
       "      <td>2010</td>\n",
       "      <td>01</td>\n",
       "      <td>01</td>\n",
       "      <td>3.8</td>\n",
       "      <td>6.0</td>\n",
       "      <td>10.24</td>\n",
       "      <td>NaN</td>\n",
       "      <td>NaN</td>\n",
       "      <td>2010-01-01</td>\n",
       "      <td>13.9</td>\n",
       "      <td>19.0</td>\n",
       "      <td>7.0</td>\n",
       "      <td>0.0</td>\n",
       "      <td>8.8</td>\n",
       "    </tr>\n",
       "  </tbody>\n",
       "</table>\n",
       "</div>"
      ],
      "text/plain": [
       "    City  Year Month Day  AvgDWS  Visibility  MaxSusWS  \\\n",
       "0  Adana  2010    01  01     3.8         6.0     10.24   \n",
       "\n",
       "   Maximum wind gust reported for the day Weather type        Date  \\\n",
       "0                                     NaN          NaN  2010-01-01   \n",
       "\n",
       "   TempAvgCel  TempMaxCel  TempMinCel  PrecipitationCm  DewPntCel  \n",
       "0        13.9        19.0         7.0              0.0        8.8  "
      ]
     },
     "execution_count": 71,
     "metadata": {},
     "output_type": "execute_result"
    }
   ],
   "source": [
    "# Renaming the column.\n",
    "turkey_daily_climate.rename(columns = {\"Maximum sustained wind speed (miles/hour)\":\"MaxSusWS\"}, inplace = True)\n",
    "turkey_daily_climate.head(1)"
   ]
  },
  {
   "cell_type": "code",
   "execution_count": 72,
   "metadata": {
    "colab": {
     "base_uri": "https://localhost:8080/",
     "height": 410
    },
    "id": "GTKOILL8Wqza",
    "outputId": "80dd4f4d-c453-48dd-fc02-634b10eef7e5"
   },
   "outputs": [
    {
     "name": "stderr",
     "output_type": "stream",
     "text": [
      "C:\\ProgramData\\Anaconda3\\lib\\site-packages\\seaborn\\distributions.py:2619: FutureWarning: `distplot` is a deprecated function and will be removed in a future version. Please adapt your code to use either `displot` (a figure-level function with similar flexibility) or `histplot` (an axes-level function for histograms).\n",
      "  warnings.warn(msg, FutureWarning)\n"
     ]
    },
    {
     "data": {
      "image/png": "[encoded data removed]",
      "text/plain": [
       "<Figure size 1440x360 with 2 Axes>"
      ]
     },
     "metadata": {},
     "output_type": "display_data"
    }
   ],
   "source": [
    "fig, axes = plt.subplots(1, 2, figsize=(20, 5), sharey=False)\n",
    "# fig.suptitle('Box & Distribution Plots')\n",
    "\n",
    "# Box Plot\n",
    "sns.boxplot(ax=axes[0], x = turkey_daily_climate.MaxSusWS)\n",
    "axes[0].set_title('Maximum sustained wind speed (miles/hour) Box Plot')\n",
    "\n",
    "# Distribution Plot\n",
    "sns.distplot(ax=axes[1], x = turkey_daily_climate.MaxSusWS)\n",
    "axes[1].set_title('Maximum sustained wind speed (miles/hour) Dist Plot')\n",
    "\n",
    "plt.show()"
   ]
  },
  {
   "cell_type": "code",
   "execution_count": 73,
   "metadata": {
    "colab": {
     "base_uri": "https://localhost:8080/",
     "height": 360
    },
    "id": "s0UCesF2Wx8P",
    "outputId": "346c8c43-3602-4aa4-a170-b4b2e4ab7f27"
   },
   "outputs": [
    {
     "data": {
      "image/png": "[encoded data removed]",
      "text/plain": [
       "<Figure size 936x360 with 1 Axes>"
      ]
     },
     "metadata": {},
     "output_type": "display_data"
    }
   ],
   "source": [
    "fig, axes = plt.subplots(figsize=(13, 5))\n",
    "# Visibility Distribution\n",
    "ax1 = sns.countplot(x=turkey_daily_climate.MaxSusWS, palette=\"Blues\")\n",
    "ax1.set_title('Maximum sustained wind speed (miles/hour) Distribution', fontsize=15)\n",
    "for p in ax1.patches:\n",
    "    ax1.annotate(f'\\n{p.get_height()}', (p.get_x()+0.4, p.get_height()+500), ha='center', va='baseline', color='black', size=12)"
   ]
  },
  {
   "cell_type": "code",
   "execution_count": 74,
   "metadata": {
    "colab": {
     "base_uri": "https://localhost:8080/"
    },
    "id": "wSW9aA2eWzpL",
    "outputId": "7560f5af-deb0-412b-bfd8-5c0e7a2a52f8"
   },
   "outputs": [
    {
     "data": {
      "text/plain": [
       "6185"
      ]
     },
     "execution_count": 74,
     "metadata": {},
     "output_type": "execute_result"
    }
   ],
   "source": [
    "turkey_daily_climate.MaxSusWS.isnull().sum()"
   ]
  },
  {
   "cell_type": "code",
   "execution_count": 75,
   "metadata": {
    "colab": {
     "base_uri": "https://localhost:8080/",
     "height": 1000
    },
    "id": "kOl3qBu8W2AP",
    "outputId": "af5d5b55-0292-4ca1-9670-88c0ff93696c"
   },
   "outputs": [
    {
     "data": {
      "text/html": [
       "<div>\n",
       "<style scoped>\n",
       "    .dataframe tbody tr th:only-of-type {\n",
       "        vertical-align: middle;\n",
       "    }\n",
       "\n",
       "    .dataframe tbody tr th {\n",
       "        vertical-align: top;\n",
       "    }\n",
       "\n",
       "    .dataframe thead th {\n",
       "        text-align: right;\n",
       "    }\n",
       "</style>\n",
       "<table border=\"1\" class=\"dataframe\">\n",
       "  <thead>\n",
       "    <tr style=\"text-align: right;\">\n",
       "      <th></th>\n",
       "      <th>Year</th>\n",
       "      <th>AvgDWS</th>\n",
       "      <th>Visibility</th>\n",
       "      <th>MaxSusWS</th>\n",
       "      <th>Maximum wind gust reported for the day</th>\n",
       "      <th>TempAvgCel</th>\n",
       "      <th>TempMaxCel</th>\n",
       "      <th>TempMinCel</th>\n",
       "      <th>PrecipitationCm</th>\n",
       "      <th>DewPntCel</th>\n",
       "    </tr>\n",
       "    <tr>\n",
       "      <th>City</th>\n",
       "      <th></th>\n",
       "      <th></th>\n",
       "      <th></th>\n",
       "      <th></th>\n",
       "      <th></th>\n",
       "      <th></th>\n",
       "      <th></th>\n",
       "      <th></th>\n",
       "      <th></th>\n",
       "      <th></th>\n",
       "    </tr>\n",
       "  </thead>\n",
       "  <tbody>\n",
       "    <tr>\n",
       "      <th>Adana</th>\n",
       "      <td>2012.5</td>\n",
       "      <td>5.41</td>\n",
       "      <td>6.0</td>\n",
       "      <td>13.81</td>\n",
       "      <td>29.92</td>\n",
       "      <td>22.3</td>\n",
       "      <td>28.60</td>\n",
       "      <td>17.0</td>\n",
       "      <td>0.0</td>\n",
       "      <td>14.4</td>\n",
       "    </tr>\n",
       "    <tr>\n",
       "      <th>Adiyaman</th>\n",
       "      <td>2012.5</td>\n",
       "      <td>5.41</td>\n",
       "      <td>6.0</td>\n",
       "      <td>12.77</td>\n",
       "      <td>29.92</td>\n",
       "      <td>21.0</td>\n",
       "      <td>28.00</td>\n",
       "      <td>15.7</td>\n",
       "      <td>0.0</td>\n",
       "      <td>12.9</td>\n",
       "    </tr>\n",
       "    <tr>\n",
       "      <th>Afyonkarahisar</th>\n",
       "      <td>2012.5</td>\n",
       "      <td>5.41</td>\n",
       "      <td>6.0</td>\n",
       "      <td>13.81</td>\n",
       "      <td>28.88</td>\n",
       "      <td>23.2</td>\n",
       "      <td>29.00</td>\n",
       "      <td>17.8</td>\n",
       "      <td>0.0</td>\n",
       "      <td>15.1</td>\n",
       "    </tr>\n",
       "    <tr>\n",
       "      <th>Agri</th>\n",
       "      <td>2012.5</td>\n",
       "      <td>5.41</td>\n",
       "      <td>6.0</td>\n",
       "      <td>13.81</td>\n",
       "      <td>29.92</td>\n",
       "      <td>21.3</td>\n",
       "      <td>28.00</td>\n",
       "      <td>16.0</td>\n",
       "      <td>0.0</td>\n",
       "      <td>13.0</td>\n",
       "    </tr>\n",
       "    <tr>\n",
       "      <th>Amasya</th>\n",
       "      <td>2012.5</td>\n",
       "      <td>5.41</td>\n",
       "      <td>6.0</td>\n",
       "      <td>12.77</td>\n",
       "      <td>29.92</td>\n",
       "      <td>22.1</td>\n",
       "      <td>28.30</td>\n",
       "      <td>16.0</td>\n",
       "      <td>0.0</td>\n",
       "      <td>13.7</td>\n",
       "    </tr>\n",
       "    <tr>\n",
       "      <th>...</th>\n",
       "      <td>...</td>\n",
       "      <td>...</td>\n",
       "      <td>...</td>\n",
       "      <td>...</td>\n",
       "      <td>...</td>\n",
       "      <td>...</td>\n",
       "      <td>...</td>\n",
       "      <td>...</td>\n",
       "      <td>...</td>\n",
       "      <td>...</td>\n",
       "    </tr>\n",
       "    <tr>\n",
       "      <th>Tunceli</th>\n",
       "      <td>2012.5</td>\n",
       "      <td>5.41</td>\n",
       "      <td>6.0</td>\n",
       "      <td>13.81</td>\n",
       "      <td>28.88</td>\n",
       "      <td>23.1</td>\n",
       "      <td>29.00</td>\n",
       "      <td>17.3</td>\n",
       "      <td>0.0</td>\n",
       "      <td>14.8</td>\n",
       "    </tr>\n",
       "    <tr>\n",
       "      <th>Usak</th>\n",
       "      <td>2012.5</td>\n",
       "      <td>5.41</td>\n",
       "      <td>6.0</td>\n",
       "      <td>13.81</td>\n",
       "      <td>29.40</td>\n",
       "      <td>21.9</td>\n",
       "      <td>28.00</td>\n",
       "      <td>16.0</td>\n",
       "      <td>0.0</td>\n",
       "      <td>13.7</td>\n",
       "    </tr>\n",
       "    <tr>\n",
       "      <th>Van</th>\n",
       "      <td>2012.5</td>\n",
       "      <td>5.41</td>\n",
       "      <td>6.0</td>\n",
       "      <td>12.77</td>\n",
       "      <td>28.88</td>\n",
       "      <td>21.4</td>\n",
       "      <td>28.00</td>\n",
       "      <td>16.0</td>\n",
       "      <td>0.0</td>\n",
       "      <td>13.1</td>\n",
       "    </tr>\n",
       "    <tr>\n",
       "      <th>Yozgat</th>\n",
       "      <td>2012.5</td>\n",
       "      <td>5.41</td>\n",
       "      <td>6.0</td>\n",
       "      <td>13.81</td>\n",
       "      <td>28.88</td>\n",
       "      <td>23.3</td>\n",
       "      <td>29.05</td>\n",
       "      <td>17.8</td>\n",
       "      <td>0.0</td>\n",
       "      <td>15.1</td>\n",
       "    </tr>\n",
       "    <tr>\n",
       "      <th>Zonguldak</th>\n",
       "      <td>2012.5</td>\n",
       "      <td>5.41</td>\n",
       "      <td>6.0</td>\n",
       "      <td>12.77</td>\n",
       "      <td>29.92</td>\n",
       "      <td>20.9</td>\n",
       "      <td>27.40</td>\n",
       "      <td>15.0</td>\n",
       "      <td>0.0</td>\n",
       "      <td>12.9</td>\n",
       "    </tr>\n",
       "  </tbody>\n",
       "</table>\n",
       "<p>69 rows × 10 columns</p>\n",
       "</div>"
      ],
      "text/plain": [
       "                  Year  AvgDWS  Visibility  MaxSusWS  \\\n",
       "City                                                   \n",
       "Adana           2012.5    5.41         6.0     13.81   \n",
       "Adiyaman        2012.5    5.41         6.0     12.77   \n",
       "Afyonkarahisar  2012.5    5.41         6.0     13.81   \n",
       "Agri            2012.5    5.41         6.0     13.81   \n",
       "Amasya          2012.5    5.41         6.0     12.77   \n",
       "...                ...     ...         ...       ...   \n",
       "Tunceli         2012.5    5.41         6.0     13.81   \n",
       "Usak            2012.5    5.41         6.0     13.81   \n",
       "Van             2012.5    5.41         6.0     12.77   \n",
       "Yozgat          2012.5    5.41         6.0     13.81   \n",
       "Zonguldak       2012.5    5.41         6.0     12.77   \n",
       "\n",
       "                Maximum wind gust reported for the day  TempAvgCel  \\\n",
       "City                                                                 \n",
       "Adana                                            29.92        22.3   \n",
       "Adiyaman                                         29.92        21.0   \n",
       "Afyonkarahisar                                   28.88        23.2   \n",
       "Agri                                             29.92        21.3   \n",
       "Amasya                                           29.92        22.1   \n",
       "...                                                ...         ...   \n",
       "Tunceli                                          28.88        23.1   \n",
       "Usak                                             29.40        21.9   \n",
       "Van                                              28.88        21.4   \n",
       "Yozgat                                           28.88        23.3   \n",
       "Zonguldak                                        29.92        20.9   \n",
       "\n",
       "                TempMaxCel  TempMinCel  PrecipitationCm  DewPntCel  \n",
       "City                                                                \n",
       "Adana                28.60        17.0              0.0       14.4  \n",
       "Adiyaman             28.00        15.7              0.0       12.9  \n",
       "Afyonkarahisar       29.00        17.8              0.0       15.1  \n",
       "Agri                 28.00        16.0              0.0       13.0  \n",
       "Amasya               28.30        16.0              0.0       13.7  \n",
       "...                    ...         ...              ...        ...  \n",
       "Tunceli              29.00        17.3              0.0       14.8  \n",
       "Usak                 28.00        16.0              0.0       13.7  \n",
       "Van                  28.00        16.0              0.0       13.1  \n",
       "Yozgat               29.05        17.8              0.0       15.1  \n",
       "Zonguldak            27.40        15.0              0.0       12.9  \n",
       "\n",
       "[69 rows x 10 columns]"
      ]
     },
     "execution_count": 75,
     "metadata": {},
     "output_type": "execute_result"
    }
   ],
   "source": [
    "turkey_daily_climate.groupby(['City']).median()"
   ]
  },
  {
   "cell_type": "markdown",
   "metadata": {},
   "source": [
    "*We will fill these missing values with the median of MaxSusWS values of the cities.*"
   ]
  },
  {
   "cell_type": "code",
   "execution_count": 76,
   "metadata": {
    "colab": {
     "base_uri": "https://localhost:8080/"
    },
    "id": "R-HBf9UPW5is",
    "outputId": "e7e52405-4757-4ae2-e879-5f0535098611"
   },
   "outputs": [
    {
     "data": {
      "text/plain": [
       "12.77    38\n",
       "13.81    31\n",
       "Name: MaxSusWS, dtype: int64"
      ]
     },
     "execution_count": 76,
     "metadata": {},
     "output_type": "execute_result"
    }
   ],
   "source": [
    "turkey_daily_climate.groupby(['City']).MaxSusWS.median().value_counts()"
   ]
  },
  {
   "cell_type": "code",
   "execution_count": 77,
   "metadata": {
    "id": "Omz8gHKqW_bz"
   },
   "outputs": [],
   "source": [
    "dict_MaxSusWS = dict(turkey_daily_climate[(turkey_daily_climate.MaxSusWS.isnull() == False)].groupby('City').MaxSusWS.median())"
   ]
  },
  {
   "cell_type": "code",
   "execution_count": 78,
   "metadata": {
    "id": "PKk4Vx3eXAgQ"
   },
   "outputs": [],
   "source": [
    "for i in turkey_daily_climate[(turkey_daily_climate.MaxSusWS.isnull() == True)].City:\n",
    "    idx = turkey_daily_climate[(turkey_daily_climate.MaxSusWS.isnull() == True)].City.index\n",
    "    turkey_daily_climate.iloc[idx, 6] = dict_MaxSusWS[i]"
   ]
  },
  {
   "cell_type": "code",
   "execution_count": 79,
   "metadata": {
    "colab": {
     "base_uri": "https://localhost:8080/"
    },
    "id": "WCfRvSQCXFXy",
    "outputId": "1b3f2b87-3c61-424f-811b-2b053f4e9ed2"
   },
   "outputs": [
    {
     "data": {
      "text/plain": [
       "0"
      ]
     },
     "execution_count": 79,
     "metadata": {},
     "output_type": "execute_result"
    }
   ],
   "source": [
    "turkey_daily_climate.MaxSusWS.isnull().sum()"
   ]
  },
  {
   "cell_type": "markdown",
   "metadata": {
    "id": "NZuIiNXKXJJ-"
   },
   "source": [
    "**Maximum wind gust reported for the day**"
   ]
  },
  {
   "cell_type": "code",
   "execution_count": 80,
   "metadata": {
    "colab": {
     "base_uri": "https://localhost:8080/"
    },
    "id": "3QYaF2U7XGtT",
    "outputId": "5d5ae6cf-ef19-4d8b-e55f-d955ac644437"
   },
   "outputs": [
    {
     "data": {
      "text/plain": [
       "array([  nan, 33.26, 28.88, 37.98, 31.07, 21.86, 20.83, 25.32, 29.92,\n",
       "       39.13, 34.41, 41.31, 42.46, 32.22, 23.02, 24.17, 18.3 , 52.94,\n",
       "       36.94, 43.84, 19.68, 27.73, 35.79, 16.11, 40.28, 26.35, 17.26])"
      ]
     },
     "execution_count": 80,
     "metadata": {},
     "output_type": "execute_result"
    }
   ],
   "source": [
    "# Check unique values\n",
    "turkey_daily_climate['Maximum wind gust reported for the day'].unique()\n"
   ]
  },
  {
   "cell_type": "code",
   "execution_count": 81,
   "metadata": {
    "colab": {
     "base_uri": "https://localhost:8080/",
     "height": 81
    },
    "id": "5D9C1NLFXLp_",
    "outputId": "2cfa98a2-d3ac-4768-82f0-d20fd9935bb3"
   },
   "outputs": [
    {
     "data": {
      "text/html": [
       "<div>\n",
       "<style scoped>\n",
       "    .dataframe tbody tr th:only-of-type {\n",
       "        vertical-align: middle;\n",
       "    }\n",
       "\n",
       "    .dataframe tbody tr th {\n",
       "        vertical-align: top;\n",
       "    }\n",
       "\n",
       "    .dataframe thead th {\n",
       "        text-align: right;\n",
       "    }\n",
       "</style>\n",
       "<table border=\"1\" class=\"dataframe\">\n",
       "  <thead>\n",
       "    <tr style=\"text-align: right;\">\n",
       "      <th></th>\n",
       "      <th>City</th>\n",
       "      <th>Year</th>\n",
       "      <th>Month</th>\n",
       "      <th>Day</th>\n",
       "      <th>AvgDWS</th>\n",
       "      <th>Visibility</th>\n",
       "      <th>MaxSusWS</th>\n",
       "      <th>MaxWG</th>\n",
       "      <th>Weather type</th>\n",
       "      <th>Date</th>\n",
       "      <th>TempAvgCel</th>\n",
       "      <th>TempMaxCel</th>\n",
       "      <th>TempMinCel</th>\n",
       "      <th>PrecipitationCm</th>\n",
       "      <th>DewPntCel</th>\n",
       "    </tr>\n",
       "  </thead>\n",
       "  <tbody>\n",
       "    <tr>\n",
       "      <th>0</th>\n",
       "      <td>Adana</td>\n",
       "      <td>2010</td>\n",
       "      <td>01</td>\n",
       "      <td>01</td>\n",
       "      <td>3.8</td>\n",
       "      <td>6.0</td>\n",
       "      <td>10.24</td>\n",
       "      <td>NaN</td>\n",
       "      <td>NaN</td>\n",
       "      <td>2010-01-01</td>\n",
       "      <td>13.9</td>\n",
       "      <td>19.0</td>\n",
       "      <td>7.0</td>\n",
       "      <td>0.0</td>\n",
       "      <td>8.8</td>\n",
       "    </tr>\n",
       "  </tbody>\n",
       "</table>\n",
       "</div>"
      ],
      "text/plain": [
       "    City  Year Month Day  AvgDWS  Visibility  MaxSusWS  MaxWG Weather type  \\\n",
       "0  Adana  2010    01  01     3.8         6.0     10.24    NaN          NaN   \n",
       "\n",
       "         Date  TempAvgCel  TempMaxCel  TempMinCel  PrecipitationCm  DewPntCel  \n",
       "0  2010-01-01        13.9        19.0         7.0              0.0        8.8  "
      ]
     },
     "execution_count": 81,
     "metadata": {},
     "output_type": "execute_result"
    }
   ],
   "source": [
    "# Renaming the column.\n",
    "turkey_daily_climate.rename(columns = {\"Maximum wind gust reported for the day\":\"MaxWG\"}, inplace = True)\n",
    "turkey_daily_climate.head(1)"
   ]
  },
  {
   "cell_type": "code",
   "execution_count": 82,
   "metadata": {
    "colab": {
     "base_uri": "https://localhost:8080/",
     "height": 410
    },
    "id": "JxhubPJ4XN7S",
    "outputId": "efefe3c6-18a0-44fd-b6d6-1ba79c4608f7"
   },
   "outputs": [
    {
     "name": "stderr",
     "output_type": "stream",
     "text": [
      "C:\\ProgramData\\Anaconda3\\lib\\site-packages\\seaborn\\distributions.py:2619: FutureWarning: `distplot` is a deprecated function and will be removed in a future version. Please adapt your code to use either `displot` (a figure-level function with similar flexibility) or `histplot` (an axes-level function for histograms).\n",
      "  warnings.warn(msg, FutureWarning)\n"
     ]
    },
    {
     "data": {
      "image/png": "[encoded data removed]",
      "text/plain": [
       "<Figure size 1440x360 with 2 Axes>"
      ]
     },
     "metadata": {},
     "output_type": "display_data"
    }
   ],
   "source": [
    "fig, axes = plt.subplots(1, 2, figsize=(20, 5), sharey=False)\n",
    "# fig.suptitle('Box & Distribution Plots')\n",
    "\n",
    "# Box Plot\n",
    "sns.boxplot(ax=axes[0], x = turkey_daily_climate.MaxWG)\n",
    "axes[0].set_title('Maximum wind gust reported for the day')\n",
    "\n",
    "# Distribution Plot\n",
    "sns.distplot(ax=axes[1], x = turkey_daily_climate.MaxWG)\n",
    "axes[1].set_title('Maximum wind gust reported for the day')\n",
    "\n",
    "plt.show()"
   ]
  },
  {
   "cell_type": "code",
   "execution_count": 83,
   "metadata": {
    "colab": {
     "base_uri": "https://localhost:8080/",
     "height": 1000
    },
    "id": "claSaKg6XZ1H",
    "outputId": "a5b6e738-0a11-41a2-9b8a-510e1d5491b2"
   },
   "outputs": [
    {
     "data": {
      "text/html": [
       "<div>\n",
       "<style scoped>\n",
       "    .dataframe tbody tr th:only-of-type {\n",
       "        vertical-align: middle;\n",
       "    }\n",
       "\n",
       "    .dataframe tbody tr th {\n",
       "        vertical-align: top;\n",
       "    }\n",
       "\n",
       "    .dataframe thead th {\n",
       "        text-align: right;\n",
       "    }\n",
       "</style>\n",
       "<table border=\"1\" class=\"dataframe\">\n",
       "  <thead>\n",
       "    <tr style=\"text-align: right;\">\n",
       "      <th></th>\n",
       "      <th>Year</th>\n",
       "      <th>AvgDWS</th>\n",
       "      <th>Visibility</th>\n",
       "      <th>MaxSusWS</th>\n",
       "      <th>MaxWG</th>\n",
       "      <th>TempAvgCel</th>\n",
       "      <th>TempMaxCel</th>\n",
       "      <th>TempMinCel</th>\n",
       "      <th>PrecipitationCm</th>\n",
       "      <th>DewPntCel</th>\n",
       "    </tr>\n",
       "    <tr>\n",
       "      <th>City</th>\n",
       "      <th></th>\n",
       "      <th></th>\n",
       "      <th></th>\n",
       "      <th></th>\n",
       "      <th></th>\n",
       "      <th></th>\n",
       "      <th></th>\n",
       "      <th></th>\n",
       "      <th></th>\n",
       "      <th></th>\n",
       "    </tr>\n",
       "  </thead>\n",
       "  <tbody>\n",
       "    <tr>\n",
       "      <th>Adana</th>\n",
       "      <td>2012.5</td>\n",
       "      <td>5.41</td>\n",
       "      <td>6.0</td>\n",
       "      <td>13.81</td>\n",
       "      <td>29.92</td>\n",
       "      <td>22.3</td>\n",
       "      <td>28.60</td>\n",
       "      <td>17.0</td>\n",
       "      <td>0.0</td>\n",
       "      <td>14.4</td>\n",
       "    </tr>\n",
       "    <tr>\n",
       "      <th>Adiyaman</th>\n",
       "      <td>2012.5</td>\n",
       "      <td>5.41</td>\n",
       "      <td>6.0</td>\n",
       "      <td>12.77</td>\n",
       "      <td>29.92</td>\n",
       "      <td>21.0</td>\n",
       "      <td>28.00</td>\n",
       "      <td>15.7</td>\n",
       "      <td>0.0</td>\n",
       "      <td>12.9</td>\n",
       "    </tr>\n",
       "    <tr>\n",
       "      <th>Afyonkarahisar</th>\n",
       "      <td>2012.5</td>\n",
       "      <td>5.41</td>\n",
       "      <td>6.0</td>\n",
       "      <td>13.81</td>\n",
       "      <td>28.88</td>\n",
       "      <td>23.2</td>\n",
       "      <td>29.00</td>\n",
       "      <td>17.8</td>\n",
       "      <td>0.0</td>\n",
       "      <td>15.1</td>\n",
       "    </tr>\n",
       "    <tr>\n",
       "      <th>Agri</th>\n",
       "      <td>2012.5</td>\n",
       "      <td>5.41</td>\n",
       "      <td>6.0</td>\n",
       "      <td>13.81</td>\n",
       "      <td>29.92</td>\n",
       "      <td>21.3</td>\n",
       "      <td>28.00</td>\n",
       "      <td>16.0</td>\n",
       "      <td>0.0</td>\n",
       "      <td>13.0</td>\n",
       "    </tr>\n",
       "    <tr>\n",
       "      <th>Amasya</th>\n",
       "      <td>2012.5</td>\n",
       "      <td>5.41</td>\n",
       "      <td>6.0</td>\n",
       "      <td>13.81</td>\n",
       "      <td>29.92</td>\n",
       "      <td>22.1</td>\n",
       "      <td>28.30</td>\n",
       "      <td>16.0</td>\n",
       "      <td>0.0</td>\n",
       "      <td>13.7</td>\n",
       "    </tr>\n",
       "    <tr>\n",
       "      <th>...</th>\n",
       "      <td>...</td>\n",
       "      <td>...</td>\n",
       "      <td>...</td>\n",
       "      <td>...</td>\n",
       "      <td>...</td>\n",
       "      <td>...</td>\n",
       "      <td>...</td>\n",
       "      <td>...</td>\n",
       "      <td>...</td>\n",
       "      <td>...</td>\n",
       "    </tr>\n",
       "    <tr>\n",
       "      <th>Tunceli</th>\n",
       "      <td>2012.5</td>\n",
       "      <td>5.41</td>\n",
       "      <td>6.0</td>\n",
       "      <td>13.81</td>\n",
       "      <td>28.88</td>\n",
       "      <td>23.1</td>\n",
       "      <td>29.00</td>\n",
       "      <td>17.3</td>\n",
       "      <td>0.0</td>\n",
       "      <td>14.8</td>\n",
       "    </tr>\n",
       "    <tr>\n",
       "      <th>Usak</th>\n",
       "      <td>2012.5</td>\n",
       "      <td>5.41</td>\n",
       "      <td>6.0</td>\n",
       "      <td>13.81</td>\n",
       "      <td>29.40</td>\n",
       "      <td>21.9</td>\n",
       "      <td>28.00</td>\n",
       "      <td>16.0</td>\n",
       "      <td>0.0</td>\n",
       "      <td>13.7</td>\n",
       "    </tr>\n",
       "    <tr>\n",
       "      <th>Van</th>\n",
       "      <td>2012.5</td>\n",
       "      <td>5.41</td>\n",
       "      <td>6.0</td>\n",
       "      <td>13.81</td>\n",
       "      <td>28.88</td>\n",
       "      <td>21.4</td>\n",
       "      <td>28.00</td>\n",
       "      <td>16.0</td>\n",
       "      <td>0.0</td>\n",
       "      <td>13.1</td>\n",
       "    </tr>\n",
       "    <tr>\n",
       "      <th>Yozgat</th>\n",
       "      <td>2012.5</td>\n",
       "      <td>5.41</td>\n",
       "      <td>6.0</td>\n",
       "      <td>13.81</td>\n",
       "      <td>28.88</td>\n",
       "      <td>23.3</td>\n",
       "      <td>29.05</td>\n",
       "      <td>17.8</td>\n",
       "      <td>0.0</td>\n",
       "      <td>15.1</td>\n",
       "    </tr>\n",
       "    <tr>\n",
       "      <th>Zonguldak</th>\n",
       "      <td>2012.5</td>\n",
       "      <td>5.41</td>\n",
       "      <td>6.0</td>\n",
       "      <td>13.81</td>\n",
       "      <td>29.92</td>\n",
       "      <td>20.9</td>\n",
       "      <td>27.40</td>\n",
       "      <td>15.0</td>\n",
       "      <td>0.0</td>\n",
       "      <td>12.9</td>\n",
       "    </tr>\n",
       "  </tbody>\n",
       "</table>\n",
       "<p>69 rows × 10 columns</p>\n",
       "</div>"
      ],
      "text/plain": [
       "                  Year  AvgDWS  Visibility  MaxSusWS  MaxWG  TempAvgCel  \\\n",
       "City                                                                      \n",
       "Adana           2012.5    5.41         6.0     13.81  29.92        22.3   \n",
       "Adiyaman        2012.5    5.41         6.0     12.77  29.92        21.0   \n",
       "Afyonkarahisar  2012.5    5.41         6.0     13.81  28.88        23.2   \n",
       "Agri            2012.5    5.41         6.0     13.81  29.92        21.3   \n",
       "Amasya          2012.5    5.41         6.0     13.81  29.92        22.1   \n",
       "...                ...     ...         ...       ...    ...         ...   \n",
       "Tunceli         2012.5    5.41         6.0     13.81  28.88        23.1   \n",
       "Usak            2012.5    5.41         6.0     13.81  29.40        21.9   \n",
       "Van             2012.5    5.41         6.0     13.81  28.88        21.4   \n",
       "Yozgat          2012.5    5.41         6.0     13.81  28.88        23.3   \n",
       "Zonguldak       2012.5    5.41         6.0     13.81  29.92        20.9   \n",
       "\n",
       "                TempMaxCel  TempMinCel  PrecipitationCm  DewPntCel  \n",
       "City                                                                \n",
       "Adana                28.60        17.0              0.0       14.4  \n",
       "Adiyaman             28.00        15.7              0.0       12.9  \n",
       "Afyonkarahisar       29.00        17.8              0.0       15.1  \n",
       "Agri                 28.00        16.0              0.0       13.0  \n",
       "Amasya               28.30        16.0              0.0       13.7  \n",
       "...                    ...         ...              ...        ...  \n",
       "Tunceli              29.00        17.3              0.0       14.8  \n",
       "Usak                 28.00        16.0              0.0       13.7  \n",
       "Van                  28.00        16.0              0.0       13.1  \n",
       "Yozgat               29.05        17.8              0.0       15.1  \n",
       "Zonguldak            27.40        15.0              0.0       12.9  \n",
       "\n",
       "[69 rows x 10 columns]"
      ]
     },
     "execution_count": 83,
     "metadata": {},
     "output_type": "execute_result"
    }
   ],
   "source": [
    "turkey_daily_climate.groupby(['City']).median()"
   ]
  },
  {
   "cell_type": "markdown",
   "metadata": {},
   "source": [
    "*We will fill these missing values with the median of MaxWG values of the cities.*"
   ]
  },
  {
   "cell_type": "code",
   "execution_count": 84,
   "metadata": {
    "colab": {
     "base_uri": "https://localhost:8080/"
    },
    "id": "Ajs0F39BXcRH",
    "outputId": "05ebf38d-888d-49cd-f062-1540dd458574"
   },
   "outputs": [
    {
     "data": {
      "text/plain": [
       "29.92    40\n",
       "28.88    21\n",
       "29.40     8\n",
       "Name: MaxWG, dtype: int64"
      ]
     },
     "execution_count": 84,
     "metadata": {},
     "output_type": "execute_result"
    }
   ],
   "source": [
    "turkey_daily_climate.groupby(['City']).MaxWG.median().value_counts()"
   ]
  },
  {
   "cell_type": "code",
   "execution_count": 85,
   "metadata": {
    "id": "_lSk0_VUXdPL"
   },
   "outputs": [],
   "source": [
    "dict_MaxWG = dict(turkey_daily_climate[(turkey_daily_climate.MaxWG.isnull() == False)].groupby('City').MaxWG.median())"
   ]
  },
  {
   "cell_type": "code",
   "execution_count": 86,
   "metadata": {
    "colab": {
     "base_uri": "https://localhost:8080/"
    },
    "id": "_o4WoSE4XdRt",
    "outputId": "9dd12960-fe84-4928-b064-24522660f4f9"
   },
   "outputs": [
    {
     "data": {
      "text/plain": [
       "0"
      ]
     },
     "execution_count": 86,
     "metadata": {},
     "output_type": "execute_result"
    }
   ],
   "source": [
    "for i in turkey_daily_climate[(turkey_daily_climate.MaxWG.isnull() == True)].City:\n",
    "    idx = turkey_daily_climate[(turkey_daily_climate.MaxWG.isnull() == True)].City.index\n",
    "    turkey_daily_climate.iloc[idx, 7] = dict_MaxWG[i]\n",
    "\n",
    "turkey_daily_climate.MaxWG.isnull().sum()"
   ]
  },
  {
   "cell_type": "markdown",
   "metadata": {
    "id": "FPoHa1GWXNfP"
   },
   "source": [
    "**Weather Type**"
   ]
  },
  {
   "cell_type": "code",
   "execution_count": 87,
   "metadata": {
    "colab": {
     "base_uri": "https://localhost:8080/"
    },
    "id": "qmTgI3gDXNnR",
    "outputId": "0f607b63-1c52-469c-e0fb-8a9d4207952c"
   },
   "outputs": [
    {
     "data": {
      "text/plain": [
       "array([nan, 'Rain/Drizzle', 'Rain/Drizzle, Thunder', 'Fog',\n",
       "       'Fog, Rain/Drizzle, Thunder', 'Fog, Rain/Drizzle', 'Thunder',\n",
       "       'Rain/Drizzle, Hail, Thunder',\n",
       "       'Rain/Drizzle, Snow, Thunder, Tornado'], dtype=object)"
      ]
     },
     "execution_count": 87,
     "metadata": {},
     "output_type": "execute_result"
    }
   ],
   "source": [
    "# Check the unique values.\n",
    "turkey_daily_climate['Weather type'].unique()"
   ]
  },
  {
   "cell_type": "code",
   "execution_count": 88,
   "metadata": {
    "id": "I1-u9vMgXt9g"
   },
   "outputs": [],
   "source": [
    "# Rename the column\n",
    "turkey_daily_climate.rename(columns = {\"Weather type\":\"WeatherType\"}, inplace = True)"
   ]
  },
  {
   "cell_type": "code",
   "execution_count": 89,
   "metadata": {
    "colab": {
     "base_uri": "https://localhost:8080/",
     "height": 481
    },
    "id": "Lul3BO4zXwJ7",
    "outputId": "3680685c-2341-4157-d05d-249dc7f7a654"
   },
   "outputs": [
    {
     "data": {
      "image/png": "[encoded data removed]",
      "text/plain": [
       "<Figure size 1512x504 with 1 Axes>"
      ]
     },
     "metadata": {},
     "output_type": "display_data"
    }
   ],
   "source": [
    "fig, axes = plt.subplots(figsize=(21, 7))\n",
    "# Visibility Distribution\n",
    "ax1 = sns.countplot(x=turkey_daily_climate.WeatherType, palette=\"Blues\")\n",
    "ax1.set_title('Weather Type Distribution', fontsize=15)\n",
    "for p in ax1.patches:\n",
    "    ax1.annotate(f'\\n{p.get_height()}', (p.get_x()+0.4, p.get_height()+500), ha='center', va='baseline', color='black', size=15)"
   ]
  },
  {
   "cell_type": "code",
   "execution_count": 90,
   "metadata": {},
   "outputs": [
    {
     "data": {
      "text/html": [
       "<div>\n",
       "<style scoped>\n",
       "    .dataframe tbody tr th:only-of-type {\n",
       "        vertical-align: middle;\n",
       "    }\n",
       "\n",
       "    .dataframe tbody tr th {\n",
       "        vertical-align: top;\n",
       "    }\n",
       "\n",
       "    .dataframe thead th {\n",
       "        text-align: right;\n",
       "    }\n",
       "</style>\n",
       "<table border=\"1\" class=\"dataframe\">\n",
       "  <thead>\n",
       "    <tr style=\"text-align: right;\">\n",
       "      <th></th>\n",
       "      <th></th>\n",
       "      <th>WeatherType</th>\n",
       "    </tr>\n",
       "    <tr>\n",
       "      <th>City</th>\n",
       "      <th>WeatherType</th>\n",
       "      <th></th>\n",
       "    </tr>\n",
       "  </thead>\n",
       "  <tbody>\n",
       "    <tr>\n",
       "      <th rowspan=\"5\" valign=\"top\">Adana</th>\n",
       "      <th>Rain/Drizzle, Thunder</th>\n",
       "      <td>196</td>\n",
       "    </tr>\n",
       "    <tr>\n",
       "      <th>Rain/Drizzle</th>\n",
       "      <td>191</td>\n",
       "    </tr>\n",
       "    <tr>\n",
       "      <th>Fog</th>\n",
       "      <td>31</td>\n",
       "    </tr>\n",
       "    <tr>\n",
       "      <th>Rain/Drizzle, Hail, Thunder</th>\n",
       "      <td>11</td>\n",
       "    </tr>\n",
       "    <tr>\n",
       "      <th>Fog, Rain/Drizzle</th>\n",
       "      <td>4</td>\n",
       "    </tr>\n",
       "    <tr>\n",
       "      <th>...</th>\n",
       "      <th>...</th>\n",
       "      <td>...</td>\n",
       "    </tr>\n",
       "    <tr>\n",
       "      <th rowspan=\"5\" valign=\"top\">Zonguldak</th>\n",
       "      <th>Rain/Drizzle, Hail, Thunder</th>\n",
       "      <td>10</td>\n",
       "    </tr>\n",
       "    <tr>\n",
       "      <th>Fog, Rain/Drizzle</th>\n",
       "      <td>5</td>\n",
       "    </tr>\n",
       "    <tr>\n",
       "      <th>Thunder</th>\n",
       "      <td>5</td>\n",
       "    </tr>\n",
       "    <tr>\n",
       "      <th>Fog, Rain/Drizzle, Thunder</th>\n",
       "      <td>4</td>\n",
       "    </tr>\n",
       "    <tr>\n",
       "      <th>Rain/Drizzle, Snow, Thunder, Tornado</th>\n",
       "      <td>1</td>\n",
       "    </tr>\n",
       "  </tbody>\n",
       "</table>\n",
       "<p>552 rows × 1 columns</p>\n",
       "</div>"
      ],
      "text/plain": [
       "                                                WeatherType\n",
       "City      WeatherType                                      \n",
       "Adana     Rain/Drizzle, Thunder                         196\n",
       "          Rain/Drizzle                                  191\n",
       "          Fog                                            31\n",
       "          Rain/Drizzle, Hail, Thunder                    11\n",
       "          Fog, Rain/Drizzle                               4\n",
       "...                                                     ...\n",
       "Zonguldak Rain/Drizzle, Hail, Thunder                    10\n",
       "          Fog, Rain/Drizzle                               5\n",
       "          Thunder                                         5\n",
       "          Fog, Rain/Drizzle, Thunder                      4\n",
       "          Rain/Drizzle, Snow, Thunder, Tornado            1\n",
       "\n",
       "[552 rows x 1 columns]"
      ]
     },
     "execution_count": 90,
     "metadata": {},
     "output_type": "execute_result"
    }
   ],
   "source": [
    "abc = pd.DataFrame(turkey_daily_climate.groupby(['City']).WeatherType.value_counts())\n",
    "abc"
   ]
  },
  {
   "cell_type": "markdown",
   "metadata": {},
   "source": [
    "*We will fill these missing values with the mode of WeatherType values of the cities.*"
   ]
  },
  {
   "cell_type": "code",
   "execution_count": 91,
   "metadata": {
    "colab": {
     "base_uri": "https://localhost:8080/"
    },
    "id": "76ezQM5UX0Vb",
    "outputId": "7f4e4f26-20f4-47f4-aa4b-bc8452167c9b"
   },
   "outputs": [
    {
     "data": {
      "text/plain": [
       "0"
      ]
     },
     "execution_count": 91,
     "metadata": {},
     "output_type": "execute_result"
    }
   ],
   "source": [
    "for i in turkey_daily_climate[turkey_daily_climate.WeatherType.isnull() == True].City:\n",
    "    idx = turkey_daily_climate[turkey_daily_climate.WeatherType.isnull() == True].City.index\n",
    "    turkey_daily_climate.iloc[idx,8] = abc.loc[i][:1].index.tolist()[0]\n",
    "\n",
    "turkey_daily_climate.WeatherType.isnull().sum()"
   ]
  },
  {
   "cell_type": "markdown",
   "metadata": {
    "id": "86VpyYTYYC22"
   },
   "source": [
    "## Fire Dataset Integration"
   ]
  },
  {
   "cell_type": "markdown",
   "metadata": {},
   "source": [
    "**The df_2010_2015.csv was obtained by using Kaggle modis datasets and geopy module(to insert province).**"
   ]
  },
  {
   "cell_type": "code",
   "execution_count": 92,
   "metadata": {
    "id": "PxIEaekEX0bq"
   },
   "outputs": [],
   "source": [
    "df_2010_2015 = pd.read_csv(\"df_2010_2015.csv\")"
   ]
  },
  {
   "cell_type": "code",
   "execution_count": 93,
   "metadata": {
    "colab": {
     "base_uri": "https://localhost:8080/",
     "height": 81
    },
    "id": "6BjmkcrdYHi8",
    "outputId": "550bb314-19aa-4e78-b22b-2cb90ffda173"
   },
   "outputs": [
    {
     "data": {
      "text/html": [
       "<div>\n",
       "<style scoped>\n",
       "    .dataframe tbody tr th:only-of-type {\n",
       "        vertical-align: middle;\n",
       "    }\n",
       "\n",
       "    .dataframe tbody tr th {\n",
       "        vertical-align: top;\n",
       "    }\n",
       "\n",
       "    .dataframe thead th {\n",
       "        text-align: right;\n",
       "    }\n",
       "</style>\n",
       "<table border=\"1\" class=\"dataframe\">\n",
       "  <thead>\n",
       "    <tr style=\"text-align: right;\">\n",
       "      <th></th>\n",
       "      <th>latitude</th>\n",
       "      <th>longitude</th>\n",
       "      <th>brightness</th>\n",
       "      <th>scan</th>\n",
       "      <th>track</th>\n",
       "      <th>acq_date</th>\n",
       "      <th>acq_time</th>\n",
       "      <th>satellite</th>\n",
       "      <th>instrument</th>\n",
       "      <th>confidence</th>\n",
       "      <th>version</th>\n",
       "      <th>bright_t31</th>\n",
       "      <th>frp</th>\n",
       "      <th>daynight</th>\n",
       "      <th>type</th>\n",
       "      <th>province</th>\n",
       "      <th>elevation</th>\n",
       "    </tr>\n",
       "  </thead>\n",
       "  <tbody>\n",
       "    <tr>\n",
       "      <th>0</th>\n",
       "      <td>39.1908</td>\n",
       "      <td>31.1941</td>\n",
       "      <td>307.8</td>\n",
       "      <td>1.6</td>\n",
       "      <td>1.2</td>\n",
       "      <td>2010-01-01</td>\n",
       "      <td>915</td>\n",
       "      <td>Terra</td>\n",
       "      <td>MODIS</td>\n",
       "      <td>66</td>\n",
       "      <td>6.2</td>\n",
       "      <td>286.1</td>\n",
       "      <td>17.7</td>\n",
       "      <td>D</td>\n",
       "      <td>0</td>\n",
       "      <td>Afyonkarahisar</td>\n",
       "      <td>943</td>\n",
       "    </tr>\n",
       "  </tbody>\n",
       "</table>\n",
       "</div>"
      ],
      "text/plain": [
       "   latitude  longitude  brightness  scan  track    acq_date  acq_time  \\\n",
       "0   39.1908    31.1941       307.8   1.6    1.2  2010-01-01       915   \n",
       "\n",
       "  satellite instrument  confidence  version  bright_t31   frp daynight  type  \\\n",
       "0     Terra      MODIS          66      6.2       286.1  17.7        D     0   \n",
       "\n",
       "         province  elevation  \n",
       "0  Afyonkarahisar        943  "
      ]
     },
     "execution_count": 93,
     "metadata": {},
     "output_type": "execute_result"
    }
   ],
   "source": [
    "df_2010_2015.head(1)"
   ]
  },
  {
   "cell_type": "code",
   "execution_count": 94,
   "metadata": {
    "colab": {
     "base_uri": "https://localhost:8080/"
    },
    "id": "v8HPrMUBYIGP",
    "outputId": "25cd8dfa-cc5e-4da3-8d85-82d24dc7c787"
   },
   "outputs": [
    {
     "data": {
      "text/plain": [
       "array(['Adana', 'Adiyaman', 'Afyonkarahisar', 'Agri', 'Amasya', 'Ankara',\n",
       "       'Antalya', 'Artvin', 'Aydin', 'Balikesir', 'Bilecik', 'Bingol',\n",
       "       'Bolu', 'Burdur', 'Bursa', 'Canakkale', 'Cankiri', 'Corum',\n",
       "       'Denizli', 'Diyarbakir', 'Edirne', 'Elazig', 'Erzincan', 'Erzurum',\n",
       "       'Eskisehir', 'Gap', 'Sanliurfa', 'Giresun', 'Gumushane', 'Hakkari',\n",
       "       'Hatay', 'Isparta', 'Istanbul', 'Mersin', 'Izmir', 'Kars',\n",
       "       'Kastamonu', 'Kayseri', 'Kirklareli', 'Kirsehir', 'Kocaeli',\n",
       "       'Konya', 'Kutahya', 'Malatya', 'Manisa', 'Kahramanmaras', 'Mardin',\n",
       "       'Mugla', 'Mus', 'Nevsehir', 'Nigde', 'Ordu', 'Rize', 'Sakarya',\n",
       "       'Samsun', 'Siirt', 'Sinop', 'Sivas', 'Tekirdag', 'Tokat',\n",
       "       'Trabzon', 'Tunceli', 'Usak', 'Van', 'Yozgat', 'Zonguldak',\n",
       "       'Bayburt', 'Kirikkale', 'Batman'], dtype=object)"
      ]
     },
     "execution_count": 94,
     "metadata": {},
     "output_type": "execute_result"
    }
   ],
   "source": [
    "turkey_daily_climate.City.unique()"
   ]
  },
  {
   "cell_type": "code",
   "execution_count": 95,
   "metadata": {
    "colab": {
     "base_uri": "https://localhost:8080/"
    },
    "id": "A5mhwycAYKiM",
    "outputId": "907a3aa8-b85f-4305-cecd-9c7ae1508f74"
   },
   "outputs": [
    {
     "data": {
      "text/plain": [
       "69"
      ]
     },
     "execution_count": 95,
     "metadata": {},
     "output_type": "execute_result"
    }
   ],
   "source": [
    "# Check unique values\n",
    "len(turkey_daily_climate.City.unique())"
   ]
  },
  {
   "cell_type": "code",
   "execution_count": 96,
   "metadata": {
    "id": "s322H925YMdV"
   },
   "outputs": [],
   "source": [
    "# Rename the cities in order to combine two datasets\n",
    "city_map = {\"City\" : {'Adiyaman':'Adıyaman', 'Agri':'Ağrı', 'Aydin':'Aydın', 'Balikesir':'Balıkesir', 'Bingol':'Bingöl', 'Canakkale':'Çanakkale', 'Cankiri':'Çankırı', 'Corum':'Çorum', 'Diyarbakir':'Diyarbakır', 'Elazig':'Elâzığ', 'Eskisehir':'Eskişehir', 'Sanliurfa':'Şanlıurfa', 'Gumushane':'Gümüşhane', 'Hakkari':'Hakkâri', 'Istanbul':'İstanbul', 'Izmir':'İzmir', 'Kirklareli':'Kırklareli', 'Kirsehir':'Kırşehir', 'Kutahya':'Kütahya', 'Kahramanmaras':'Kahramanmaraş', 'Mugla':'Muğla', 'Mus':'Muş', 'Nevsehir':'Nevşehir', 'Nigde':'Niğde', 'Tekirdag':'Tekirdağ', 'Usak':'Uşak', 'Kirikkale':'Kırıkkale'}}"
   ]
  },
  {
   "cell_type": "code",
   "execution_count": 97,
   "metadata": {
    "id": "LpsYnsIhYORS"
   },
   "outputs": [],
   "source": [
    "turkey_daily_climate = turkey_daily_climate.replace(city_map)"
   ]
  },
  {
   "cell_type": "markdown",
   "metadata": {},
   "source": [
    "*We will add a Fire column using city and date informations.*"
   ]
  },
  {
   "cell_type": "code",
   "execution_count": 98,
   "metadata": {
    "id": "dGISeoB8YW3a"
   },
   "outputs": [],
   "source": [
    "list_ = []\n",
    "for i,j in zip(df_2010_2015.acq_date, df_2010_2015.province):\n",
    "    list_.append((i,j))"
   ]
  },
  {
   "cell_type": "code",
   "execution_count": 99,
   "metadata": {
    "id": "B3DKcvN2YYSG"
   },
   "outputs": [],
   "source": [
    "unique = list(set(list_))"
   ]
  },
  {
   "cell_type": "code",
   "execution_count": 100,
   "metadata": {
    "id": "gEtLUy5sYZjl"
   },
   "outputs": [],
   "source": [
    "# Add a Fire column to dataset\n",
    "turkey_daily_climate['Fire'] = 0"
   ]
  },
  {
   "cell_type": "markdown",
   "metadata": {},
   "source": [
    "*If Date and City is same for two datesets, then Fire = 1*"
   ]
  },
  {
   "cell_type": "code",
   "execution_count": 101,
   "metadata": {
    "id": "bawtbSyTYbQZ"
   },
   "outputs": [],
   "source": [
    "for i,j in zip(turkey_daily_climate.Date, turkey_daily_climate.City):\n",
    "    for k in unique:\n",
    "        if  (i == k[0]) and (j == k[1]):\n",
    "            idx = turkey_daily_climate[(turkey_daily_climate.Date == i)&(turkey_daily_climate.City == j)].index\n",
    "            turkey_daily_climate.iloc[idx, 15] = 1"
   ]
  },
  {
   "cell_type": "code",
   "execution_count": 102,
   "metadata": {
    "colab": {
     "base_uri": "https://localhost:8080/",
     "height": 374
    },
    "id": "tfmYzu63YcHn",
    "outputId": "9ad1bdc7-6dfe-4bd5-8d5c-7d36510a32c7"
   },
   "outputs": [
    {
     "data": {
      "image/png": "[encoded data removed]",
      "text/plain": [
       "<Figure size 432x432 with 1 Axes>"
      ]
     },
     "metadata": {},
     "output_type": "display_data"
    }
   ],
   "source": [
    "colors = ['lightsteelblue','cornflowerblue']\n",
    "ax = turkey_daily_climate.Fire.value_counts().plot.pie(autopct='%1.2f%%', figsize=(6, 6),fontsize=14, colors=colors)\n",
    "ax.set_title('Fire Percantages', fontsize = 14)\n",
    "plt.show()"
   ]
  },
  {
   "cell_type": "code",
   "execution_count": 103,
   "metadata": {
    "id": "usBL6t3pYdIM"
   },
   "outputs": [],
   "source": [
    "# Sorting the values by Date column\n",
    "df = turkey_daily_climate.sort_values(by = 'Date')"
   ]
  },
  {
   "cell_type": "code",
   "execution_count": 104,
   "metadata": {
    "id": "aQvnBJP9YeGe"
   },
   "outputs": [],
   "source": [
    "turkey_daily_climate.set_index(['Date'], inplace = True)"
   ]
  },
  {
   "cell_type": "code",
   "execution_count": 105,
   "metadata": {
    "colab": {
     "base_uri": "https://localhost:8080/",
     "height": 455
    },
    "id": "Au1IKOWqYedz",
    "outputId": "ef3cc488-b335-4f4f-8f84-f86287ec6b64"
   },
   "outputs": [
    {
     "data": {
      "text/html": [
       "<div>\n",
       "<style scoped>\n",
       "    .dataframe tbody tr th:only-of-type {\n",
       "        vertical-align: middle;\n",
       "    }\n",
       "\n",
       "    .dataframe tbody tr th {\n",
       "        vertical-align: top;\n",
       "    }\n",
       "\n",
       "    .dataframe thead th {\n",
       "        text-align: right;\n",
       "    }\n",
       "</style>\n",
       "<table border=\"1\" class=\"dataframe\">\n",
       "  <thead>\n",
       "    <tr style=\"text-align: right;\">\n",
       "      <th></th>\n",
       "      <th>City</th>\n",
       "      <th>Year</th>\n",
       "      <th>Month</th>\n",
       "      <th>Day</th>\n",
       "      <th>AvgDWS</th>\n",
       "      <th>Visibility</th>\n",
       "      <th>MaxSusWS</th>\n",
       "      <th>MaxWG</th>\n",
       "      <th>WeatherType</th>\n",
       "      <th>TempAvgCel</th>\n",
       "      <th>TempMaxCel</th>\n",
       "      <th>TempMinCel</th>\n",
       "      <th>PrecipitationCm</th>\n",
       "      <th>DewPntCel</th>\n",
       "      <th>Fire</th>\n",
       "    </tr>\n",
       "    <tr>\n",
       "      <th>Date</th>\n",
       "      <th></th>\n",
       "      <th></th>\n",
       "      <th></th>\n",
       "      <th></th>\n",
       "      <th></th>\n",
       "      <th></th>\n",
       "      <th></th>\n",
       "      <th></th>\n",
       "      <th></th>\n",
       "      <th></th>\n",
       "      <th></th>\n",
       "      <th></th>\n",
       "      <th></th>\n",
       "      <th></th>\n",
       "      <th></th>\n",
       "    </tr>\n",
       "  </thead>\n",
       "  <tbody>\n",
       "    <tr>\n",
       "      <th>2010-01-01</th>\n",
       "      <td>Adana</td>\n",
       "      <td>2010</td>\n",
       "      <td>01</td>\n",
       "      <td>01</td>\n",
       "      <td>3.80</td>\n",
       "      <td>6.0</td>\n",
       "      <td>10.24</td>\n",
       "      <td>29.92</td>\n",
       "      <td>Rain/Drizzle, Thunder</td>\n",
       "      <td>13.9</td>\n",
       "      <td>19.0</td>\n",
       "      <td>7.0</td>\n",
       "      <td>0.00</td>\n",
       "      <td>8.8</td>\n",
       "      <td>0</td>\n",
       "    </tr>\n",
       "    <tr>\n",
       "      <th>2010-01-02</th>\n",
       "      <td>Adana</td>\n",
       "      <td>2010</td>\n",
       "      <td>01</td>\n",
       "      <td>02</td>\n",
       "      <td>4.60</td>\n",
       "      <td>6.0</td>\n",
       "      <td>16.11</td>\n",
       "      <td>29.92</td>\n",
       "      <td>Rain/Drizzle</td>\n",
       "      <td>15.1</td>\n",
       "      <td>19.0</td>\n",
       "      <td>11.0</td>\n",
       "      <td>0.03</td>\n",
       "      <td>11.8</td>\n",
       "      <td>0</td>\n",
       "    </tr>\n",
       "    <tr>\n",
       "      <th>2010-01-03</th>\n",
       "      <td>Adana</td>\n",
       "      <td>2010</td>\n",
       "      <td>01</td>\n",
       "      <td>03</td>\n",
       "      <td>7.25</td>\n",
       "      <td>5.0</td>\n",
       "      <td>16.11</td>\n",
       "      <td>29.92</td>\n",
       "      <td>Rain/Drizzle</td>\n",
       "      <td>15.9</td>\n",
       "      <td>20.0</td>\n",
       "      <td>12.0</td>\n",
       "      <td>0.03</td>\n",
       "      <td>6.0</td>\n",
       "      <td>0</td>\n",
       "    </tr>\n",
       "    <tr>\n",
       "      <th>2010-01-04</th>\n",
       "      <td>Adana</td>\n",
       "      <td>2010</td>\n",
       "      <td>01</td>\n",
       "      <td>04</td>\n",
       "      <td>5.52</td>\n",
       "      <td>6.0</td>\n",
       "      <td>10.24</td>\n",
       "      <td>29.92</td>\n",
       "      <td>Rain/Drizzle, Thunder</td>\n",
       "      <td>14.1</td>\n",
       "      <td>19.0</td>\n",
       "      <td>8.0</td>\n",
       "      <td>0.00</td>\n",
       "      <td>1.9</td>\n",
       "      <td>0</td>\n",
       "    </tr>\n",
       "    <tr>\n",
       "      <th>2010-01-05</th>\n",
       "      <td>Adana</td>\n",
       "      <td>2010</td>\n",
       "      <td>01</td>\n",
       "      <td>05</td>\n",
       "      <td>5.06</td>\n",
       "      <td>6.0</td>\n",
       "      <td>11.39</td>\n",
       "      <td>29.92</td>\n",
       "      <td>Rain/Drizzle</td>\n",
       "      <td>12.8</td>\n",
       "      <td>15.0</td>\n",
       "      <td>11.0</td>\n",
       "      <td>0.03</td>\n",
       "      <td>6.6</td>\n",
       "      <td>0</td>\n",
       "    </tr>\n",
       "    <tr>\n",
       "      <th>...</th>\n",
       "      <td>...</td>\n",
       "      <td>...</td>\n",
       "      <td>...</td>\n",
       "      <td>...</td>\n",
       "      <td>...</td>\n",
       "      <td>...</td>\n",
       "      <td>...</td>\n",
       "      <td>...</td>\n",
       "      <td>...</td>\n",
       "      <td>...</td>\n",
       "      <td>...</td>\n",
       "      <td>...</td>\n",
       "      <td>...</td>\n",
       "      <td>...</td>\n",
       "      <td>...</td>\n",
       "    </tr>\n",
       "    <tr>\n",
       "      <th>2015-02-27</th>\n",
       "      <td>Batman</td>\n",
       "      <td>2015</td>\n",
       "      <td>02</td>\n",
       "      <td>27</td>\n",
       "      <td>6.44</td>\n",
       "      <td>6.0</td>\n",
       "      <td>17.26</td>\n",
       "      <td>29.92</td>\n",
       "      <td>Rain/Drizzle</td>\n",
       "      <td>12.7</td>\n",
       "      <td>18.4</td>\n",
       "      <td>8.0</td>\n",
       "      <td>0.23</td>\n",
       "      <td>4.4</td>\n",
       "      <td>0</td>\n",
       "    </tr>\n",
       "    <tr>\n",
       "      <th>2015-02-28</th>\n",
       "      <td>Batman</td>\n",
       "      <td>2015</td>\n",
       "      <td>02</td>\n",
       "      <td>28</td>\n",
       "      <td>7.83</td>\n",
       "      <td>6.0</td>\n",
       "      <td>16.11</td>\n",
       "      <td>19.68</td>\n",
       "      <td>Rain/Drizzle, Thunder</td>\n",
       "      <td>14.7</td>\n",
       "      <td>20.3</td>\n",
       "      <td>8.1</td>\n",
       "      <td>0.00</td>\n",
       "      <td>1.4</td>\n",
       "      <td>0</td>\n",
       "    </tr>\n",
       "    <tr>\n",
       "      <th>2015-02-29</th>\n",
       "      <td>Batman</td>\n",
       "      <td>2015</td>\n",
       "      <td>02</td>\n",
       "      <td>29</td>\n",
       "      <td>4.83</td>\n",
       "      <td>6.0</td>\n",
       "      <td>11.39</td>\n",
       "      <td>29.92</td>\n",
       "      <td>Rain/Drizzle, Thunder</td>\n",
       "      <td>16.3</td>\n",
       "      <td>23.7</td>\n",
       "      <td>8.4</td>\n",
       "      <td>0.00</td>\n",
       "      <td>6.1</td>\n",
       "      <td>0</td>\n",
       "    </tr>\n",
       "    <tr>\n",
       "      <th>2015-02-30</th>\n",
       "      <td>Batman</td>\n",
       "      <td>2015</td>\n",
       "      <td>02</td>\n",
       "      <td>30</td>\n",
       "      <td>5.64</td>\n",
       "      <td>6.0</td>\n",
       "      <td>11.39</td>\n",
       "      <td>29.92</td>\n",
       "      <td>Rain/Drizzle, Thunder</td>\n",
       "      <td>19.3</td>\n",
       "      <td>27.0</td>\n",
       "      <td>10.0</td>\n",
       "      <td>0.00</td>\n",
       "      <td>4.6</td>\n",
       "      <td>0</td>\n",
       "    </tr>\n",
       "    <tr>\n",
       "      <th>2015-02-31</th>\n",
       "      <td>Batman</td>\n",
       "      <td>2015</td>\n",
       "      <td>02</td>\n",
       "      <td>31</td>\n",
       "      <td>4.60</td>\n",
       "      <td>6.0</td>\n",
       "      <td>9.21</td>\n",
       "      <td>29.92</td>\n",
       "      <td>Rain/Drizzle, Thunder</td>\n",
       "      <td>21.4</td>\n",
       "      <td>30.2</td>\n",
       "      <td>11.6</td>\n",
       "      <td>0.00</td>\n",
       "      <td>5.7</td>\n",
       "      <td>0</td>\n",
       "    </tr>\n",
       "  </tbody>\n",
       "</table>\n",
       "<p>152294 rows × 15 columns</p>\n",
       "</div>"
      ],
      "text/plain": [
       "              City  Year Month Day  AvgDWS  Visibility  MaxSusWS  MaxWG  \\\n",
       "Date                                                                      \n",
       "2010-01-01   Adana  2010    01  01    3.80         6.0     10.24  29.92   \n",
       "2010-01-02   Adana  2010    01  02    4.60         6.0     16.11  29.92   \n",
       "2010-01-03   Adana  2010    01  03    7.25         5.0     16.11  29.92   \n",
       "2010-01-04   Adana  2010    01  04    5.52         6.0     10.24  29.92   \n",
       "2010-01-05   Adana  2010    01  05    5.06         6.0     11.39  29.92   \n",
       "...            ...   ...   ...  ..     ...         ...       ...    ...   \n",
       "2015-02-27  Batman  2015    02  27    6.44         6.0     17.26  29.92   \n",
       "2015-02-28  Batman  2015    02  28    7.83         6.0     16.11  19.68   \n",
       "2015-02-29  Batman  2015    02  29    4.83         6.0     11.39  29.92   \n",
       "2015-02-30  Batman  2015    02  30    5.64         6.0     11.39  29.92   \n",
       "2015-02-31  Batman  2015    02  31    4.60         6.0      9.21  29.92   \n",
       "\n",
       "                      WeatherType  TempAvgCel  TempMaxCel  TempMinCel  \\\n",
       "Date                                                                    \n",
       "2010-01-01  Rain/Drizzle, Thunder        13.9        19.0         7.0   \n",
       "2010-01-02           Rain/Drizzle        15.1        19.0        11.0   \n",
       "2010-01-03           Rain/Drizzle        15.9        20.0        12.0   \n",
       "2010-01-04  Rain/Drizzle, Thunder        14.1        19.0         8.0   \n",
       "2010-01-05           Rain/Drizzle        12.8        15.0        11.0   \n",
       "...                           ...         ...         ...         ...   \n",
       "2015-02-27           Rain/Drizzle        12.7        18.4         8.0   \n",
       "2015-02-28  Rain/Drizzle, Thunder        14.7        20.3         8.1   \n",
       "2015-02-29  Rain/Drizzle, Thunder        16.3        23.7         8.4   \n",
       "2015-02-30  Rain/Drizzle, Thunder        19.3        27.0        10.0   \n",
       "2015-02-31  Rain/Drizzle, Thunder        21.4        30.2        11.6   \n",
       "\n",
       "            PrecipitationCm  DewPntCel  Fire  \n",
       "Date                                          \n",
       "2010-01-01             0.00        8.8     0  \n",
       "2010-01-02             0.03       11.8     0  \n",
       "2010-01-03             0.03        6.0     0  \n",
       "2010-01-04             0.00        1.9     0  \n",
       "2010-01-05             0.03        6.6     0  \n",
       "...                     ...        ...   ...  \n",
       "2015-02-27             0.23        4.4     0  \n",
       "2015-02-28             0.00        1.4     0  \n",
       "2015-02-29             0.00        6.1     0  \n",
       "2015-02-30             0.00        4.6     0  \n",
       "2015-02-31             0.00        5.7     0  \n",
       "\n",
       "[152294 rows x 15 columns]"
      ]
     },
     "execution_count": 105,
     "metadata": {},
     "output_type": "execute_result"
    }
   ],
   "source": [
    "turkey_daily_climate"
   ]
  },
  {
   "cell_type": "code",
   "execution_count": 106,
   "metadata": {
    "id": "HkccxcQSYe9q"
   },
   "outputs": [],
   "source": [
    "X = turkey_daily_climate.drop(columns = 'Fire')\n",
    "y = turkey_daily_climate.Fire"
   ]
  },
  {
   "cell_type": "code",
   "execution_count": 107,
   "metadata": {
    "id": "Q0MEyZpnYg5-"
   },
   "outputs": [],
   "source": [
    "turkey_daily_climate.to_csv('fire_data_turkey.csv')"
   ]
  },
  {
   "cell_type": "markdown",
   "metadata": {
    "id": "aGyGO3rtY_eM"
   },
   "source": [
    "## EDA"
   ]
  },
  {
   "cell_type": "code",
   "execution_count": 108,
   "metadata": {
    "id": "RYXytpLMj2MU"
   },
   "outputs": [],
   "source": [
    "quarter_dict = {'01': 'Q1', '02': 'Q1', '03': 'Q2', '04': 'Q2', '05': 'Q2', '06': 'Q3', '07': 'Q3', '08': 'Q3', '09': 'Q4', '10': 'Q4', '11': 'Q4', '12': 'Q1' }\n",
    "\n",
    "q = []\n",
    "for i in turkey_daily_climate['Month'].to_list():\n",
    "  q.append(quarter_dict.get(str(i)))\n",
    "\n",
    "turkey_daily_climate['Quarter'] = q"
   ]
  },
  {
   "cell_type": "code",
   "execution_count": 109,
   "metadata": {
    "colab": {
     "base_uri": "https://localhost:8080/",
     "height": 455
    },
    "id": "4PvpmlejkQtr",
    "outputId": "96be553b-701f-49ff-d06b-54c9b9399844"
   },
   "outputs": [
    {
     "data": {
      "text/html": [
       "<div>\n",
       "<style scoped>\n",
       "    .dataframe tbody tr th:only-of-type {\n",
       "        vertical-align: middle;\n",
       "    }\n",
       "\n",
       "    .dataframe tbody tr th {\n",
       "        vertical-align: top;\n",
       "    }\n",
       "\n",
       "    .dataframe thead th {\n",
       "        text-align: right;\n",
       "    }\n",
       "</style>\n",
       "<table border=\"1\" class=\"dataframe\">\n",
       "  <thead>\n",
       "    <tr style=\"text-align: right;\">\n",
       "      <th></th>\n",
       "      <th>City</th>\n",
       "      <th>Year</th>\n",
       "      <th>Month</th>\n",
       "      <th>Day</th>\n",
       "      <th>AvgDWS</th>\n",
       "      <th>Visibility</th>\n",
       "      <th>MaxSusWS</th>\n",
       "      <th>MaxWG</th>\n",
       "      <th>WeatherType</th>\n",
       "      <th>TempAvgCel</th>\n",
       "      <th>TempMaxCel</th>\n",
       "      <th>TempMinCel</th>\n",
       "      <th>PrecipitationCm</th>\n",
       "      <th>DewPntCel</th>\n",
       "      <th>Fire</th>\n",
       "      <th>Quarter</th>\n",
       "    </tr>\n",
       "    <tr>\n",
       "      <th>Date</th>\n",
       "      <th></th>\n",
       "      <th></th>\n",
       "      <th></th>\n",
       "      <th></th>\n",
       "      <th></th>\n",
       "      <th></th>\n",
       "      <th></th>\n",
       "      <th></th>\n",
       "      <th></th>\n",
       "      <th></th>\n",
       "      <th></th>\n",
       "      <th></th>\n",
       "      <th></th>\n",
       "      <th></th>\n",
       "      <th></th>\n",
       "      <th></th>\n",
       "    </tr>\n",
       "  </thead>\n",
       "  <tbody>\n",
       "    <tr>\n",
       "      <th>2010-01-01</th>\n",
       "      <td>Adana</td>\n",
       "      <td>2010</td>\n",
       "      <td>01</td>\n",
       "      <td>01</td>\n",
       "      <td>3.80</td>\n",
       "      <td>6.0</td>\n",
       "      <td>10.24</td>\n",
       "      <td>29.92</td>\n",
       "      <td>Rain/Drizzle, Thunder</td>\n",
       "      <td>13.9</td>\n",
       "      <td>19.0</td>\n",
       "      <td>7.0</td>\n",
       "      <td>0.00</td>\n",
       "      <td>8.8</td>\n",
       "      <td>0</td>\n",
       "      <td>Q1</td>\n",
       "    </tr>\n",
       "    <tr>\n",
       "      <th>2010-01-02</th>\n",
       "      <td>Adana</td>\n",
       "      <td>2010</td>\n",
       "      <td>01</td>\n",
       "      <td>02</td>\n",
       "      <td>4.60</td>\n",
       "      <td>6.0</td>\n",
       "      <td>16.11</td>\n",
       "      <td>29.92</td>\n",
       "      <td>Rain/Drizzle</td>\n",
       "      <td>15.1</td>\n",
       "      <td>19.0</td>\n",
       "      <td>11.0</td>\n",
       "      <td>0.03</td>\n",
       "      <td>11.8</td>\n",
       "      <td>0</td>\n",
       "      <td>Q1</td>\n",
       "    </tr>\n",
       "    <tr>\n",
       "      <th>2010-01-03</th>\n",
       "      <td>Adana</td>\n",
       "      <td>2010</td>\n",
       "      <td>01</td>\n",
       "      <td>03</td>\n",
       "      <td>7.25</td>\n",
       "      <td>5.0</td>\n",
       "      <td>16.11</td>\n",
       "      <td>29.92</td>\n",
       "      <td>Rain/Drizzle</td>\n",
       "      <td>15.9</td>\n",
       "      <td>20.0</td>\n",
       "      <td>12.0</td>\n",
       "      <td>0.03</td>\n",
       "      <td>6.0</td>\n",
       "      <td>0</td>\n",
       "      <td>Q1</td>\n",
       "    </tr>\n",
       "    <tr>\n",
       "      <th>2010-01-04</th>\n",
       "      <td>Adana</td>\n",
       "      <td>2010</td>\n",
       "      <td>01</td>\n",
       "      <td>04</td>\n",
       "      <td>5.52</td>\n",
       "      <td>6.0</td>\n",
       "      <td>10.24</td>\n",
       "      <td>29.92</td>\n",
       "      <td>Rain/Drizzle, Thunder</td>\n",
       "      <td>14.1</td>\n",
       "      <td>19.0</td>\n",
       "      <td>8.0</td>\n",
       "      <td>0.00</td>\n",
       "      <td>1.9</td>\n",
       "      <td>0</td>\n",
       "      <td>Q1</td>\n",
       "    </tr>\n",
       "    <tr>\n",
       "      <th>2010-01-05</th>\n",
       "      <td>Adana</td>\n",
       "      <td>2010</td>\n",
       "      <td>01</td>\n",
       "      <td>05</td>\n",
       "      <td>5.06</td>\n",
       "      <td>6.0</td>\n",
       "      <td>11.39</td>\n",
       "      <td>29.92</td>\n",
       "      <td>Rain/Drizzle</td>\n",
       "      <td>12.8</td>\n",
       "      <td>15.0</td>\n",
       "      <td>11.0</td>\n",
       "      <td>0.03</td>\n",
       "      <td>6.6</td>\n",
       "      <td>0</td>\n",
       "      <td>Q1</td>\n",
       "    </tr>\n",
       "    <tr>\n",
       "      <th>...</th>\n",
       "      <td>...</td>\n",
       "      <td>...</td>\n",
       "      <td>...</td>\n",
       "      <td>...</td>\n",
       "      <td>...</td>\n",
       "      <td>...</td>\n",
       "      <td>...</td>\n",
       "      <td>...</td>\n",
       "      <td>...</td>\n",
       "      <td>...</td>\n",
       "      <td>...</td>\n",
       "      <td>...</td>\n",
       "      <td>...</td>\n",
       "      <td>...</td>\n",
       "      <td>...</td>\n",
       "      <td>...</td>\n",
       "    </tr>\n",
       "    <tr>\n",
       "      <th>2015-02-27</th>\n",
       "      <td>Batman</td>\n",
       "      <td>2015</td>\n",
       "      <td>02</td>\n",
       "      <td>27</td>\n",
       "      <td>6.44</td>\n",
       "      <td>6.0</td>\n",
       "      <td>17.26</td>\n",
       "      <td>29.92</td>\n",
       "      <td>Rain/Drizzle</td>\n",
       "      <td>12.7</td>\n",
       "      <td>18.4</td>\n",
       "      <td>8.0</td>\n",
       "      <td>0.23</td>\n",
       "      <td>4.4</td>\n",
       "      <td>0</td>\n",
       "      <td>Q1</td>\n",
       "    </tr>\n",
       "    <tr>\n",
       "      <th>2015-02-28</th>\n",
       "      <td>Batman</td>\n",
       "      <td>2015</td>\n",
       "      <td>02</td>\n",
       "      <td>28</td>\n",
       "      <td>7.83</td>\n",
       "      <td>6.0</td>\n",
       "      <td>16.11</td>\n",
       "      <td>19.68</td>\n",
       "      <td>Rain/Drizzle, Thunder</td>\n",
       "      <td>14.7</td>\n",
       "      <td>20.3</td>\n",
       "      <td>8.1</td>\n",
       "      <td>0.00</td>\n",
       "      <td>1.4</td>\n",
       "      <td>0</td>\n",
       "      <td>Q1</td>\n",
       "    </tr>\n",
       "    <tr>\n",
       "      <th>2015-02-29</th>\n",
       "      <td>Batman</td>\n",
       "      <td>2015</td>\n",
       "      <td>02</td>\n",
       "      <td>29</td>\n",
       "      <td>4.83</td>\n",
       "      <td>6.0</td>\n",
       "      <td>11.39</td>\n",
       "      <td>29.92</td>\n",
       "      <td>Rain/Drizzle, Thunder</td>\n",
       "      <td>16.3</td>\n",
       "      <td>23.7</td>\n",
       "      <td>8.4</td>\n",
       "      <td>0.00</td>\n",
       "      <td>6.1</td>\n",
       "      <td>0</td>\n",
       "      <td>Q1</td>\n",
       "    </tr>\n",
       "    <tr>\n",
       "      <th>2015-02-30</th>\n",
       "      <td>Batman</td>\n",
       "      <td>2015</td>\n",
       "      <td>02</td>\n",
       "      <td>30</td>\n",
       "      <td>5.64</td>\n",
       "      <td>6.0</td>\n",
       "      <td>11.39</td>\n",
       "      <td>29.92</td>\n",
       "      <td>Rain/Drizzle, Thunder</td>\n",
       "      <td>19.3</td>\n",
       "      <td>27.0</td>\n",
       "      <td>10.0</td>\n",
       "      <td>0.00</td>\n",
       "      <td>4.6</td>\n",
       "      <td>0</td>\n",
       "      <td>Q1</td>\n",
       "    </tr>\n",
       "    <tr>\n",
       "      <th>2015-02-31</th>\n",
       "      <td>Batman</td>\n",
       "      <td>2015</td>\n",
       "      <td>02</td>\n",
       "      <td>31</td>\n",
       "      <td>4.60</td>\n",
       "      <td>6.0</td>\n",
       "      <td>9.21</td>\n",
       "      <td>29.92</td>\n",
       "      <td>Rain/Drizzle, Thunder</td>\n",
       "      <td>21.4</td>\n",
       "      <td>30.2</td>\n",
       "      <td>11.6</td>\n",
       "      <td>0.00</td>\n",
       "      <td>5.7</td>\n",
       "      <td>0</td>\n",
       "      <td>Q1</td>\n",
       "    </tr>\n",
       "  </tbody>\n",
       "</table>\n",
       "<p>152294 rows × 16 columns</p>\n",
       "</div>"
      ],
      "text/plain": [
       "              City  Year Month Day  AvgDWS  Visibility  MaxSusWS  MaxWG  \\\n",
       "Date                                                                      \n",
       "2010-01-01   Adana  2010    01  01    3.80         6.0     10.24  29.92   \n",
       "2010-01-02   Adana  2010    01  02    4.60         6.0     16.11  29.92   \n",
       "2010-01-03   Adana  2010    01  03    7.25         5.0     16.11  29.92   \n",
       "2010-01-04   Adana  2010    01  04    5.52         6.0     10.24  29.92   \n",
       "2010-01-05   Adana  2010    01  05    5.06         6.0     11.39  29.92   \n",
       "...            ...   ...   ...  ..     ...         ...       ...    ...   \n",
       "2015-02-27  Batman  2015    02  27    6.44         6.0     17.26  29.92   \n",
       "2015-02-28  Batman  2015    02  28    7.83         6.0     16.11  19.68   \n",
       "2015-02-29  Batman  2015    02  29    4.83         6.0     11.39  29.92   \n",
       "2015-02-30  Batman  2015    02  30    5.64         6.0     11.39  29.92   \n",
       "2015-02-31  Batman  2015    02  31    4.60         6.0      9.21  29.92   \n",
       "\n",
       "                      WeatherType  TempAvgCel  TempMaxCel  TempMinCel  \\\n",
       "Date                                                                    \n",
       "2010-01-01  Rain/Drizzle, Thunder        13.9        19.0         7.0   \n",
       "2010-01-02           Rain/Drizzle        15.1        19.0        11.0   \n",
       "2010-01-03           Rain/Drizzle        15.9        20.0        12.0   \n",
       "2010-01-04  Rain/Drizzle, Thunder        14.1        19.0         8.0   \n",
       "2010-01-05           Rain/Drizzle        12.8        15.0        11.0   \n",
       "...                           ...         ...         ...         ...   \n",
       "2015-02-27           Rain/Drizzle        12.7        18.4         8.0   \n",
       "2015-02-28  Rain/Drizzle, Thunder        14.7        20.3         8.1   \n",
       "2015-02-29  Rain/Drizzle, Thunder        16.3        23.7         8.4   \n",
       "2015-02-30  Rain/Drizzle, Thunder        19.3        27.0        10.0   \n",
       "2015-02-31  Rain/Drizzle, Thunder        21.4        30.2        11.6   \n",
       "\n",
       "            PrecipitationCm  DewPntCel  Fire Quarter  \n",
       "Date                                                  \n",
       "2010-01-01             0.00        8.8     0      Q1  \n",
       "2010-01-02             0.03       11.8     0      Q1  \n",
       "2010-01-03             0.03        6.0     0      Q1  \n",
       "2010-01-04             0.00        1.9     0      Q1  \n",
       "2010-01-05             0.03        6.6     0      Q1  \n",
       "...                     ...        ...   ...     ...  \n",
       "2015-02-27             0.23        4.4     0      Q1  \n",
       "2015-02-28             0.00        1.4     0      Q1  \n",
       "2015-02-29             0.00        6.1     0      Q1  \n",
       "2015-02-30             0.00        4.6     0      Q1  \n",
       "2015-02-31             0.00        5.7     0      Q1  \n",
       "\n",
       "[152294 rows x 16 columns]"
      ]
     },
     "execution_count": 109,
     "metadata": {},
     "output_type": "execute_result"
    }
   ],
   "source": [
    "turkey_daily_climate"
   ]
  },
  {
   "cell_type": "code",
   "execution_count": 110,
   "metadata": {
    "colab": {
     "base_uri": "https://localhost:8080/",
     "height": 394
    },
    "id": "DaDVmd13ZA9G",
    "outputId": "93715986-4365-48b2-beae-0f5a42796c27"
   },
   "outputs": [
    {
     "data": {
      "text/html": [
       "<div>\n",
       "<style scoped>\n",
       "    .dataframe tbody tr th:only-of-type {\n",
       "        vertical-align: middle;\n",
       "    }\n",
       "\n",
       "    .dataframe tbody tr th {\n",
       "        vertical-align: top;\n",
       "    }\n",
       "\n",
       "    .dataframe thead th {\n",
       "        text-align: right;\n",
       "    }\n",
       "</style>\n",
       "<table border=\"1\" class=\"dataframe\">\n",
       "  <thead>\n",
       "    <tr style=\"text-align: right;\">\n",
       "      <th></th>\n",
       "      <th>Year</th>\n",
       "      <th>AvgDWS</th>\n",
       "      <th>Visibility</th>\n",
       "      <th>MaxSusWS</th>\n",
       "      <th>MaxWG</th>\n",
       "      <th>TempAvgCel</th>\n",
       "      <th>TempMaxCel</th>\n",
       "      <th>TempMinCel</th>\n",
       "      <th>PrecipitationCm</th>\n",
       "      <th>DewPntCel</th>\n",
       "      <th>Fire</th>\n",
       "    </tr>\n",
       "  </thead>\n",
       "  <tbody>\n",
       "    <tr>\n",
       "      <th>Year</th>\n",
       "      <td>1.000000</td>\n",
       "      <td>0.001836</td>\n",
       "      <td>-0.000953</td>\n",
       "      <td>0.001581</td>\n",
       "      <td>-0.000171</td>\n",
       "      <td>0.000901</td>\n",
       "      <td>0.000338</td>\n",
       "      <td>0.001375</td>\n",
       "      <td>-0.000191</td>\n",
       "      <td>0.001180</td>\n",
       "      <td>-0.021016</td>\n",
       "    </tr>\n",
       "    <tr>\n",
       "      <th>AvgDWS</th>\n",
       "      <td>0.001836</td>\n",
       "      <td>1.000000</td>\n",
       "      <td>0.161388</td>\n",
       "      <td>0.802111</td>\n",
       "      <td>0.214764</td>\n",
       "      <td>-0.008928</td>\n",
       "      <td>-0.147678</td>\n",
       "      <td>0.082445</td>\n",
       "      <td>0.086190</td>\n",
       "      <td>-0.073889</td>\n",
       "      <td>-0.002616</td>\n",
       "    </tr>\n",
       "    <tr>\n",
       "      <th>Visibility</th>\n",
       "      <td>-0.000953</td>\n",
       "      <td>0.161388</td>\n",
       "      <td>1.000000</td>\n",
       "      <td>0.213721</td>\n",
       "      <td>-0.012208</td>\n",
       "      <td>0.393674</td>\n",
       "      <td>0.355323</td>\n",
       "      <td>0.379171</td>\n",
       "      <td>-0.089313</td>\n",
       "      <td>0.289503</td>\n",
       "      <td>-0.000391</td>\n",
       "    </tr>\n",
       "    <tr>\n",
       "      <th>MaxSusWS</th>\n",
       "      <td>0.001581</td>\n",
       "      <td>0.802111</td>\n",
       "      <td>0.213721</td>\n",
       "      <td>1.000000</td>\n",
       "      <td>0.232517</td>\n",
       "      <td>0.169857</td>\n",
       "      <td>0.058824</td>\n",
       "      <td>0.240715</td>\n",
       "      <td>0.133393</td>\n",
       "      <td>0.138021</td>\n",
       "      <td>-0.001622</td>\n",
       "    </tr>\n",
       "    <tr>\n",
       "      <th>MaxWG</th>\n",
       "      <td>-0.000171</td>\n",
       "      <td>0.214764</td>\n",
       "      <td>-0.012208</td>\n",
       "      <td>0.232517</td>\n",
       "      <td>1.000000</td>\n",
       "      <td>-0.076691</td>\n",
       "      <td>-0.084856</td>\n",
       "      <td>-0.060398</td>\n",
       "      <td>0.086650</td>\n",
       "      <td>-0.073842</td>\n",
       "      <td>-0.000890</td>\n",
       "    </tr>\n",
       "    <tr>\n",
       "      <th>TempAvgCel</th>\n",
       "      <td>0.000901</td>\n",
       "      <td>-0.008928</td>\n",
       "      <td>0.393674</td>\n",
       "      <td>0.169857</td>\n",
       "      <td>-0.076691</td>\n",
       "      <td>1.000000</td>\n",
       "      <td>0.961674</td>\n",
       "      <td>0.961233</td>\n",
       "      <td>-0.094815</td>\n",
       "      <td>0.860439</td>\n",
       "      <td>-0.002254</td>\n",
       "    </tr>\n",
       "    <tr>\n",
       "      <th>TempMaxCel</th>\n",
       "      <td>0.000338</td>\n",
       "      <td>-0.147678</td>\n",
       "      <td>0.355323</td>\n",
       "      <td>0.058824</td>\n",
       "      <td>-0.084856</td>\n",
       "      <td>0.961674</td>\n",
       "      <td>1.000000</td>\n",
       "      <td>0.864036</td>\n",
       "      <td>-0.125249</td>\n",
       "      <td>0.756004</td>\n",
       "      <td>-0.000373</td>\n",
       "    </tr>\n",
       "    <tr>\n",
       "      <th>TempMinCel</th>\n",
       "      <td>0.001375</td>\n",
       "      <td>0.082445</td>\n",
       "      <td>0.379171</td>\n",
       "      <td>0.240715</td>\n",
       "      <td>-0.060398</td>\n",
       "      <td>0.961233</td>\n",
       "      <td>0.864036</td>\n",
       "      <td>1.000000</td>\n",
       "      <td>-0.049261</td>\n",
       "      <td>0.920855</td>\n",
       "      <td>-0.004197</td>\n",
       "    </tr>\n",
       "    <tr>\n",
       "      <th>PrecipitationCm</th>\n",
       "      <td>-0.000191</td>\n",
       "      <td>0.086190</td>\n",
       "      <td>-0.089313</td>\n",
       "      <td>0.133393</td>\n",
       "      <td>0.086650</td>\n",
       "      <td>-0.094815</td>\n",
       "      <td>-0.125249</td>\n",
       "      <td>-0.049261</td>\n",
       "      <td>1.000000</td>\n",
       "      <td>-0.000188</td>\n",
       "      <td>0.001479</td>\n",
       "    </tr>\n",
       "    <tr>\n",
       "      <th>DewPntCel</th>\n",
       "      <td>0.001180</td>\n",
       "      <td>-0.073889</td>\n",
       "      <td>0.289503</td>\n",
       "      <td>0.138021</td>\n",
       "      <td>-0.073842</td>\n",
       "      <td>0.860439</td>\n",
       "      <td>0.756004</td>\n",
       "      <td>0.920855</td>\n",
       "      <td>-0.000188</td>\n",
       "      <td>1.000000</td>\n",
       "      <td>-0.005851</td>\n",
       "    </tr>\n",
       "    <tr>\n",
       "      <th>Fire</th>\n",
       "      <td>-0.021016</td>\n",
       "      <td>-0.002616</td>\n",
       "      <td>-0.000391</td>\n",
       "      <td>-0.001622</td>\n",
       "      <td>-0.000890</td>\n",
       "      <td>-0.002254</td>\n",
       "      <td>-0.000373</td>\n",
       "      <td>-0.004197</td>\n",
       "      <td>0.001479</td>\n",
       "      <td>-0.005851</td>\n",
       "      <td>1.000000</td>\n",
       "    </tr>\n",
       "  </tbody>\n",
       "</table>\n",
       "</div>"
      ],
      "text/plain": [
       "                     Year    AvgDWS  Visibility  MaxSusWS     MaxWG  \\\n",
       "Year             1.000000  0.001836   -0.000953  0.001581 -0.000171   \n",
       "AvgDWS           0.001836  1.000000    0.161388  0.802111  0.214764   \n",
       "Visibility      -0.000953  0.161388    1.000000  0.213721 -0.012208   \n",
       "MaxSusWS         0.001581  0.802111    0.213721  1.000000  0.232517   \n",
       "MaxWG           -0.000171  0.214764   -0.012208  0.232517  1.000000   \n",
       "TempAvgCel       0.000901 -0.008928    0.393674  0.169857 -0.076691   \n",
       "TempMaxCel       0.000338 -0.147678    0.355323  0.058824 -0.084856   \n",
       "TempMinCel       0.001375  0.082445    0.379171  0.240715 -0.060398   \n",
       "PrecipitationCm -0.000191  0.086190   -0.089313  0.133393  0.086650   \n",
       "DewPntCel        0.001180 -0.073889    0.289503  0.138021 -0.073842   \n",
       "Fire            -0.021016 -0.002616   -0.000391 -0.001622 -0.000890   \n",
       "\n",
       "                 TempAvgCel  TempMaxCel  TempMinCel  PrecipitationCm  \\\n",
       "Year               0.000901    0.000338    0.001375        -0.000191   \n",
       "AvgDWS            -0.008928   -0.147678    0.082445         0.086190   \n",
       "Visibility         0.393674    0.355323    0.379171        -0.089313   \n",
       "MaxSusWS           0.169857    0.058824    0.240715         0.133393   \n",
       "MaxWG             -0.076691   -0.084856   -0.060398         0.086650   \n",
       "TempAvgCel         1.000000    0.961674    0.961233        -0.094815   \n",
       "TempMaxCel         0.961674    1.000000    0.864036        -0.125249   \n",
       "TempMinCel         0.961233    0.864036    1.000000        -0.049261   \n",
       "PrecipitationCm   -0.094815   -0.125249   -0.049261         1.000000   \n",
       "DewPntCel          0.860439    0.756004    0.920855        -0.000188   \n",
       "Fire              -0.002254   -0.000373   -0.004197         0.001479   \n",
       "\n",
       "                 DewPntCel      Fire  \n",
       "Year              0.001180 -0.021016  \n",
       "AvgDWS           -0.073889 -0.002616  \n",
       "Visibility        0.289503 -0.000391  \n",
       "MaxSusWS          0.138021 -0.001622  \n",
       "MaxWG            -0.073842 -0.000890  \n",
       "TempAvgCel        0.860439 -0.002254  \n",
       "TempMaxCel        0.756004 -0.000373  \n",
       "TempMinCel        0.920855 -0.004197  \n",
       "PrecipitationCm  -0.000188  0.001479  \n",
       "DewPntCel         1.000000 -0.005851  \n",
       "Fire             -0.005851  1.000000  "
      ]
     },
     "execution_count": 110,
     "metadata": {},
     "output_type": "execute_result"
    }
   ],
   "source": [
    "turkey_daily_climate.corr()"
   ]
  },
  {
   "cell_type": "code",
   "execution_count": 111,
   "metadata": {
    "colab": {
     "base_uri": "https://localhost:8080/"
    },
    "id": "_gyMkYOTZao_",
    "outputId": "f40a2643-15c3-482f-ee60-e514fa2f889c"
   },
   "outputs": [
    {
     "data": {
      "text/plain": [
       "Year              -0.021016\n",
       "DewPntCel         -0.005851\n",
       "TempMinCel        -0.004197\n",
       "AvgDWS            -0.002616\n",
       "TempAvgCel        -0.002254\n",
       "MaxSusWS          -0.001622\n",
       "MaxWG             -0.000890\n",
       "Visibility        -0.000391\n",
       "TempMaxCel        -0.000373\n",
       "PrecipitationCm    0.001479\n",
       "Fire               1.000000\n",
       "Name: Fire, dtype: float64"
      ]
     },
     "execution_count": 111,
     "metadata": {},
     "output_type": "execute_result"
    }
   ],
   "source": [
    "turkey_daily_climate.corr()[\"Fire\"].sort_values()"
   ]
  },
  {
   "cell_type": "code",
   "execution_count": 112,
   "metadata": {
    "colab": {
     "base_uri": "https://localhost:8080/",
     "height": 784
    },
    "id": "OXhYQcosZdPY",
    "outputId": "cf96eeb9-392e-45de-8006-b354089a4b3d"
   },
   "outputs": [
    {
     "data": {
      "image/png": "[encoded data removed]",
      "text/plain": [
       "<Figure size 864x864 with 2 Axes>"
      ]
     },
     "metadata": {},
     "output_type": "display_data"
    }
   ],
   "source": [
    "plt.figure(figsize=(12,12))\n",
    "sns.heatmap(turkey_daily_climate.corr(),annot=True,cmap=\"viridis\", annot_kws={\"size\": 9})\n",
    "plt.show()"
   ]
  },
  {
   "cell_type": "markdown",
   "metadata": {
    "id": "wdhF6-kPZx8E"
   },
   "source": [
    "## Model selection & Training"
   ]
  },
  {
   "cell_type": "code",
   "execution_count": 113,
   "metadata": {
    "id": "n8Oo9dhzZ2SC"
   },
   "outputs": [],
   "source": [
    "import numpy as np\n",
    "import pandas as pd\n",
    "\n",
    "from sklearn.preprocessing import MinMaxScaler\n",
    "from sklearn.preprocessing import LabelEncoder\n",
    "\n",
    "from sklearn.model_selection import train_test_split\n",
    "from sklearn.preprocessing import StandardScaler\n",
    "from sklearn.model_selection import train_test_split\n",
    "\n",
    "from sklearn.preprocessing import MinMaxScaler\n",
    "from sklearn.preprocessing import LabelEncoder\n",
    "\n",
    "from sklearn.linear_model import LinearRegression, LogisticRegression\n",
    "from sklearn.svm import SVC\n",
    "\n",
    "from xgboost import XGBClassifier\n",
    "from sklearn.neighbors import KNeighborsClassifier\n",
    "\n",
    "from sklearn import svm\n",
    "from sklearn.neural_network import MLPRegressor, MLPClassifier\n",
    "from xgboost import XGBClassifier\n",
    "from sklearn.tree import DecisionTreeClassifier\n",
    "\n",
    "\n",
    "import warnings\n",
    "warnings.filterwarnings(action='ignore')\n",
    "\n",
    "from sklearn.ensemble import RandomForestClassifier\n",
    "from sklearn.metrics import classification_report\n",
    "from sklearn.metrics import confusion_matrix\n",
    "import matplotlib.pyplot as plt\n",
    "import seaborn as sns"
   ]
  },
  {
   "cell_type": "code",
   "execution_count": 114,
   "metadata": {
    "id": "QHkppA-Olrcf"
   },
   "outputs": [],
   "source": [
    "le = LabelEncoder()\n",
    "label = le.fit_transform(turkey_daily_climate['WeatherType'])\n",
    "turkey_daily_climate.drop(\"WeatherType\", axis=1, inplace=True)\n",
    "turkey_daily_climate[\"WeatherType\"] = label\n",
    "\n",
    "label = le.fit_transform(turkey_daily_climate['City'])\n",
    "turkey_daily_climate.drop(\"City\", axis=1, inplace=True)\n",
    "turkey_daily_climate[\"City\"] = label\n",
    "\n",
    "label = le.fit_transform(turkey_daily_climate['Quarter'])\n",
    "turkey_daily_climate.drop(\"Quarter\", axis=1, inplace=True)\n",
    "turkey_daily_climate[\"Quarter\"] = label"
   ]
  },
  {
   "cell_type": "code",
   "execution_count": 115,
   "metadata": {
    "colab": {
     "base_uri": "https://localhost:8080/",
     "height": 238
    },
    "id": "Iy3WKXsGmEKQ",
    "outputId": "9c726cc2-c547-4bdc-9536-1f3223f81fee"
   },
   "outputs": [
    {
     "data": {
      "text/html": [
       "<div>\n",
       "<style scoped>\n",
       "    .dataframe tbody tr th:only-of-type {\n",
       "        vertical-align: middle;\n",
       "    }\n",
       "\n",
       "    .dataframe tbody tr th {\n",
       "        vertical-align: top;\n",
       "    }\n",
       "\n",
       "    .dataframe thead th {\n",
       "        text-align: right;\n",
       "    }\n",
       "</style>\n",
       "<table border=\"1\" class=\"dataframe\">\n",
       "  <thead>\n",
       "    <tr style=\"text-align: right;\">\n",
       "      <th></th>\n",
       "      <th>Year</th>\n",
       "      <th>Month</th>\n",
       "      <th>Day</th>\n",
       "      <th>AvgDWS</th>\n",
       "      <th>Visibility</th>\n",
       "      <th>MaxSusWS</th>\n",
       "      <th>MaxWG</th>\n",
       "      <th>TempAvgCel</th>\n",
       "      <th>TempMaxCel</th>\n",
       "      <th>TempMinCel</th>\n",
       "      <th>PrecipitationCm</th>\n",
       "      <th>DewPntCel</th>\n",
       "      <th>Fire</th>\n",
       "      <th>WeatherType</th>\n",
       "      <th>City</th>\n",
       "      <th>Quarter</th>\n",
       "    </tr>\n",
       "    <tr>\n",
       "      <th>Date</th>\n",
       "      <th></th>\n",
       "      <th></th>\n",
       "      <th></th>\n",
       "      <th></th>\n",
       "      <th></th>\n",
       "      <th></th>\n",
       "      <th></th>\n",
       "      <th></th>\n",
       "      <th></th>\n",
       "      <th></th>\n",
       "      <th></th>\n",
       "      <th></th>\n",
       "      <th></th>\n",
       "      <th></th>\n",
       "      <th></th>\n",
       "      <th></th>\n",
       "    </tr>\n",
       "  </thead>\n",
       "  <tbody>\n",
       "    <tr>\n",
       "      <th>2010-01-01</th>\n",
       "      <td>2010</td>\n",
       "      <td>01</td>\n",
       "      <td>01</td>\n",
       "      <td>3.80</td>\n",
       "      <td>6.0</td>\n",
       "      <td>10.24</td>\n",
       "      <td>29.92</td>\n",
       "      <td>13.9</td>\n",
       "      <td>19.0</td>\n",
       "      <td>7.0</td>\n",
       "      <td>0.00</td>\n",
       "      <td>8.8</td>\n",
       "      <td>0</td>\n",
       "      <td>6</td>\n",
       "      <td>0</td>\n",
       "      <td>0</td>\n",
       "    </tr>\n",
       "    <tr>\n",
       "      <th>2010-01-02</th>\n",
       "      <td>2010</td>\n",
       "      <td>01</td>\n",
       "      <td>02</td>\n",
       "      <td>4.60</td>\n",
       "      <td>6.0</td>\n",
       "      <td>16.11</td>\n",
       "      <td>29.92</td>\n",
       "      <td>15.1</td>\n",
       "      <td>19.0</td>\n",
       "      <td>11.0</td>\n",
       "      <td>0.03</td>\n",
       "      <td>11.8</td>\n",
       "      <td>0</td>\n",
       "      <td>3</td>\n",
       "      <td>0</td>\n",
       "      <td>0</td>\n",
       "    </tr>\n",
       "    <tr>\n",
       "      <th>2010-01-03</th>\n",
       "      <td>2010</td>\n",
       "      <td>01</td>\n",
       "      <td>03</td>\n",
       "      <td>7.25</td>\n",
       "      <td>5.0</td>\n",
       "      <td>16.11</td>\n",
       "      <td>29.92</td>\n",
       "      <td>15.9</td>\n",
       "      <td>20.0</td>\n",
       "      <td>12.0</td>\n",
       "      <td>0.03</td>\n",
       "      <td>6.0</td>\n",
       "      <td>0</td>\n",
       "      <td>3</td>\n",
       "      <td>0</td>\n",
       "      <td>0</td>\n",
       "    </tr>\n",
       "    <tr>\n",
       "      <th>2010-01-04</th>\n",
       "      <td>2010</td>\n",
       "      <td>01</td>\n",
       "      <td>04</td>\n",
       "      <td>5.52</td>\n",
       "      <td>6.0</td>\n",
       "      <td>10.24</td>\n",
       "      <td>29.92</td>\n",
       "      <td>14.1</td>\n",
       "      <td>19.0</td>\n",
       "      <td>8.0</td>\n",
       "      <td>0.00</td>\n",
       "      <td>1.9</td>\n",
       "      <td>0</td>\n",
       "      <td>6</td>\n",
       "      <td>0</td>\n",
       "      <td>0</td>\n",
       "    </tr>\n",
       "    <tr>\n",
       "      <th>2010-01-05</th>\n",
       "      <td>2010</td>\n",
       "      <td>01</td>\n",
       "      <td>05</td>\n",
       "      <td>5.06</td>\n",
       "      <td>6.0</td>\n",
       "      <td>11.39</td>\n",
       "      <td>29.92</td>\n",
       "      <td>12.8</td>\n",
       "      <td>15.0</td>\n",
       "      <td>11.0</td>\n",
       "      <td>0.03</td>\n",
       "      <td>6.6</td>\n",
       "      <td>0</td>\n",
       "      <td>3</td>\n",
       "      <td>0</td>\n",
       "      <td>0</td>\n",
       "    </tr>\n",
       "  </tbody>\n",
       "</table>\n",
       "</div>"
      ],
      "text/plain": [
       "            Year Month Day  AvgDWS  Visibility  MaxSusWS  MaxWG  TempAvgCel  \\\n",
       "Date                                                                          \n",
       "2010-01-01  2010    01  01    3.80         6.0     10.24  29.92        13.9   \n",
       "2010-01-02  2010    01  02    4.60         6.0     16.11  29.92        15.1   \n",
       "2010-01-03  2010    01  03    7.25         5.0     16.11  29.92        15.9   \n",
       "2010-01-04  2010    01  04    5.52         6.0     10.24  29.92        14.1   \n",
       "2010-01-05  2010    01  05    5.06         6.0     11.39  29.92        12.8   \n",
       "\n",
       "            TempMaxCel  TempMinCel  PrecipitationCm  DewPntCel  Fire  \\\n",
       "Date                                                                   \n",
       "2010-01-01        19.0         7.0             0.00        8.8     0   \n",
       "2010-01-02        19.0        11.0             0.03       11.8     0   \n",
       "2010-01-03        20.0        12.0             0.03        6.0     0   \n",
       "2010-01-04        19.0         8.0             0.00        1.9     0   \n",
       "2010-01-05        15.0        11.0             0.03        6.6     0   \n",
       "\n",
       "            WeatherType  City  Quarter  \n",
       "Date                                    \n",
       "2010-01-01            6     0        0  \n",
       "2010-01-02            3     0        0  \n",
       "2010-01-03            3     0        0  \n",
       "2010-01-04            6     0        0  \n",
       "2010-01-05            3     0        0  "
      ]
     },
     "execution_count": 115,
     "metadata": {},
     "output_type": "execute_result"
    }
   ],
   "source": [
    "turkey_daily_climate.head()"
   ]
  },
  {
   "cell_type": "code",
   "execution_count": 116,
   "metadata": {
    "colab": {
     "base_uri": "https://localhost:8080/",
     "height": 112
    },
    "id": "HxqbRpaymPei",
    "outputId": "b8b08161-9e4c-4a61-e29f-8975c2095c0b"
   },
   "outputs": [
    {
     "data": {
      "text/html": [
       "<div>\n",
       "<style scoped>\n",
       "    .dataframe tbody tr th:only-of-type {\n",
       "        vertical-align: middle;\n",
       "    }\n",
       "\n",
       "    .dataframe tbody tr th {\n",
       "        vertical-align: top;\n",
       "    }\n",
       "\n",
       "    .dataframe thead th {\n",
       "        text-align: right;\n",
       "    }\n",
       "</style>\n",
       "<table border=\"1\" class=\"dataframe\">\n",
       "  <thead>\n",
       "    <tr style=\"text-align: right;\">\n",
       "      <th></th>\n",
       "      <th>City</th>\n",
       "      <th>Year</th>\n",
       "      <th>Month</th>\n",
       "      <th>Day</th>\n",
       "      <th>AvgDWS</th>\n",
       "      <th>Visibility</th>\n",
       "      <th>MaxSusWS</th>\n",
       "      <th>MaxWG</th>\n",
       "      <th>WeatherType</th>\n",
       "      <th>TempAvgCel</th>\n",
       "      <th>TempMaxCel</th>\n",
       "      <th>TempMinCel</th>\n",
       "      <th>PrecipitationCm</th>\n",
       "      <th>DewPntCel</th>\n",
       "      <th>Quarter</th>\n",
       "      <th>Fire</th>\n",
       "    </tr>\n",
       "    <tr>\n",
       "      <th>Date</th>\n",
       "      <th></th>\n",
       "      <th></th>\n",
       "      <th></th>\n",
       "      <th></th>\n",
       "      <th></th>\n",
       "      <th></th>\n",
       "      <th></th>\n",
       "      <th></th>\n",
       "      <th></th>\n",
       "      <th></th>\n",
       "      <th></th>\n",
       "      <th></th>\n",
       "      <th></th>\n",
       "      <th></th>\n",
       "      <th></th>\n",
       "      <th></th>\n",
       "    </tr>\n",
       "  </thead>\n",
       "  <tbody>\n",
       "    <tr>\n",
       "      <th>2010-01-01</th>\n",
       "      <td>0</td>\n",
       "      <td>2010</td>\n",
       "      <td>01</td>\n",
       "      <td>01</td>\n",
       "      <td>3.8</td>\n",
       "      <td>6.0</td>\n",
       "      <td>10.24</td>\n",
       "      <td>29.92</td>\n",
       "      <td>6</td>\n",
       "      <td>13.9</td>\n",
       "      <td>19.0</td>\n",
       "      <td>7.0</td>\n",
       "      <td>0.0</td>\n",
       "      <td>8.8</td>\n",
       "      <td>0</td>\n",
       "      <td>0</td>\n",
       "    </tr>\n",
       "  </tbody>\n",
       "</table>\n",
       "</div>"
      ],
      "text/plain": [
       "            City  Year Month Day  AvgDWS  Visibility  MaxSusWS  MaxWG  \\\n",
       "Date                                                                    \n",
       "2010-01-01     0  2010    01  01     3.8         6.0     10.24  29.92   \n",
       "\n",
       "            WeatherType  TempAvgCel  TempMaxCel  TempMinCel  PrecipitationCm  \\\n",
       "Date                                                                           \n",
       "2010-01-01            6        13.9        19.0         7.0              0.0   \n",
       "\n",
       "            DewPntCel  Quarter  Fire  \n",
       "Date                                  \n",
       "2010-01-01        8.8        0     0  "
      ]
     },
     "execution_count": 116,
     "metadata": {},
     "output_type": "execute_result"
    }
   ],
   "source": [
    "cols = ['City',\n",
    " 'Year',\n",
    " 'Month',\n",
    " 'Day',\n",
    " 'AvgDWS',\n",
    " 'Visibility',\n",
    " 'MaxSusWS',\n",
    " 'MaxWG',\n",
    " 'WeatherType',\n",
    " 'TempAvgCel',\n",
    " 'TempMaxCel',\n",
    " 'TempMinCel',\n",
    " 'PrecipitationCm',\n",
    " 'DewPntCel',\n",
    " 'Quarter',\n",
    " 'Fire'\n",
    " ]\n",
    "turkey_daily_climate = turkey_daily_climate[cols]\n",
    "turkey_daily_climate.head(1)"
   ]
  },
  {
   "cell_type": "code",
   "execution_count": 117,
   "metadata": {},
   "outputs": [
    {
     "name": "stdout",
     "output_type": "stream",
     "text": [
      "<class 'pandas.core.frame.DataFrame'>\n",
      "Index: 152294 entries, 2010-01-01 to 2015-02-31\n",
      "Data columns (total 16 columns):\n",
      " #   Column           Non-Null Count   Dtype  \n",
      "---  ------           --------------   -----  \n",
      " 0   City             152294 non-null  int32  \n",
      " 1   Year             152294 non-null  int64  \n",
      " 2   Month            152294 non-null  object \n",
      " 3   Day              152294 non-null  object \n",
      " 4   AvgDWS           152294 non-null  float64\n",
      " 5   Visibility       152294 non-null  float64\n",
      " 6   MaxSusWS         152294 non-null  float64\n",
      " 7   MaxWG            152294 non-null  float64\n",
      " 8   WeatherType      152294 non-null  int32  \n",
      " 9   TempAvgCel       152294 non-null  float64\n",
      " 10  TempMaxCel       152294 non-null  float64\n",
      " 11  TempMinCel       152294 non-null  float64\n",
      " 12  PrecipitationCm  152294 non-null  float64\n",
      " 13  DewPntCel        152294 non-null  float64\n",
      " 14  Quarter          152294 non-null  int32  \n",
      " 15  Fire             152294 non-null  int64  \n",
      "dtypes: float64(9), int32(3), int64(2), object(2)\n",
      "memory usage: 18.0+ MB\n"
     ]
    }
   ],
   "source": [
    "turkey_daily_climate.info()"
   ]
  },
  {
   "cell_type": "code",
   "execution_count": 118,
   "metadata": {
    "colab": {
     "base_uri": "https://localhost:8080/",
     "height": 424
    },
    "id": "JuhYaPjVth2T",
    "outputId": "d0926972-7748-4b50-9f3a-f94cc0ceb339"
   },
   "outputs": [
    {
     "data": {
      "text/html": [
       "<div>\n",
       "<style scoped>\n",
       "    .dataframe tbody tr th:only-of-type {\n",
       "        vertical-align: middle;\n",
       "    }\n",
       "\n",
       "    .dataframe tbody tr th {\n",
       "        vertical-align: top;\n",
       "    }\n",
       "\n",
       "    .dataframe thead th {\n",
       "        text-align: right;\n",
       "    }\n",
       "</style>\n",
       "<table border=\"1\" class=\"dataframe\">\n",
       "  <thead>\n",
       "    <tr style=\"text-align: right;\">\n",
       "      <th></th>\n",
       "      <th>Date</th>\n",
       "      <th>City</th>\n",
       "      <th>Year</th>\n",
       "      <th>Month</th>\n",
       "      <th>Day</th>\n",
       "      <th>AvgDWS</th>\n",
       "      <th>Visibility</th>\n",
       "      <th>MaxSusWS</th>\n",
       "      <th>MaxWG</th>\n",
       "      <th>WeatherType</th>\n",
       "      <th>TempAvgCel</th>\n",
       "      <th>TempMaxCel</th>\n",
       "      <th>TempMinCel</th>\n",
       "      <th>PrecipitationCm</th>\n",
       "      <th>DewPntCel</th>\n",
       "      <th>Quarter</th>\n",
       "      <th>Fire</th>\n",
       "    </tr>\n",
       "  </thead>\n",
       "  <tbody>\n",
       "    <tr>\n",
       "      <th>0</th>\n",
       "      <td>2010-01-01</td>\n",
       "      <td>0</td>\n",
       "      <td>2010</td>\n",
       "      <td>01</td>\n",
       "      <td>01</td>\n",
       "      <td>3.80</td>\n",
       "      <td>6.0</td>\n",
       "      <td>10.24</td>\n",
       "      <td>29.92</td>\n",
       "      <td>6</td>\n",
       "      <td>13.9</td>\n",
       "      <td>19.0</td>\n",
       "      <td>7.0</td>\n",
       "      <td>0.00</td>\n",
       "      <td>8.8</td>\n",
       "      <td>0</td>\n",
       "      <td>0</td>\n",
       "    </tr>\n",
       "    <tr>\n",
       "      <th>1</th>\n",
       "      <td>2010-01-02</td>\n",
       "      <td>0</td>\n",
       "      <td>2010</td>\n",
       "      <td>01</td>\n",
       "      <td>02</td>\n",
       "      <td>4.60</td>\n",
       "      <td>6.0</td>\n",
       "      <td>16.11</td>\n",
       "      <td>29.92</td>\n",
       "      <td>3</td>\n",
       "      <td>15.1</td>\n",
       "      <td>19.0</td>\n",
       "      <td>11.0</td>\n",
       "      <td>0.03</td>\n",
       "      <td>11.8</td>\n",
       "      <td>0</td>\n",
       "      <td>0</td>\n",
       "    </tr>\n",
       "    <tr>\n",
       "      <th>2</th>\n",
       "      <td>2010-01-03</td>\n",
       "      <td>0</td>\n",
       "      <td>2010</td>\n",
       "      <td>01</td>\n",
       "      <td>03</td>\n",
       "      <td>7.25</td>\n",
       "      <td>5.0</td>\n",
       "      <td>16.11</td>\n",
       "      <td>29.92</td>\n",
       "      <td>3</td>\n",
       "      <td>15.9</td>\n",
       "      <td>20.0</td>\n",
       "      <td>12.0</td>\n",
       "      <td>0.03</td>\n",
       "      <td>6.0</td>\n",
       "      <td>0</td>\n",
       "      <td>0</td>\n",
       "    </tr>\n",
       "    <tr>\n",
       "      <th>3</th>\n",
       "      <td>2010-01-04</td>\n",
       "      <td>0</td>\n",
       "      <td>2010</td>\n",
       "      <td>01</td>\n",
       "      <td>04</td>\n",
       "      <td>5.52</td>\n",
       "      <td>6.0</td>\n",
       "      <td>10.24</td>\n",
       "      <td>29.92</td>\n",
       "      <td>6</td>\n",
       "      <td>14.1</td>\n",
       "      <td>19.0</td>\n",
       "      <td>8.0</td>\n",
       "      <td>0.00</td>\n",
       "      <td>1.9</td>\n",
       "      <td>0</td>\n",
       "      <td>0</td>\n",
       "    </tr>\n",
       "    <tr>\n",
       "      <th>4</th>\n",
       "      <td>2010-01-05</td>\n",
       "      <td>0</td>\n",
       "      <td>2010</td>\n",
       "      <td>01</td>\n",
       "      <td>05</td>\n",
       "      <td>5.06</td>\n",
       "      <td>6.0</td>\n",
       "      <td>11.39</td>\n",
       "      <td>29.92</td>\n",
       "      <td>3</td>\n",
       "      <td>12.8</td>\n",
       "      <td>15.0</td>\n",
       "      <td>11.0</td>\n",
       "      <td>0.03</td>\n",
       "      <td>6.6</td>\n",
       "      <td>0</td>\n",
       "      <td>0</td>\n",
       "    </tr>\n",
       "    <tr>\n",
       "      <th>...</th>\n",
       "      <td>...</td>\n",
       "      <td>...</td>\n",
       "      <td>...</td>\n",
       "      <td>...</td>\n",
       "      <td>...</td>\n",
       "      <td>...</td>\n",
       "      <td>...</td>\n",
       "      <td>...</td>\n",
       "      <td>...</td>\n",
       "      <td>...</td>\n",
       "      <td>...</td>\n",
       "      <td>...</td>\n",
       "      <td>...</td>\n",
       "      <td>...</td>\n",
       "      <td>...</td>\n",
       "      <td>...</td>\n",
       "      <td>...</td>\n",
       "    </tr>\n",
       "    <tr>\n",
       "      <th>152289</th>\n",
       "      <td>2015-02-27</td>\n",
       "      <td>10</td>\n",
       "      <td>2015</td>\n",
       "      <td>02</td>\n",
       "      <td>27</td>\n",
       "      <td>6.44</td>\n",
       "      <td>6.0</td>\n",
       "      <td>17.26</td>\n",
       "      <td>29.92</td>\n",
       "      <td>3</td>\n",
       "      <td>12.7</td>\n",
       "      <td>18.4</td>\n",
       "      <td>8.0</td>\n",
       "      <td>0.23</td>\n",
       "      <td>4.4</td>\n",
       "      <td>0</td>\n",
       "      <td>0</td>\n",
       "    </tr>\n",
       "    <tr>\n",
       "      <th>152290</th>\n",
       "      <td>2015-02-28</td>\n",
       "      <td>10</td>\n",
       "      <td>2015</td>\n",
       "      <td>02</td>\n",
       "      <td>28</td>\n",
       "      <td>7.83</td>\n",
       "      <td>6.0</td>\n",
       "      <td>16.11</td>\n",
       "      <td>19.68</td>\n",
       "      <td>6</td>\n",
       "      <td>14.7</td>\n",
       "      <td>20.3</td>\n",
       "      <td>8.1</td>\n",
       "      <td>0.00</td>\n",
       "      <td>1.4</td>\n",
       "      <td>0</td>\n",
       "      <td>0</td>\n",
       "    </tr>\n",
       "    <tr>\n",
       "      <th>152291</th>\n",
       "      <td>2015-02-29</td>\n",
       "      <td>10</td>\n",
       "      <td>2015</td>\n",
       "      <td>02</td>\n",
       "      <td>29</td>\n",
       "      <td>4.83</td>\n",
       "      <td>6.0</td>\n",
       "      <td>11.39</td>\n",
       "      <td>29.92</td>\n",
       "      <td>6</td>\n",
       "      <td>16.3</td>\n",
       "      <td>23.7</td>\n",
       "      <td>8.4</td>\n",
       "      <td>0.00</td>\n",
       "      <td>6.1</td>\n",
       "      <td>0</td>\n",
       "      <td>0</td>\n",
       "    </tr>\n",
       "    <tr>\n",
       "      <th>152292</th>\n",
       "      <td>2015-02-30</td>\n",
       "      <td>10</td>\n",
       "      <td>2015</td>\n",
       "      <td>02</td>\n",
       "      <td>30</td>\n",
       "      <td>5.64</td>\n",
       "      <td>6.0</td>\n",
       "      <td>11.39</td>\n",
       "      <td>29.92</td>\n",
       "      <td>6</td>\n",
       "      <td>19.3</td>\n",
       "      <td>27.0</td>\n",
       "      <td>10.0</td>\n",
       "      <td>0.00</td>\n",
       "      <td>4.6</td>\n",
       "      <td>0</td>\n",
       "      <td>0</td>\n",
       "    </tr>\n",
       "    <tr>\n",
       "      <th>152293</th>\n",
       "      <td>2015-02-31</td>\n",
       "      <td>10</td>\n",
       "      <td>2015</td>\n",
       "      <td>02</td>\n",
       "      <td>31</td>\n",
       "      <td>4.60</td>\n",
       "      <td>6.0</td>\n",
       "      <td>9.21</td>\n",
       "      <td>29.92</td>\n",
       "      <td>6</td>\n",
       "      <td>21.4</td>\n",
       "      <td>30.2</td>\n",
       "      <td>11.6</td>\n",
       "      <td>0.00</td>\n",
       "      <td>5.7</td>\n",
       "      <td>0</td>\n",
       "      <td>0</td>\n",
       "    </tr>\n",
       "  </tbody>\n",
       "</table>\n",
       "<p>152294 rows × 17 columns</p>\n",
       "</div>"
      ],
      "text/plain": [
       "              Date  City  Year Month Day  AvgDWS  Visibility  MaxSusWS  MaxWG  \\\n",
       "0       2010-01-01     0  2010    01  01    3.80         6.0     10.24  29.92   \n",
       "1       2010-01-02     0  2010    01  02    4.60         6.0     16.11  29.92   \n",
       "2       2010-01-03     0  2010    01  03    7.25         5.0     16.11  29.92   \n",
       "3       2010-01-04     0  2010    01  04    5.52         6.0     10.24  29.92   \n",
       "4       2010-01-05     0  2010    01  05    5.06         6.0     11.39  29.92   \n",
       "...            ...   ...   ...   ...  ..     ...         ...       ...    ...   \n",
       "152289  2015-02-27    10  2015    02  27    6.44         6.0     17.26  29.92   \n",
       "152290  2015-02-28    10  2015    02  28    7.83         6.0     16.11  19.68   \n",
       "152291  2015-02-29    10  2015    02  29    4.83         6.0     11.39  29.92   \n",
       "152292  2015-02-30    10  2015    02  30    5.64         6.0     11.39  29.92   \n",
       "152293  2015-02-31    10  2015    02  31    4.60         6.0      9.21  29.92   \n",
       "\n",
       "        WeatherType  TempAvgCel  TempMaxCel  TempMinCel  PrecipitationCm  \\\n",
       "0                 6        13.9        19.0         7.0             0.00   \n",
       "1                 3        15.1        19.0        11.0             0.03   \n",
       "2                 3        15.9        20.0        12.0             0.03   \n",
       "3                 6        14.1        19.0         8.0             0.00   \n",
       "4                 3        12.8        15.0        11.0             0.03   \n",
       "...             ...         ...         ...         ...              ...   \n",
       "152289            3        12.7        18.4         8.0             0.23   \n",
       "152290            6        14.7        20.3         8.1             0.00   \n",
       "152291            6        16.3        23.7         8.4             0.00   \n",
       "152292            6        19.3        27.0        10.0             0.00   \n",
       "152293            6        21.4        30.2        11.6             0.00   \n",
       "\n",
       "        DewPntCel  Quarter  Fire  \n",
       "0             8.8        0     0  \n",
       "1            11.8        0     0  \n",
       "2             6.0        0     0  \n",
       "3             1.9        0     0  \n",
       "4             6.6        0     0  \n",
       "...           ...      ...   ...  \n",
       "152289        4.4        0     0  \n",
       "152290        1.4        0     0  \n",
       "152291        6.1        0     0  \n",
       "152292        4.6        0     0  \n",
       "152293        5.7        0     0  \n",
       "\n",
       "[152294 rows x 17 columns]"
      ]
     },
     "execution_count": 118,
     "metadata": {},
     "output_type": "execute_result"
    }
   ],
   "source": [
    "normalized_data_df = turkey_daily_climate.reset_index()\n",
    "normalized_data_df"
   ]
  },
  {
   "cell_type": "code",
   "execution_count": 119,
   "metadata": {},
   "outputs": [
    {
     "data": {
      "image/png": "[encoded data removed]",
      "text/plain": [
       "<Figure size 864x864 with 2 Axes>"
      ]
     },
     "metadata": {},
     "output_type": "display_data"
    }
   ],
   "source": [
    "plt.figure(figsize=(12,12))\n",
    "sns.heatmap(turkey_daily_climate.corr(),annot=True,cmap=\"viridis\", annot_kws={\"size\": 9})\n",
    "plt.show()"
   ]
  },
  {
   "cell_type": "code",
   "execution_count": 120,
   "metadata": {
    "id": "Dn0jnK9pudlq"
   },
   "outputs": [],
   "source": [
    "# To avoid multicollinearity\n",
    "del normalized_data_df['Date'],  normalized_data_df['AvgDWS'], normalized_data_df['TempMaxCel'], normalized_data_df['TempMinCel'], normalized_data_df['DewPntCel']"
   ]
  },
  {
   "cell_type": "code",
   "execution_count": 121,
   "metadata": {},
   "outputs": [
    {
     "name": "stdout",
     "output_type": "stream",
     "text": [
      "<class 'pandas.core.frame.DataFrame'>\n",
      "RangeIndex: 152294 entries, 0 to 152293\n",
      "Data columns (total 12 columns):\n",
      " #   Column           Non-Null Count   Dtype  \n",
      "---  ------           --------------   -----  \n",
      " 0   City             152294 non-null  int32  \n",
      " 1   Year             152294 non-null  int64  \n",
      " 2   Month            152294 non-null  object \n",
      " 3   Day              152294 non-null  object \n",
      " 4   Visibility       152294 non-null  float64\n",
      " 5   MaxSusWS         152294 non-null  float64\n",
      " 6   MaxWG            152294 non-null  float64\n",
      " 7   WeatherType      152294 non-null  int32  \n",
      " 8   TempAvgCel       152294 non-null  float64\n",
      " 9   PrecipitationCm  152294 non-null  float64\n",
      " 10  Quarter          152294 non-null  int32  \n",
      " 11  Fire             152294 non-null  int64  \n",
      "dtypes: float64(5), int32(3), int64(2), object(2)\n",
      "memory usage: 12.2+ MB\n"
     ]
    }
   ],
   "source": [
    "normalized_data_df.info()"
   ]
  },
  {
   "cell_type": "code",
   "execution_count": 122,
   "metadata": {},
   "outputs": [],
   "source": [
    "normalized_data_df[\"Month\"] = pd.to_numeric(normalized_data_df[\"Month\"])\n",
    "normalized_data_df[\"Day\"] = pd.to_numeric(normalized_data_df[\"Day\"])"
   ]
  },
  {
   "cell_type": "code",
   "execution_count": 123,
   "metadata": {
    "colab": {
     "base_uri": "https://localhost:8080/"
    },
    "id": "zwvsBViXs9UF",
    "outputId": "43a2cfcf-ccc7-4983-a8c5-e56f88b00c5e"
   },
   "outputs": [
    {
     "data": {
      "text/plain": [
       "Fire\n",
       "0       136909\n",
       "1        15385\n",
       "dtype: int64"
      ]
     },
     "execution_count": 123,
     "metadata": {},
     "output_type": "execute_result"
    }
   ],
   "source": [
    "normalized_data_df.value_counts([\"Fire\"])"
   ]
  },
  {
   "cell_type": "code",
   "execution_count": 124,
   "metadata": {
    "id": "s8inXLxOtW2u"
   },
   "outputs": [],
   "source": [
    "X = normalized_data_df.drop(columns = 'Fire')\n",
    "y = normalized_data_df.Fire\n",
    "\n",
    "X_train, X_test, y_train, y_test = train_test_split(X, y, test_size = 0.3, random_state = 1)"
   ]
  },
  {
   "cell_type": "code",
   "execution_count": 125,
   "metadata": {
    "id": "ZnzctlA2lfeW"
   },
   "outputs": [],
   "source": [
    "ss = StandardScaler()\n",
    "X_train = ss.fit_transform(X_train)\n",
    "X_test = ss.fit_transform(X_test)"
   ]
  },
  {
   "cell_type": "code",
   "execution_count": 126,
   "metadata": {
    "id": "h6Tko12-vNd-"
   },
   "outputs": [],
   "source": [
    "models = ['LR', 'KNN', 'XGB', 'SVM', 'MLP']"
   ]
  },
  {
   "cell_type": "code",
   "execution_count": 127,
   "metadata": {
    "id": "MbVnQOF_vYKm"
   },
   "outputs": [],
   "source": [
    "acc = []"
   ]
  },
  {
   "cell_type": "markdown",
   "metadata": {
    "id": "jAIP5W4XwzbJ"
   },
   "source": [
    "### **Logistic Regression**"
   ]
  },
  {
   "cell_type": "code",
   "execution_count": 128,
   "metadata": {
    "colab": {
     "base_uri": "https://localhost:8080/",
     "height": 748
    },
    "id": "PuW3Le5smX6C",
    "outputId": "063bcb5f-8da1-4126-b8f5-7e8105db4bc4"
   },
   "outputs": [
    {
     "name": "stdout",
     "output_type": "stream",
     "text": [
      "Training accuracy: 0.9\n",
      "Test accuracy: 0.897\n",
      "              precision    recall  f1-score   support\n",
      "\n",
      "           0       0.90      1.00      0.95     40962\n",
      "           1       0.00      0.00      0.00      4727\n",
      "\n",
      "    accuracy                           0.90     45689\n",
      "   macro avg       0.45      0.50      0.47     45689\n",
      "weighted avg       0.80      0.90      0.85     45689\n",
      "\n"
     ]
    },
    {
     "data": {
      "text/plain": [
       "<AxesSubplot:>"
      ]
     },
     "execution_count": 128,
     "metadata": {},
     "output_type": "execute_result"
    },
    {
     "data": {
      "image/png": "[encoded data removed]",
      "text/plain": [
       "<Figure size 1080x648 with 2 Axes>"
      ]
     },
     "metadata": {},
     "output_type": "display_data"
    }
   ],
   "source": [
    "lr = LogisticRegression()\n",
    "lr.fit(X_train, y_train)\n",
    "\n",
    "print('Training accuracy:', lr.score(X_train, y_train).round(3))\n",
    "acc.append(lr.score(X_train, y_train).round(3))\n",
    "print('Test accuracy:', lr.score(X_test, y_test).round(3))\n",
    "y_hat_rf = lr.predict(X_test)\n",
    "print(classification_report(y_test, y_hat_rf))\n",
    "\n",
    "cm = confusion_matrix(y_test, y_hat_rf)\n",
    "plt.figure(figsize = (15,9))\n",
    "sns.heatmap(cm, linewidths=1, annot=True, fmt='g')"
   ]
  },
  {
   "cell_type": "markdown",
   "metadata": {},
   "source": [
    "*Logistic Regression is not appropriate to predict Fire*"
   ]
  },
  {
   "cell_type": "markdown",
   "metadata": {
    "id": "X0kkRSXjw4hw"
   },
   "source": [
    "### **KNN**"
   ]
  },
  {
   "cell_type": "code",
   "execution_count": 129,
   "metadata": {
    "colab": {
     "base_uri": "https://localhost:8080/",
     "height": 748
    },
    "id": "plJ6S5RivZl2",
    "outputId": "1f129253-7ca4-4c53-8bb3-b97efa9309f6"
   },
   "outputs": [
    {
     "name": "stdout",
     "output_type": "stream",
     "text": [
      "Training accuracy: 0.917\n",
      "Test accuracy: 0.892\n",
      "              precision    recall  f1-score   support\n",
      "\n",
      "           0       0.91      0.98      0.94     40962\n",
      "           1       0.43      0.14      0.21      4727\n",
      "\n",
      "    accuracy                           0.89     45689\n",
      "   macro avg       0.67      0.56      0.57     45689\n",
      "weighted avg       0.86      0.89      0.87     45689\n",
      "\n"
     ]
    },
    {
     "data": {
      "text/plain": [
       "<AxesSubplot:>"
      ]
     },
     "execution_count": 129,
     "metadata": {},
     "output_type": "execute_result"
    },
    {
     "data": {
      "image/png": "[encoded data removed]",
      "text/plain": [
       "<Figure size 1080x648 with 2 Axes>"
      ]
     },
     "metadata": {},
     "output_type": "display_data"
    }
   ],
   "source": [
    "knn = KNeighborsClassifier(n_neighbors=5)\n",
    "knn.fit(X_train, y_train)\n",
    "print('Training accuracy:', knn.score(X_train, y_train).round(3))\n",
    "acc.append(knn.score(X_train, y_train).round(3))\n",
    "print('Test accuracy:', knn.score(X_test, y_test).round(3))\n",
    "y_hat_rf = knn.predict(X_test)\n",
    "print(classification_report(y_test, y_hat_rf))\n",
    "\n",
    "cm = confusion_matrix(y_test, y_hat_rf)\n",
    "plt.figure(figsize = (15,9))\n",
    "sns.heatmap(cm, linewidths=1, annot=True, fmt='g')"
   ]
  },
  {
   "cell_type": "markdown",
   "metadata": {
    "id": "C35sHPvUw6yx"
   },
   "source": [
    "### **XGBClassifier**"
   ]
  },
  {
   "cell_type": "code",
   "execution_count": 130,
   "metadata": {},
   "outputs": [
    {
     "name": "stdout",
     "output_type": "stream",
     "text": [
      "Training accuracy: 0.929\n",
      "Test accuracy: 0.916\n",
      "              precision    recall  f1-score   support\n",
      "\n",
      "           0       0.92      0.99      0.95     40962\n",
      "           1       0.73      0.30      0.42      4727\n",
      "\n",
      "    accuracy                           0.92     45689\n",
      "   macro avg       0.83      0.64      0.69     45689\n",
      "weighted avg       0.90      0.92      0.90     45689\n",
      "\n"
     ]
    },
    {
     "data": {
      "text/plain": [
       "<AxesSubplot:>"
      ]
     },
     "execution_count": 130,
     "metadata": {},
     "output_type": "execute_result"
    },
    {
     "data": {
      "image/png": "[encoded data removed]",
      "text/plain": [
       "<Figure size 1080x648 with 2 Axes>"
      ]
     },
     "metadata": {},
     "output_type": "display_data"
    }
   ],
   "source": [
    "xgb = XGBClassifier().fit(X_train, y_train)\n",
    "\n",
    "print('Training accuracy:', xgb.score(X_train, y_train).round(3))\n",
    "acc.append(xgb.score(X_train, y_train).round(3))\n",
    "\n",
    "print('Test accuracy:', xgb.score(X_test, y_test).round(3))\n",
    "y_hat_rf = xgb.predict(X_test)\n",
    "print(classification_report(y_test, y_hat_rf))\n",
    "\n",
    "cm = confusion_matrix(y_test, y_hat_rf)\n",
    "plt.figure(figsize = (15,9))\n",
    "sns.heatmap(cm, linewidths=1, annot=True, fmt='g')"
   ]
  },
  {
   "cell_type": "markdown",
   "metadata": {
    "id": "oD18D9_dxM15"
   },
   "source": [
    "### Support Vector Machines"
   ]
  },
  {
   "cell_type": "code",
   "execution_count": 139,
   "metadata": {
    "colab": {
     "base_uri": "https://localhost:8080/",
     "height": 748
    },
    "id": "rC-wRv1HwHN3",
    "outputId": "645f2269-507c-4c08-eb7e-938915785d5a"
   },
   "outputs": [
    {
     "name": "stdout",
     "output_type": "stream",
     "text": [
      "Training accuracy: 0.9\n",
      "Test accuracy: 0.897\n",
      "              precision    recall  f1-score   support\n",
      "\n",
      "           0       0.90      1.00      0.95     40962\n",
      "           1       0.00      0.00      0.00      4727\n",
      "\n",
      "    accuracy                           0.90     45689\n",
      "   macro avg       0.45      0.50      0.47     45689\n",
      "weighted avg       0.80      0.90      0.85     45689\n",
      "\n"
     ]
    },
    {
     "data": {
      "text/plain": [
       "<AxesSubplot:>"
      ]
     },
     "execution_count": 139,
     "metadata": {},
     "output_type": "execute_result"
    },
    {
     "data": {
      "image/png": "[encoded data removed]",
      "text/plain": [
       "<Figure size 1080x648 with 2 Axes>"
      ]
     },
     "metadata": {},
     "output_type": "display_data"
    }
   ],
   "source": [
    "svc = SVC()\n",
    "svc.fit(X_train, y_train)\n",
    "print('Training accuracy:', svc.score(X_train, y_train).round(3))\n",
    "acc.append(svc.score(X_train, y_train).round(3))\n",
    "\n",
    "y_hat_rf = svc.predict(X_test)\n",
    "print('Test accuracy:', svc.score(X_test, y_test).round(3))\n",
    "y_hat_rf = svc.predict(X_test)\n",
    "print(classification_report(y_test, y_hat_rf))\n",
    "\n",
    "cm = confusion_matrix(y_test, y_hat_rf)\n",
    "plt.figure(figsize = (15,9))\n",
    "sns.heatmap(cm, linewidths=1, annot=True, fmt='g')"
   ]
  },
  {
   "cell_type": "markdown",
   "metadata": {},
   "source": [
    "*SVM is not appropriate to predict Fire.*"
   ]
  },
  {
   "cell_type": "markdown",
   "metadata": {
    "id": "c0l3GALixY0I"
   },
   "source": [
    "### MLP"
   ]
  },
  {
   "cell_type": "code",
   "execution_count": 140,
   "metadata": {
    "colab": {
     "base_uri": "https://localhost:8080/",
     "height": 748
    },
    "id": "NabUsErjwkhW",
    "outputId": "56be2b4d-4e8e-42ae-ba57-9d4860c75036"
   },
   "outputs": [
    {
     "name": "stdout",
     "output_type": "stream",
     "text": [
      "Training accuracy: 0.903\n",
      "Test accuracy: 0.899\n",
      "              precision    recall  f1-score   support\n",
      "\n",
      "           0       0.90      0.99      0.95     40962\n",
      "           1       0.59      0.08      0.15      4727\n",
      "\n",
      "    accuracy                           0.90     45689\n",
      "   macro avg       0.75      0.54      0.55     45689\n",
      "weighted avg       0.87      0.90      0.86     45689\n",
      "\n"
     ]
    },
    {
     "data": {
      "text/plain": [
       "<AxesSubplot:>"
      ]
     },
     "execution_count": 140,
     "metadata": {},
     "output_type": "execute_result"
    },
    {
     "data": {
      "image/png": "[encoded data removed]",
      "text/plain": [
       "<Figure size 1080x648 with 2 Axes>"
      ]
     },
     "metadata": {},
     "output_type": "display_data"
    }
   ],
   "source": [
    "mlp = MLPClassifier(hidden_layer_sizes=(16,16))\n",
    "mlp.fit(X_train, y_train)\n",
    "\n",
    "print('Training accuracy:', mlp.score(X_train, y_train).round(3))\n",
    "acc.append(mlp.score(X_train, y_train).round(3))\n",
    "\n",
    "print('Test accuracy:', mlp.score(X_test, y_test).round(3))\n",
    "y_hat_rf = mlp.predict(X_test)\n",
    "print(classification_report(y_test, y_hat_rf))\n",
    "\n",
    "cm = confusion_matrix(y_test, y_hat_rf)\n",
    "plt.figure(figsize = (15,9))\n",
    "sns.heatmap(cm, linewidths=1, annot=True, fmt='g')"
   ]
  },
  {
   "cell_type": "code",
   "execution_count": 141,
   "metadata": {
    "colab": {
     "base_uri": "https://localhost:8080/"
    },
    "id": "t9ZP33ATzZCn",
    "outputId": "5e973daf-06cd-40ec-e4c4-79bad735456d"
   },
   "outputs": [
    {
     "data": {
      "text/plain": [
       "{'XGB': 0.929, 'KNN': 0.917, 'MLP': 0.903, 'LR': 0.9, 'SVM': 0.9}"
      ]
     },
     "execution_count": 141,
     "metadata": {},
     "output_type": "execute_result"
    }
   ],
   "source": [
    "dct = dict(zip(models, acc))\n",
    "dct = dict(sorted(dct.items(), key=lambda x: x[1], reverse=True))\n",
    "dct"
   ]
  },
  {
   "cell_type": "code",
   "execution_count": 142,
   "metadata": {
    "colab": {
     "base_uri": "https://localhost:8080/",
     "height": 627
    },
    "id": "zOxv5M2JxhCx",
    "outputId": "acc81823-a527-4cd4-f484-8ca3745cf95f"
   },
   "outputs": [
    {
     "data": {
      "image/png": "[encoded data removed]",
      "text/plain": [
       "<Figure size 1152x720 with 1 Axes>"
      ]
     },
     "metadata": {},
     "output_type": "display_data"
    }
   ],
   "source": [
    "# total_number_of_excerpts  = df_osdg['sdg'].value_counts()\n",
    "\n",
    "\n",
    "plt.figure(figsize=(16,10))\n",
    "ax = sns.barplot(list(dct.keys()), list(dct.values()), alpha=0.8)\n",
    "\n",
    "plt.title('Distribution of Texts over SDGs')\n",
    "plt.xlabel('SDG', fontsize=12)\n",
    "plt.ylabel('Count', fontsize=12)\n",
    "\n",
    "plt.show()"
   ]
  },
  {
   "cell_type": "markdown",
   "metadata": {},
   "source": [
    "### Grid Search for XGBoost Classifier"
   ]
  },
  {
   "cell_type": "code",
   "execution_count": 164,
   "metadata": {},
   "outputs": [
    {
     "name": "stdout",
     "output_type": "stream",
     "text": [
      "\n",
      "1 of kfold 10\n",
      "{'min_child_weight': 9.1}\n",
      "accuracy_score 0.9181877872619829\n",
      "\n",
      "2 of kfold 10\n",
      "{'min_child_weight': 5.3}\n",
      "accuracy_score 0.9176625082074852\n",
      "\n",
      "3 of kfold 10\n",
      "{'min_child_weight': 1.4000000000000001}\n",
      "accuracy_score 0.9179251477347341\n",
      "\n",
      "4 of kfold 10\n",
      "{'min_child_weight': 5.9}\n",
      "accuracy_score 0.9189100459619173\n",
      "\n",
      "5 of kfold 10\n",
      "{'min_child_weight': 7.1}\n",
      "accuracy_score 0.9184450719022916\n",
      "\n",
      "6 of kfold 10\n",
      "{'min_child_weight': 2.1}\n",
      "accuracy_score 0.9186420644822378\n",
      "\n",
      "7 of kfold 10\n",
      "{'min_child_weight': 5.3}\n",
      "accuracy_score 0.9180510867423993\n",
      "\n",
      "8 of kfold 10\n",
      "{'min_child_weight': 5.3}\n",
      "accuracy_score 0.9167378028760916\n",
      "\n",
      "9 of kfold 10\n",
      "{'min_child_weight': 6.7}\n",
      "accuracy_score 0.9206119902816994\n",
      "\n",
      "10 of kfold 10\n",
      "{'min_child_weight': 8.0}\n",
      "accuracy_score 0.9210716396349071\n"
     ]
    }
   ],
   "source": [
    "from xgboost import XGBClassifier\n",
    "from sklearn.model_selection import GridSearchCV\n",
    "from sklearn.model_selection import StratifiedKFold\n",
    "from sklearn.metrics import accuracy_score\n",
    "\n",
    "param_grid = [{'min_child_weight': np.arange(0.1, 10.1, 0.1)}] #set of trial values for min_child_weight\n",
    "i=1\n",
    "kf = StratifiedKFold(n_splits = 10, random_state = 1, shuffle = True)\n",
    "for train_index,test_index in kf.split(X,y):\n",
    "     print('\\n{} of kfold {}'.format(i,kf.n_splits))\n",
    "     xtr,xvl = X.loc[train_index],X.loc[test_index]\n",
    "     ytr,yvl = y[train_index],y[test_index]\n",
    "     model = GridSearchCV(XGBClassifier(), param_grid, cv=10, scoring= 'f1')\n",
    "     model.fit(xtr, ytr)\n",
    "     print (model.best_params_)\n",
    "     pred=model.predict(xvl)\n",
    "     print('accuracy_score',accuracy_score(yvl,pred))\n",
    "     i+=1"
   ]
  },
  {
   "cell_type": "markdown",
   "metadata": {},
   "source": [
    "### Sample Approach"
   ]
  },
  {
   "cell_type": "code",
   "execution_count": 196,
   "metadata": {},
   "outputs": [
    {
     "data": {
      "text/plain": [
       "Fire\n",
       "0       136909\n",
       "1        15385\n",
       "dtype: int64"
      ]
     },
     "execution_count": 196,
     "metadata": {},
     "output_type": "execute_result"
    }
   ],
   "source": [
    "normalized_data_df.value_counts([\"Fire\"])"
   ]
  },
  {
   "cell_type": "code",
   "execution_count": 414,
   "metadata": {},
   "outputs": [],
   "source": [
    "s0 = normalized_data_df.Fire[normalized_data_df.Fire.eq(0)].sample(5111).index\n",
    "s1 = normalized_data_df.Fire[normalized_data_df.Fire.eq(1)].sample(5111).index\n",
    "\n",
    "master_dataset = normalized_data_df.loc[s0.union(s1)]\n",
    "\n",
    "X_s = master_dataset.drop(columns = 'Fire')\n",
    "y_s = master_dataset.Fire\n",
    "\n",
    "X_train_s, X_test_s, y_train_s, y_test_s = train_test_split(X_s, y_s, test_size = 0.3, random_state = 1)"
   ]
  },
  {
   "cell_type": "code",
   "execution_count": 415,
   "metadata": {},
   "outputs": [],
   "source": [
    "ss = StandardScaler()\n",
    "X_train_s = ss.fit_transform(X_train_s)\n",
    "X_test_s = ss.fit_transform(X_test_s)"
   ]
  },
  {
   "cell_type": "code",
   "execution_count": 347,
   "metadata": {},
   "outputs": [
    {
     "name": "stdout",
     "output_type": "stream",
     "text": [
      "Training accuracy: 0.926\n",
      "Test accuracy: 0.784\n",
      "              precision    recall  f1-score   support\n",
      "\n",
      "           0       0.78      0.78      0.78      1487\n",
      "           1       0.79      0.79      0.79      1580\n",
      "\n",
      "    accuracy                           0.78      3067\n",
      "   macro avg       0.78      0.78      0.78      3067\n",
      "weighted avg       0.78      0.78      0.78      3067\n",
      "\n"
     ]
    },
    {
     "data": {
      "text/plain": [
       "<AxesSubplot:>"
      ]
     },
     "execution_count": 347,
     "metadata": {},
     "output_type": "execute_result"
    },
    {
     "data": {
      "image/png": "[encoded data removed]",
      "text/plain": [
       "<Figure size 1080x648 with 2 Axes>"
      ]
     },
     "metadata": {},
     "output_type": "display_data"
    }
   ],
   "source": [
    "xgb = XGBClassifier().fit(X_train_s, y_train_s)\n",
    "\n",
    "print('Training accuracy:', xgb.score(X_train_s, y_train_s).round(3))\n",
    "acc.append(xgb.score(X_train_s, y_train_s).round(3))\n",
    "\n",
    "print('Test accuracy:', xgb.score(X_test_s, y_test_s).round(3))\n",
    "y_hat_rf_s = xgb.predict(X_test_s)\n",
    "print(classification_report(y_test_s, y_hat_rf_s))\n",
    "\n",
    "cm = confusion_matrix(y_test_s, y_hat_rf_s)\n",
    "plt.figure(figsize = (15,9))\n",
    "sns.heatmap(cm, linewidths=1, annot=True, fmt='g')"
   ]
  },
  {
   "cell_type": "code",
   "execution_count": null,
   "metadata": {},
   "outputs": [],
   "source": []
  },
  {
   "cell_type": "code",
   "execution_count": null,
   "metadata": {},
   "outputs": [],
   "source": []
  },
  {
   "cell_type": "code",
   "execution_count": null,
   "metadata": {},
   "outputs": [],
   "source": []
  }
 ],
 "metadata": {
  "colab": {
   "name": "wildfire_forecasting_full.ipynb",
   "provenance": []
  },
  "kernelspec": {
   "display_name": "Python 3 (ipykernel)",
   "language": "python",
   "name": "python3"
  },
  "language_info": {
   "codemirror_mode": {
    "name": "ipython",
    "version": 3
   },
   "file_extension": ".py",
   "mimetype": "text/x-python",
   "name": "python",
   "nbconvert_exporter": "python",
   "pygments_lexer": "ipython3",
   "version": "3.9.12"
  }
 },
 "nbformat": 4,
 "nbformat_minor": 1
}
