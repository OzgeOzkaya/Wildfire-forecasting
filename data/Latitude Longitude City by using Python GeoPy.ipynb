{
 "cells": [
  {
   "cell_type": "code",
   "execution_count": 2,
   "metadata": {},
   "outputs": [],
   "source": [
    "# Import packages\n",
    "import pandas as pd\n",
    "import numpy as np"
   ]
  },
  {
   "cell_type": "code",
   "execution_count": 3,
   "metadata": {},
   "outputs": [],
   "source": [
    "df_modis_09 = pd.read_csv('modis_2009_Turkey.csv')"
   ]
  },
  {
   "cell_type": "code",
   "execution_count": 2,
   "metadata": {},
   "outputs": [],
   "source": [
    "df_modis_17 = pd.read_csv('modis_2017_Turkey.csv')"
   ]
  },
  {
   "cell_type": "code",
   "execution_count": 15,
   "metadata": {},
   "outputs": [],
   "source": [
    "df_modis_2020 = pd.read_csv('modis_2020_Turkey.csv')"
   ]
  },
  {
   "cell_type": "markdown",
   "metadata": {},
   "source": [
    "---\n",
    "## 2017"
   ]
  },
  {
   "cell_type": "code",
   "execution_count": 4,
   "metadata": {},
   "outputs": [],
   "source": [
    "latlong = df_modis_17[['latitude','longitude']]"
   ]
  },
  {
   "cell_type": "code",
   "execution_count": 5,
   "metadata": {},
   "outputs": [
    {
     "name": "stderr",
     "output_type": "stream",
     "text": [
      "<ipython-input-5-21fd5bff157a>:1: SettingWithCopyWarning: \n",
      "A value is trying to be set on a copy of a slice from a DataFrame.\n",
      "Try using .loc[row_indexer,col_indexer] = value instead\n",
      "\n",
      "See the caveats in the documentation: https://pandas.pydata.org/pandas-docs/stable/user_guide/indexing.html#returning-a-view-versus-a-copy\n",
      "  latlong['province'] = 0\n"
     ]
    }
   ],
   "source": [
    "latlong['province'] = 0"
   ]
  },
  {
   "cell_type": "code",
   "execution_count": 6,
   "metadata": {},
   "outputs": [
    {
     "data": {
      "text/html": [
       "<div>\n",
       "<style scoped>\n",
       "    .dataframe tbody tr th:only-of-type {\n",
       "        vertical-align: middle;\n",
       "    }\n",
       "\n",
       "    .dataframe tbody tr th {\n",
       "        vertical-align: top;\n",
       "    }\n",
       "\n",
       "    .dataframe thead th {\n",
       "        text-align: right;\n",
       "    }\n",
       "</style>\n",
       "<table border=\"1\" class=\"dataframe\">\n",
       "  <thead>\n",
       "    <tr style=\"text-align: right;\">\n",
       "      <th></th>\n",
       "      <th>latitude</th>\n",
       "      <th>longitude</th>\n",
       "      <th>province</th>\n",
       "    </tr>\n",
       "  </thead>\n",
       "  <tbody>\n",
       "    <tr>\n",
       "      <th>9593</th>\n",
       "      <td>37.0875</td>\n",
       "      <td>40.3072</td>\n",
       "      <td>0</td>\n",
       "    </tr>\n",
       "    <tr>\n",
       "      <th>9594</th>\n",
       "      <td>37.2279</td>\n",
       "      <td>40.0727</td>\n",
       "      <td>0</td>\n",
       "    </tr>\n",
       "    <tr>\n",
       "      <th>9595</th>\n",
       "      <td>37.1779</td>\n",
       "      <td>40.4547</td>\n",
       "      <td>0</td>\n",
       "    </tr>\n",
       "  </tbody>\n",
       "</table>\n",
       "</div>"
      ],
      "text/plain": [
       "      latitude  longitude  province\n",
       "9593   37.0875    40.3072         0\n",
       "9594   37.2279    40.0727         0\n",
       "9595   37.1779    40.4547         0"
      ]
     },
     "execution_count": 6,
     "metadata": {},
     "output_type": "execute_result"
    }
   ],
   "source": [
    "latlong.tail(3)"
   ]
  },
  {
   "cell_type": "code",
   "execution_count": 5,
   "metadata": {},
   "outputs": [],
   "source": [
    "# import module\n",
    "from geopy.geocoders import Nominatim\n",
    "# initialize Nominatim API\n",
    "geolocator = Nominatim(user_agent=\"geoapiExercises\")"
   ]
  },
  {
   "cell_type": "code",
   "execution_count": 8,
   "metadata": {},
   "outputs": [
    {
     "name": "stderr",
     "output_type": "stream",
     "text": [
      "C:\\Users\\halea\\anaconda3\\lib\\site-packages\\pandas\\core\\indexing.py:1765: SettingWithCopyWarning: \n",
      "A value is trying to be set on a copy of a slice from a DataFrame.\n",
      "Try using .loc[row_indexer,col_indexer] = value instead\n",
      "\n",
      "See the caveats in the documentation: https://pandas.pydata.org/pandas-docs/stable/user_guide/indexing.html#returning-a-view-versus-a-copy\n",
      "  isetter(loc, value)\n"
     ]
    }
   ],
   "source": [
    "for i in latlong.index:\n",
    "    latitude = str(latlong.iloc[i,0])\n",
    "    longitude = str(latlong.iloc[i,1])\n",
    "    location = geolocator.reverse(latitude+\",\"+longitude)\n",
    "    address = location.raw['address']\n",
    "    city = address.get('city', '')\n",
    "    province = address.get('province', '')\n",
    "    if province != '':\n",
    "        latlong.iloc[i,2] = province\n",
    "    else:\n",
    "        latlong.iloc[i,2] = city\n",
    "    "
   ]
  },
  {
   "cell_type": "code",
   "execution_count": 11,
   "metadata": {},
   "outputs": [
    {
     "data": {
      "text/plain": [
       "array(['Hatay', 'Mardin', 'Şanlıurfa', 'Samsun', 'Elâzığ', 'Adana',\n",
       "       'Mersin', 'Gaziantep', 'Batman', 'Diyarbakır', 'Osmaniye', 'Siirt',\n",
       "       'Malatya', 'Antalya', 'Denizli', 'Ankara', 'Afyonkarahisar',\n",
       "       'Kayseri', 'Manisa', 'Bursa', 'Kahramanmaraş', 'Isparta', 'Uşak',\n",
       "       'Kırşehir', 'İzmir', 'Aydın', 'Muğla', 'Edirne', 'Balıkesir',\n",
       "       'Kırıkkale', 'Niğde', 'Burdur', 'Sakarya', 'Çorum', 'Adıyaman',\n",
       "       'Zonguldak', 'Çanakkale', 'Nevşehir', 'Yozgat', 'Aksaray', '',\n",
       "       'Kocaeli', 'Çankırı', 'Konya', 'Karaman', 'Rize', 'Kastamonu',\n",
       "       'Ordu', 'Şırnak', 'Erzincan', 'Sivas', 'Tekirdağ', 'Kütahya',\n",
       "       'Karabük', 'Sinop', 'Bilecik', 'Iğdır', 'Kırklareli', 'Kars',\n",
       "       'Erzurum', 'Van', 'دهستان قره سو', 'دهستان چایباسارشمالی',\n",
       "       'İstanbul', 'Ardahan', 'Bitlis', 'Giresun', 'Trabzon', 'Muş',\n",
       "       'پارێزگای دھۆک', 'Bolu', 'Düzce', 'Amasya', 'Kilis', 'Hakkâri',\n",
       "       'Tunceli', 'Ağrı', 'Маточина', 'Bingöl', 'Artvin', 'Bayburt',\n",
       "       'Gümüşhane', 'Eskişehir'], dtype=object)"
      ]
     },
     "execution_count": 11,
     "metadata": {},
     "output_type": "execute_result"
    }
   ],
   "source": [
    "latlong.province.unique()"
   ]
  },
  {
   "cell_type": "code",
   "execution_count": 12,
   "metadata": {},
   "outputs": [],
   "source": [
    "latlong.to_csv('lat_long_city.csv', index=False)"
   ]
  },
  {
   "cell_type": "markdown",
   "metadata": {},
   "source": [
    "---  \n",
    "## 2009"
   ]
  },
  {
   "cell_type": "code",
   "execution_count": 6,
   "metadata": {},
   "outputs": [],
   "source": [
    "latlong2 = df_modis_09[['latitude','longitude']]"
   ]
  },
  {
   "cell_type": "code",
   "execution_count": 7,
   "metadata": {},
   "outputs": [
    {
     "name": "stderr",
     "output_type": "stream",
     "text": [
      "<ipython-input-7-b2a1f3ac24fb>:1: SettingWithCopyWarning: \n",
      "A value is trying to be set on a copy of a slice from a DataFrame.\n",
      "Try using .loc[row_indexer,col_indexer] = value instead\n",
      "\n",
      "See the caveats in the documentation: https://pandas.pydata.org/pandas-docs/stable/user_guide/indexing.html#returning-a-view-versus-a-copy\n",
      "  latlong2['province'] = 0\n"
     ]
    }
   ],
   "source": [
    "latlong2['province'] = 0"
   ]
  },
  {
   "cell_type": "code",
   "execution_count": 8,
   "metadata": {},
   "outputs": [
    {
     "data": {
      "text/html": [
       "<div>\n",
       "<style scoped>\n",
       "    .dataframe tbody tr th:only-of-type {\n",
       "        vertical-align: middle;\n",
       "    }\n",
       "\n",
       "    .dataframe tbody tr th {\n",
       "        vertical-align: top;\n",
       "    }\n",
       "\n",
       "    .dataframe thead th {\n",
       "        text-align: right;\n",
       "    }\n",
       "</style>\n",
       "<table border=\"1\" class=\"dataframe\">\n",
       "  <thead>\n",
       "    <tr style=\"text-align: right;\">\n",
       "      <th></th>\n",
       "      <th>latitude</th>\n",
       "      <th>longitude</th>\n",
       "      <th>province</th>\n",
       "    </tr>\n",
       "  </thead>\n",
       "  <tbody>\n",
       "    <tr>\n",
       "      <th>19976</th>\n",
       "      <td>37.0435</td>\n",
       "      <td>39.0057</td>\n",
       "      <td>0</td>\n",
       "    </tr>\n",
       "    <tr>\n",
       "      <th>19977</th>\n",
       "      <td>37.0090</td>\n",
       "      <td>38.9627</td>\n",
       "      <td>0</td>\n",
       "    </tr>\n",
       "    <tr>\n",
       "      <th>19978</th>\n",
       "      <td>37.0327</td>\n",
       "      <td>39.0864</td>\n",
       "      <td>0</td>\n",
       "    </tr>\n",
       "  </tbody>\n",
       "</table>\n",
       "</div>"
      ],
      "text/plain": [
       "       latitude  longitude  province\n",
       "19976   37.0435    39.0057         0\n",
       "19977   37.0090    38.9627         0\n",
       "19978   37.0327    39.0864         0"
      ]
     },
     "execution_count": 8,
     "metadata": {},
     "output_type": "execute_result"
    }
   ],
   "source": [
    "latlong2.tail(3)"
   ]
  },
  {
   "cell_type": "code",
   "execution_count": 9,
   "metadata": {},
   "outputs": [
    {
     "name": "stderr",
     "output_type": "stream",
     "text": [
      "C:\\Users\\halea\\anaconda3\\lib\\site-packages\\pandas\\core\\indexing.py:1765: SettingWithCopyWarning: \n",
      "A value is trying to be set on a copy of a slice from a DataFrame.\n",
      "Try using .loc[row_indexer,col_indexer] = value instead\n",
      "\n",
      "See the caveats in the documentation: https://pandas.pydata.org/pandas-docs/stable/user_guide/indexing.html#returning-a-view-versus-a-copy\n",
      "  isetter(loc, value)\n"
     ]
    }
   ],
   "source": [
    "for i in latlong2.index:\n",
    "    latitude = str(latlong2.iloc[i,0])\n",
    "    longitude = str(latlong2.iloc[i,1])\n",
    "    location = geolocator.reverse(latitude+\",\"+longitude)\n",
    "    address = location.raw['address']\n",
    "    city = address.get('city', '')\n",
    "    province = address.get('province', '')\n",
    "    if province != '':\n",
    "        latlong2.iloc[i,2] = province\n",
    "    else:\n",
    "        latlong2.iloc[i,2] = city"
   ]
  },
  {
   "cell_type": "code",
   "execution_count": 12,
   "metadata": {},
   "outputs": [
    {
     "data": {
      "text/plain": [
       "array(['Şanlıurfa', 'Mardin', 'Gaziantep', '', 'Uşak', 'Hatay',\n",
       "       'پارێزگای دھۆک', 'Şırnak', 'Zonguldak', 'Mersin', 'Diyarbakır',\n",
       "       'Adana', 'Manisa', 'Konya', 'Çanakkale', 'Balıkesir', 'Bursa',\n",
       "       'Osmaniye', 'Kırıkkale', 'Edirne', 'Antalya', 'İzmir', 'Denizli',\n",
       "       'Karaman', 'Ankara', 'Isparta', 'Burdur', 'Çorum', 'Kahramanmaraş',\n",
       "       'Iğdır', 'Eskişehir', 'Tekirdağ', 'Sakarya', 'Elâzığ',\n",
       "       'Kırklareli', 'Artvin', 'Erzincan', 'Yozgat', 'Erzurum',\n",
       "       'Afyonkarahisar', 'Kastamonu', 'Muş', 'Bitlis', 'Aydın',\n",
       "       'Adıyaman', 'Sivas', 'Ordu', 'Malatya', 'Karabük', 'Kayseri',\n",
       "       'Niğde', 'Kocaeli', 'İstanbul', 'Giresun', 'Trabzon', 'Aksaray',\n",
       "       'Kilis', 'Kütahya', 'Hakkâri', 'Bartın', 'Bilecik', 'Samsun',\n",
       "       'Batman', 'Маточина', 'Amasya', 'Kırşehir', 'Siirt', 'Düzce',\n",
       "       'Çankırı', 'Muğla', 'Nevşehir', 'Bolu', 'Ağrı', 'Bingöl', 'Van',\n",
       "       'Tunceli', 'Sinop', 'Ardahan'], dtype=object)"
      ]
     },
     "execution_count": 12,
     "metadata": {},
     "output_type": "execute_result"
    }
   ],
   "source": [
    "latlong2.province.unique()"
   ]
  },
  {
   "cell_type": "code",
   "execution_count": 14,
   "metadata": {},
   "outputs": [],
   "source": [
    "latlong2.to_csv('lat_long_city2009.csv', index=False)"
   ]
  },
  {
   "cell_type": "markdown",
   "metadata": {},
   "source": [
    "---\n",
    "## 2020"
   ]
  },
  {
   "cell_type": "code",
   "execution_count": 17,
   "metadata": {},
   "outputs": [],
   "source": [
    "latlong2020 = df_modis_2020[['latitude','longitude']]"
   ]
  },
  {
   "cell_type": "code",
   "execution_count": 18,
   "metadata": {},
   "outputs": [
    {
     "name": "stderr",
     "output_type": "stream",
     "text": [
      "<ipython-input-18-2fc3bbe34c58>:1: SettingWithCopyWarning: \n",
      "A value is trying to be set on a copy of a slice from a DataFrame.\n",
      "Try using .loc[row_indexer,col_indexer] = value instead\n",
      "\n",
      "See the caveats in the documentation: https://pandas.pydata.org/pandas-docs/stable/user_guide/indexing.html#returning-a-view-versus-a-copy\n",
      "  latlong2020['province'] = 0\n"
     ]
    }
   ],
   "source": [
    "latlong2020['province'] = 0"
   ]
  },
  {
   "cell_type": "code",
   "execution_count": 19,
   "metadata": {},
   "outputs": [
    {
     "data": {
      "text/html": [
       "<div>\n",
       "<style scoped>\n",
       "    .dataframe tbody tr th:only-of-type {\n",
       "        vertical-align: middle;\n",
       "    }\n",
       "\n",
       "    .dataframe tbody tr th {\n",
       "        vertical-align: top;\n",
       "    }\n",
       "\n",
       "    .dataframe thead th {\n",
       "        text-align: right;\n",
       "    }\n",
       "</style>\n",
       "<table border=\"1\" class=\"dataframe\">\n",
       "  <thead>\n",
       "    <tr style=\"text-align: right;\">\n",
       "      <th></th>\n",
       "      <th>latitude</th>\n",
       "      <th>longitude</th>\n",
       "      <th>province</th>\n",
       "    </tr>\n",
       "  </thead>\n",
       "  <tbody>\n",
       "    <tr>\n",
       "      <th>8831</th>\n",
       "      <td>37.2894</td>\n",
       "      <td>39.6252</td>\n",
       "      <td>0</td>\n",
       "    </tr>\n",
       "    <tr>\n",
       "      <th>8832</th>\n",
       "      <td>37.1717</td>\n",
       "      <td>39.1480</td>\n",
       "      <td>0</td>\n",
       "    </tr>\n",
       "    <tr>\n",
       "      <th>8833</th>\n",
       "      <td>37.2925</td>\n",
       "      <td>39.7023</td>\n",
       "      <td>0</td>\n",
       "    </tr>\n",
       "  </tbody>\n",
       "</table>\n",
       "</div>"
      ],
      "text/plain": [
       "      latitude  longitude  province\n",
       "8831   37.2894    39.6252         0\n",
       "8832   37.1717    39.1480         0\n",
       "8833   37.2925    39.7023         0"
      ]
     },
     "execution_count": 19,
     "metadata": {},
     "output_type": "execute_result"
    }
   ],
   "source": [
    "latlong2020.tail(3)"
   ]
  },
  {
   "cell_type": "code",
   "execution_count": 20,
   "metadata": {},
   "outputs": [
    {
     "name": "stderr",
     "output_type": "stream",
     "text": [
      "C:\\Users\\halea\\anaconda3\\lib\\site-packages\\pandas\\core\\indexing.py:1765: SettingWithCopyWarning: \n",
      "A value is trying to be set on a copy of a slice from a DataFrame.\n",
      "Try using .loc[row_indexer,col_indexer] = value instead\n",
      "\n",
      "See the caveats in the documentation: https://pandas.pydata.org/pandas-docs/stable/user_guide/indexing.html#returning-a-view-versus-a-copy\n",
      "  isetter(loc, value)\n"
     ]
    }
   ],
   "source": [
    "for i in latlong2020.index:\n",
    "    latitude = str(latlong2020.iloc[i,0])\n",
    "    longitude = str(latlong2020.iloc[i,1])\n",
    "    location = geolocator.reverse(latitude+\",\"+longitude)\n",
    "    address = location.raw['address']\n",
    "    city = address.get('city', '')\n",
    "    province = address.get('province', '')\n",
    "    if province != '':\n",
    "        latlong2020.iloc[i,2] = province\n",
    "    else:\n",
    "        latlong2020.iloc[i,2] = city"
   ]
  },
  {
   "cell_type": "code",
   "execution_count": 25,
   "metadata": {},
   "outputs": [
    {
     "data": {
      "text/plain": [
       "array(['Hatay', 'Batman', 'Adıyaman', 'Zonguldak', 'Edirne', 'Balıkesir',\n",
       "       'Şanlıurfa', 'Mardin', 'Elâzığ', 'Kırşehir', 'Denizli', 'Aydın',\n",
       "       'Burdur', 'İzmir', 'Manisa', 'Konya', 'Antalya', 'Uşak', 'Ankara',\n",
       "       'Isparta', '', 'Kahramanmaraş', 'Mersin', 'Gaziantep', 'Samsun',\n",
       "       'Afyonkarahisar', 'Malatya', 'Adana', 'Çorum', 'Kastamonu',\n",
       "       'Çankırı', 'Amasya', 'Diyarbakır', 'Osmaniye', 'Iğdır', 'Bilecik',\n",
       "       'Bursa', 'İstanbul', 'Karaman', 'Karabük', 'Çanakkale', 'Nevşehir',\n",
       "       'Kırıkkale', 'Şırnak', 'Ordu', 'Sivas', 'Aksaray', 'Muğla',\n",
       "       'Sinop', 'Tunceli', 'Siirt', 'Kırklareli', 'Erzurum', 'Yozgat',\n",
       "       'Van', 'Erzincan', 'Tekirdağ', 'Eskişehir', 'Kayseri', 'Kütahya',\n",
       "       'Sakarya', 'Kocaeli', 'Giresun', 'Rize', 'Niğde', 'Ağrı', 'Tokat',\n",
       "       'Muş', 'Düzce', 'Bartın', 'Hakkâri', 'Kilis', 'Bolu', 'Trabzon',\n",
       "       'پارێزگای دھۆک', 'دهستان قره سو', 'دهستان چایباسارشمالی', 'Bitlis',\n",
       "       'Artvin', 'Bingöl', 'Kars', 'Bayburt', 'Gümüşhane', 'Ardahan'],\n",
       "      dtype=object)"
      ]
     },
     "execution_count": 25,
     "metadata": {},
     "output_type": "execute_result"
    }
   ],
   "source": [
    "latlong2020.province.unique()"
   ]
  },
  {
   "cell_type": "code",
   "execution_count": 26,
   "metadata": {},
   "outputs": [],
   "source": [
    "latlong2020.to_csv('lat_long_city2020.csv', index=False)"
   ]
  },
  {
   "cell_type": "code",
   "execution_count": null,
   "metadata": {},
   "outputs": [],
   "source": []
  },
  {
   "cell_type": "code",
   "execution_count": null,
   "metadata": {},
   "outputs": [],
   "source": []
  }
 ],
 "metadata": {
  "kernelspec": {
   "display_name": "Python 3",
   "language": "python",
   "name": "python3"
  },
  "language_info": {
   "codemirror_mode": {
    "name": "ipython",
    "version": 3
   },
   "file_extension": ".py",
   "mimetype": "text/x-python",
   "name": "python",
   "nbconvert_exporter": "python",
   "pygments_lexer": "ipython3",
   "version": "3.8.5"
  }
 },
 "nbformat": 4,
 "nbformat_minor": 4
}
